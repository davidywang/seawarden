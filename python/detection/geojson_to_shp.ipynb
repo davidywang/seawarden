{
 "cells": [
  {
   "cell_type": "code",
   "execution_count": 1,
   "metadata": {},
   "outputs": [],
   "source": [
    "import geopandas as gpd\n",
    "file = gpd.read_file(\n",
    "    '/Users/Zack/Desktop/buffer.geojson')\n",
    "    #'/Users/Zack/0_GIS_Greece/exclusions/exclusions.shp')\n",
    "\n",
    "file.to_file(\n",
    "    #'/Users/Zack/0_GIS_Greece/exclusions/exclusions.geojson', driver=\"GeoJSON\")\n",
    "    '/Users/Zack/Desktop/buffer.shp')\n"
   ]
  }
 ],
 "metadata": {
  "kernelspec": {
   "display_name": "Python 3",
   "language": "python",
   "name": "python3"
  },
  "language_info": {
   "codemirror_mode": {
    "name": "ipython",
    "version": 3
   },
   "file_extension": ".py",
   "mimetype": "text/x-python",
   "name": "python",
   "nbconvert_exporter": "python",
   "pygments_lexer": "ipython3",
   "version": "3.7.4"
  }
 },
 "nbformat": 4,
 "nbformat_minor": 2
}
