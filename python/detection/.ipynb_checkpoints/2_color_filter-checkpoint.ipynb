{
 "cells": [
  {
   "cell_type": "code",
   "execution_count": 1,
   "metadata": {},
   "outputs": [],
   "source": [
    "#input files\n",
    "import os \n",
    "import geopandas as gpd\n",
    "from shapely.geometry import Point\n",
    "folder = '/Users/Zack/0_thesis_bing/images/'"
   ]
  },
  {
   "cell_type": "code",
   "execution_count": 2,
   "metadata": {},
   "outputs": [],
   "source": [
    "#https://www.timpoulsen.com/2018/finding-the-dominant-colors-of-an-image.html\n",
    "# import cv2\n",
    "# import numpy as np\n",
    "\n",
    "# #function to generate mean color of an image\n",
    "# def mean_rgb(folder, file):\n",
    "#     img = cv2.imread(folder + file)\n",
    "#     height, width, _ = np.shape(img)\n",
    "#     avg_color_per_row = np.average(img, axis=0)\n",
    "#     avg_colors = np.average(avg_color_per_row, axis=0)\n",
    "#     int_averages = np.array(avg_colors, dtype=np.uint8)\n",
    "#     return int_averages.tolist()\n",
    "\n",
    "# mean_rgb(folder, file)"
   ]
  },
  {
   "cell_type": "code",
   "execution_count": 3,
   "metadata": {},
   "outputs": [],
   "source": [
    "#sort images by size (reverse=False: smallest to largest)\n",
    "def get_files_by_file_size(dirname, reverse=False):  \n",
    "    \n",
    "    # Get list of files\n",
    "    filepaths = []\n",
    "    for basename in os.listdir(dirname):\n",
    "        filename = os.path.join(dirname, basename)\n",
    "        if os.path.isfile(filename):\n",
    "            filepaths.append(filename)\n",
    "\n",
    "    # Re-populate list with filename, size tuples\n",
    "    for i in range(len(filepaths)):\n",
    "        filepaths[i] = (filepaths[i], os.path.getsize(filepaths[i]))\n",
    "        \n",
    "    filepaths.sort(key=lambda filename: filename[1], reverse=reverse)\n",
    "    \n",
    "    # Re-populate list with just filenames\n",
    "    for i in range(len(filepaths)):\n",
    "        filepaths[i] = filepaths[i][0]\n",
    "    \n",
    "    return filepaths"
   ]
  },
  {
   "cell_type": "code",
   "execution_count": 40,
   "metadata": {},
   "outputs": [],
   "source": [
    "#https://www.dataquest.io/blog/tutorial-colors-image-clustering-python/\n",
    "import scipy\n",
    "import pandas as pd \n",
    "from matplotlib import image as img\n",
    "from scipy.cluster.vq import whiten, kmeans\n",
    "\n",
    "#convert rgb to hex\n",
    "def rgb_to_hex(rgb):\n",
    "    rgb = (int(rgb[0]), int(rgb[1]), int(rgb[2]))\n",
    "    return '%02x%02x%02x' % rgb  \n",
    "\n",
    "#identify dominant color in an image\n",
    "def dom_rgb(file):\n",
    "    image = img.imread(file)\n",
    "#     #plot image\n",
    "#     print(image.shape)\n",
    "#     plt.imshow(image)\n",
    "#     plt.show()\n",
    "\n",
    "    #generate data frame\n",
    "    r, g, b = [], [], []\n",
    "    for line in image:\n",
    "        for pixel in line:\n",
    "            temp_r, temp_g, temp_b = pixel\n",
    "            r.append(temp_r)\n",
    "            g.append(temp_g)\n",
    "            b.append(temp_b)\n",
    "            \n",
    "    #plot\n",
    "#     from mpl_toolkits.mplot3d import Axes3D\n",
    "#     fig = plt.figure()\n",
    "#     ax = Axes3D(fig)\n",
    "#     ax.scatter(r, g, b)\n",
    "#     plt.show()\n",
    "\n",
    "    df = pd.DataFrame({'red': r,'blue': b,'green': g})\n",
    "    df['scaled_red'] = whiten(df['red'])\n",
    "    df['scaled_blue'] = whiten(df['blue'])\n",
    "    df['scaled_green'] = whiten(df['green'])\n",
    "\n",
    "    cluster_center, distortion = kmeans(df[['scaled_red', 'scaled_green', 'scaled_blue']], 1)\n",
    "\n",
    "    std = df[['red', 'green', 'blue']].std()\n",
    "    r=cluster_center[0][0] * std[0]\n",
    "    g=cluster_center[0][1] * std[1]\n",
    "    b=cluster_center[0][2] * std[2]\n",
    "    rgb = [round(r), round(g), round(b)]\n",
    "    return rgb"
   ]
  },
  {
   "cell_type": "code",
   "execution_count": 46,
   "metadata": {},
   "outputs": [
    {
     "name": "stdout",
     "output_type": "stream",
     "text": [
      "3816\n",
      "180\n",
      "(180, 4)\n"
     ]
    },
    {
     "data": {
      "text/html": [
       "<div>\n",
       "<style scoped>\n",
       "    .dataframe tbody tr th:only-of-type {\n",
       "        vertical-align: middle;\n",
       "    }\n",
       "\n",
       "    .dataframe tbody tr th {\n",
       "        vertical-align: top;\n",
       "    }\n",
       "\n",
       "    .dataframe thead th {\n",
       "        text-align: right;\n",
       "    }\n",
       "</style>\n",
       "<table border=\"1\" class=\"dataframe\">\n",
       "  <thead>\n",
       "    <tr style=\"text-align: right;\">\n",
       "      <th></th>\n",
       "      <th>image</th>\n",
       "      <th>rgb</th>\n",
       "      <th>hex</th>\n",
       "      <th>geometry</th>\n",
       "    </tr>\n",
       "  </thead>\n",
       "  <tbody>\n",
       "    <tr>\n",
       "      <td>42</td>\n",
       "      <td>/Users/Zack/0_thesis_bing/images/image_(19, 37...</td>\n",
       "      <td>[3.0, 29.0, 20.0]</td>\n",
       "      <td>031d14</td>\n",
       "      <td>POINT (23.42744 37.74417)</td>\n",
       "    </tr>\n",
       "    <tr>\n",
       "      <td>1</td>\n",
       "      <td>/Users/Zack/0_thesis_bing/images/image_(19, 37...</td>\n",
       "      <td>[4.0, 23.0, 21.0]</td>\n",
       "      <td>041715</td>\n",
       "      <td>POINT (23.68244 37.93093)</td>\n",
       "    </tr>\n",
       "    <tr>\n",
       "      <td>65</td>\n",
       "      <td>/Users/Zack/0_thesis_bing/images/image_(19, 37...</td>\n",
       "      <td>[5.0, 17.0, 15.0]</td>\n",
       "      <td>05110f</td>\n",
       "      <td>POINT (23.51311 38.00514)</td>\n",
       "    </tr>\n",
       "    <tr>\n",
       "      <td>2</td>\n",
       "      <td>/Users/Zack/0_thesis_bing/images/image_(19, 38...</td>\n",
       "      <td>[8.0, 6.0, 17.0]</td>\n",
       "      <td>080611</td>\n",
       "      <td>POINT (23.49802 38.01016)</td>\n",
       "    </tr>\n",
       "    <tr>\n",
       "      <td>137</td>\n",
       "      <td>/Users/Zack/0_thesis_bing/images/image_(19, 37...</td>\n",
       "      <td>[8.0, 17.0, 16.0]</td>\n",
       "      <td>081110</td>\n",
       "      <td>POINT (23.51372 38.01056)</td>\n",
       "    </tr>\n",
       "  </tbody>\n",
       "</table>\n",
       "</div>"
      ],
      "text/plain": [
       "                                                 image                rgb  \\\n",
       "42   /Users/Zack/0_thesis_bing/images/image_(19, 37...  [3.0, 29.0, 20.0]   \n",
       "1    /Users/Zack/0_thesis_bing/images/image_(19, 37...  [4.0, 23.0, 21.0]   \n",
       "65   /Users/Zack/0_thesis_bing/images/image_(19, 37...  [5.0, 17.0, 15.0]   \n",
       "2    /Users/Zack/0_thesis_bing/images/image_(19, 38...   [8.0, 6.0, 17.0]   \n",
       "137  /Users/Zack/0_thesis_bing/images/image_(19, 37...  [8.0, 17.0, 16.0]   \n",
       "\n",
       "        hex                   geometry  \n",
       "42   031d14  POINT (23.42744 37.74417)  \n",
       "1    041715  POINT (23.68244 37.93093)  \n",
       "65   05110f  POINT (23.51311 38.00514)  \n",
       "2    080611  POINT (23.49802 38.01016)  \n",
       "137  081110  POINT (23.51372 38.01056)  "
      ]
     },
     "execution_count": 46,
     "metadata": {},
     "output_type": "execute_result"
    }
   ],
   "source": [
    "files = get_files_by_file_size(folder, reverse=False)\n",
    "f = files[20:len(files)]\n",
    "f = files[20:200]\n",
    "print(len(files))\n",
    "print(len(f))\n",
    "\n",
    "#generate dominant color for all images in folder\n",
    "rgb_values, hex_values = [], []\n",
    "for i in (f):\n",
    "    rgb = dom_rgb(i)\n",
    "    hex_color = rgb_to_hex(rgb)\n",
    "    rgb_values.append(rgb)\n",
    "    hex_values.append(hex_color)   \n",
    "\n",
    "#add centroid data drame\n",
    "x_list, y_list = [], []\n",
    "for i in (f):\n",
    "    xy = i.split(\", \")\n",
    "    x = float(xy[2])\n",
    "    y = float(xy[1])\n",
    "    x_list.append(x)\n",
    "    y_list.append(y)\n",
    "\n",
    "#create datafram and sort by hex value\n",
    "color_list = pd.DataFrame({'image': f,\n",
    "                           'rgb' : rgb_values, \n",
    "                           'hex' : hex_values}).sort_values(by='hex')\n",
    "\n",
    "color_list = gpd.GeoDataFrame(color_list, \n",
    "                              crs = {'init' :'epsg:4326'},\n",
    "                              geometry = [Point(xy) for xy in zip(x_list, y_list)])\n",
    "print(color_list.shape)\n",
    "color_list.head()"
   ]
  },
  {
   "cell_type": "code",
   "execution_count": 47,
   "metadata": {
    "scrolled": true
   },
   "outputs": [
    {
     "name": "stdout",
     "output_type": "stream",
     "text": [
      "162.0\n"
     ]
    },
    {
     "data": {
      "image/png": "[encoded data removed]",
      "text/plain": [
       "<Figure size 1440x720 with 1 Axes>"
      ]
     },
     "metadata": {
      "needs_background": "light"
     },
     "output_type": "display_data"
    }
   ],
   "source": [
    "from PIL import Image\n",
    "import numpy as np\n",
    "import matplotlib.pyplot as plt\n",
    "\n",
    "barColors = color_list['rgb'].tolist()\n",
    "barColors = (np.array(barColors)).astype(np.uint8)\n",
    "\n",
    "#creating bar image\n",
    "cols = len(barColors)\n",
    "rows = max([1,int(cols/2.5)])\n",
    "\n",
    "# Create color Array\n",
    "barFullData = np.tile(barColors, (rows,1)).reshape(rows, cols, 3)\n",
    "\n",
    "# Create Image from Array\n",
    "barImg = Image.fromarray(barFullData, 'RGB')\n",
    "\n",
    "plt.figure(figsize=(20,10))\n",
    "plt.imshow(barImg)\n",
    "\n",
    "#exclusion limit\n",
    "print(cols - (cols * .1))"
   ]
  },
  {
   "cell_type": "code",
   "execution_count": 17,
   "metadata": {},
   "outputs": [
    {
     "name": "stdout",
     "output_type": "stream",
     "text": [
      "380\n"
     ]
    }
   ],
   "source": [
    "#select exclusions\n",
    "exclude = color_list[3416:]\n",
    "print(len(exclude))\n",
    "exclude = exclude.to_crs({'init': 'epsg:2100'})\n",
    "\n",
    "#buffer centroids and make square polygons\n",
    "exclude_buffer = gpd.GeoDataFrame(geometry = exclude.buffer(5))\n",
    "# exclude_buffer.plot(edgecolor = 'black', facecolor = 'none')"
   ]
  },
  {
   "cell_type": "code",
   "execution_count": 10,
   "metadata": {
    "scrolled": true
   },
   "outputs": [],
   "source": [
    "# f = '/Users/Zack/0_GIS_Greece/'\n",
    "# search_area = gpd.read_file(f + '/AOI/' + 'mask_search_area_100m_5km.shp')\n",
    "# search_area = search_area.to_crs({'init': 'epsg:2100'})\n",
    "\n",
    "# plt.rcParams['figure.figsize'] = (20, 10)\n",
    "# ax=search_area.plot(linewidth=.5, edgecolor = 'black', facecolor = 'none')\n",
    "# exclude_buffer.plot(linewidth=1, edgecolor = 'red', facecolor = 'red', ax=ax)"
   ]
  },
  {
   "cell_type": "code",
   "execution_count": 21,
   "metadata": {},
   "outputs": [
    {
     "data": {
      "text/html": [
       "<div>\n",
       "<style scoped>\n",
       "    .dataframe tbody tr th:only-of-type {\n",
       "        vertical-align: middle;\n",
       "    }\n",
       "\n",
       "    .dataframe tbody tr th {\n",
       "        vertical-align: top;\n",
       "    }\n",
       "\n",
       "    .dataframe thead th {\n",
       "        text-align: right;\n",
       "    }\n",
       "</style>\n",
       "<table border=\"1\" class=\"dataframe\">\n",
       "  <thead>\n",
       "    <tr style=\"text-align: right;\">\n",
       "      <th></th>\n",
       "      <th>geometry</th>\n",
       "    </tr>\n",
       "  </thead>\n",
       "  <tbody>\n",
       "    <tr>\n",
       "      <td>2338</td>\n",
       "      <td>POLYGON ((394515.2497516793 4488668.066398829,...</td>\n",
       "    </tr>\n",
       "    <tr>\n",
       "      <td>2196</td>\n",
       "      <td>POLYGON ((396661.5621279264 4489959.298467763,...</td>\n",
       "    </tr>\n",
       "    <tr>\n",
       "      <td>3311</td>\n",
       "      <td>POLYGON ((406704.9156226916 4496485.168650612,...</td>\n",
       "    </tr>\n",
       "    <tr>\n",
       "      <td>3321</td>\n",
       "      <td>POLYGON ((534162.165550824 4530851.508056336, ...</td>\n",
       "    </tr>\n",
       "    <tr>\n",
       "      <td>2579</td>\n",
       "      <td>POLYGON ((708062.2218760912 3908642.669380098,...</td>\n",
       "    </tr>\n",
       "    <tr>\n",
       "      <td>...</td>\n",
       "      <td>...</td>\n",
       "    </tr>\n",
       "    <tr>\n",
       "      <td>2487</td>\n",
       "      <td>POLYGON ((469022.6450899274 4198612.923050617,...</td>\n",
       "    </tr>\n",
       "    <tr>\n",
       "      <td>1718</td>\n",
       "      <td>POLYGON ((609489.845365189 4421769.238628997, ...</td>\n",
       "    </tr>\n",
       "    <tr>\n",
       "      <td>1177</td>\n",
       "      <td>POLYGON ((477495.1605726118 4190130.87975865, ...</td>\n",
       "    </tr>\n",
       "    <tr>\n",
       "      <td>1228</td>\n",
       "      <td>POLYGON ((464452.0678191894 4208298.917099605,...</td>\n",
       "    </tr>\n",
       "    <tr>\n",
       "      <td>175</td>\n",
       "      <td>POLYGON ((172052.4169621828 4392848.37656934, ...</td>\n",
       "    </tr>\n",
       "  </tbody>\n",
       "</table>\n",
       "<p>380 rows × 1 columns</p>\n",
       "</div>"
      ],
      "text/plain": [
       "                                               geometry\n",
       "2338  POLYGON ((394515.2497516793 4488668.066398829,...\n",
       "2196  POLYGON ((396661.5621279264 4489959.298467763,...\n",
       "3311  POLYGON ((406704.9156226916 4496485.168650612,...\n",
       "3321  POLYGON ((534162.165550824 4530851.508056336, ...\n",
       "2579  POLYGON ((708062.2218760912 3908642.669380098,...\n",
       "...                                                 ...\n",
       "2487  POLYGON ((469022.6450899274 4198612.923050617,...\n",
       "1718  POLYGON ((609489.845365189 4421769.238628997, ...\n",
       "1177  POLYGON ((477495.1605726118 4190130.87975865, ...\n",
       "1228  POLYGON ((464452.0678191894 4208298.917099605,...\n",
       "175   POLYGON ((172052.4169621828 4392848.37656934, ...\n",
       "\n",
       "[380 rows x 1 columns]"
      ]
     },
     "execution_count": 21,
     "metadata": {},
     "output_type": "execute_result"
    }
   ],
   "source": [
    "exclude_export = exclude_buffer.copy()\n",
    "exclude_export"
   ]
  },
  {
   "cell_type": "code",
   "execution_count": 22,
   "metadata": {},
   "outputs": [],
   "source": [
    "# exclude_export = exclude_buffer.copy()\n",
    "# exclude_export = exclude_export['geometry'].to_crs(epsg=4326)\n",
    "# exclude_export.to_file('/Users/Zack/Desktop/buffer.shp')\n",
    "# # exclude_export.to_file('/Users/Zack/Desktop/buffer.geojson', driver='GeoJSON')\n",
    "\n",
    "# exclude_pt = exclude.copy()\n",
    "# exclude_pt = exclude_pt['geometry'].to_crs(epsg=4326)\n",
    "# exclude_pt.to_file('/Users/Zack/Desktop/exclude_pt.shp')\n",
    "\n",
    "# color_list.to_csv ('/Users/Zack/Desktop/color_list.csv', index = None, header=True)"
   ]
  }
 ],
 "metadata": {
  "kernelspec": {
   "display_name": "Python 3",
   "language": "python",
   "name": "python3"
  },
  "language_info": {
   "codemirror_mode": {
    "name": "ipython",
    "version": 3
   },
   "file_extension": ".py",
   "mimetype": "text/x-python",
   "name": "python",
   "nbconvert_exporter": "python",
   "pygments_lexer": "ipython3",
   "version": "3.7.4"
  }
 },
 "nbformat": 4,
 "nbformat_minor": 2
}
