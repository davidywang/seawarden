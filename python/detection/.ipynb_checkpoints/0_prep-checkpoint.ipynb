{
 "cells": [
  {
   "cell_type": "code",
   "execution_count": 2,
   "metadata": {},
   "outputs": [],
   "source": [
    "import pandas as pd\n",
    "import geopandas as gpd\n",
    "from geopandas.tools import sjoin\n",
    "\n",
    "from shapely.geometry import mapping\n",
    "from shapely.geometry.polygon import Polygon\n",
    "from shapely.geometry.multipolygon import MultiPolygon\n",
    "\n",
    "import matplotlib.pyplot as plt"
   ]
  },
  {
   "cell_type": "code",
   "execution_count": 6,
   "metadata": {},
   "outputs": [
    {
     "name": "stdout",
     "output_type": "stream",
     "text": [
      "detections 10041 {'init': 'epsg:2100'}\n",
      "search area 1 {'init': 'epsg:2100'}\n",
      "exclusion zones 15 {'init': 'epsg:2100'}\n"
     ]
    }
   ],
   "source": [
    "#load data layers\n",
    "f = '/Users/Zack/0_seawarden/python/detection/d1_targets/'\n",
    "pts = gpd.read_file(f + 'greece_g25_100m_10-20_01-06.geojson')\n",
    "\n",
    "f2 = '/Users/Zack/0_greece/'\n",
    "search_area = gpd.read_file(f2 + 'AOI/mask_search_area_100m_5km.shp')\n",
    "exclusion_zones = gpd.read_file(f2 + 'AOI/exclusions_2020-01-07.geojson')\n",
    "farm_sites = gpd.read_file(f2 + 'blue_bridge/fishcages_Greece_farm_polygons_2.shp')\n",
    "\n",
    "#re-project layers\n",
    "pts = pts.to_crs({'init': 'epsg:2100'})\n",
    "search_area = search_area.to_crs({'init': 'epsg:2100'})\n",
    "exclusion_zones = exclusion_zones.to_crs({'init': 'epsg:2100'})\n",
    "\n",
    "print('detections', len(pts), pts.crs)\n",
    "print('search area', len(search_area), search_area.crs)\n",
    "print('exclusion zones', len(exclusion_zones), exclusion_zones.crs)"
   ]
  },
  {
   "cell_type": "code",
   "execution_count": null,
   "metadata": {
    "scrolled": false
   },
   "outputs": [],
   "source": [
    "# plt.rcParams['figure.figsize'] = (20, 10)\n",
    "# ax=search_area.plot(linewidth=.5, edgecolor = 'black', facecolor = 'none')\n",
    "# pts.plot(markersize=5, facecolor='red', ax=ax)\n",
    "# exclusion_zones.plot(ax=ax)"
   ]
  },
  {
   "cell_type": "code",
   "execution_count": null,
   "metadata": {},
   "outputs": [],
   "source": [
    "%%time \n",
    "#clip points to search area\n",
    "clip = sjoin(pts, search_area, how='inner', op='within')\n",
    "print('detections within search area:', len(clip))"
   ]
  },
  {
   "cell_type": "code",
   "execution_count": null,
   "metadata": {
    "scrolled": true
   },
   "outputs": [],
   "source": [
    "#plt.rcParams['figure.figsize'] = (20, 10)\n",
    "#ax=search_area.plot(linewidth=.5, edgecolor = 'black', facecolor = 'none')\n",
    "#clip.plot(markersize=5, facecolor = 'red', ax=ax)"
   ]
  },
  {
   "cell_type": "code",
   "execution_count": null,
   "metadata": {
    "scrolled": true
   },
   "outputs": [],
   "source": [
    "%%time \n",
    "#combine all exclusion zones\n",
    "exclusion_zones['Dissolve'] = 0\n",
    "exclusion_zones_dis = exclusion_zones.dissolve(by='Dissolve')"
   ]
  },
  {
   "cell_type": "code",
   "execution_count": null,
   "metadata": {},
   "outputs": [],
   "source": [
    "%%time \n",
    "#exclude points in exclusion areas\n",
    "mask = ~clip.within(exclusion_zones_dis.loc[0, 'geometry'])\n",
    "clip2 = clip.loc[mask]\n",
    "print('detections outside of exclusion zones:', len(clip2))"
   ]
  },
  {
   "cell_type": "code",
   "execution_count": null,
   "metadata": {
    "scrolled": true
   },
   "outputs": [],
   "source": [
    "#ax=search_area.plot(linewidth=.5, edgecolor = 'black', facecolor = 'none')\n",
    "#exclusion_zones_dis.plot(facecolor = 'blue', ax=ax)\n",
    "#clip2.plot(markersize=5, facecolor = 'red', ax=ax)"
   ]
  },
  {
   "cell_type": "code",
   "execution_count": null,
   "metadata": {},
   "outputs": [],
   "source": [
    "%%time \n",
    "#buffer points, dissolve buffers to aggregate points near each other\n",
    "buffer = gpd.GeoDataFrame(geometry = clip2.buffer(10))\n",
    "buffer['Dissolve'] = 0\n",
    "buffer_dis = buffer.dissolve(by='Dissolve')"
   ]
  },
  {
   "cell_type": "code",
   "execution_count": null,
   "metadata": {},
   "outputs": [],
   "source": [
    "#explode function\n",
    "def explode(indf):\n",
    "    outdf = gpd.GeoDataFrame(columns=indf.columns)\n",
    "    for idx, row in indf.iterrows():\n",
    "        if type(row.geometry) == Polygon:\n",
    "            outdf = outdf.append(row,ignore_index=True)\n",
    "        if type(row.geometry) == MultiPolygon:\n",
    "            multdf = gpd.GeoDataFrame(columns=indf.columns)\n",
    "            recs = len(row.geometry)\n",
    "            multdf = multdf.append([row]*recs,ignore_index=True)\n",
    "            for geom in range(recs):\n",
    "                multdf.loc[geom,'geometry'] = row.geometry[geom]\n",
    "            outdf = outdf.append(multdf,ignore_index=True)\n",
    "    return outdf"
   ]
  },
  {
   "cell_type": "code",
   "execution_count": null,
   "metadata": {},
   "outputs": [],
   "source": [
    "%%time \n",
    "#explode polygon and generate centroids\n",
    "buffer_exploded = explode(buffer_dis)      \n",
    "centroids = gpd.GeoDataFrame(geometry = buffer_exploded.centroid)\n",
    "print('detections after aggregation:', len(centroids))"
   ]
  },
  {
   "cell_type": "code",
   "execution_count": null,
   "metadata": {},
   "outputs": [],
   "source": [
    "%%time \n",
    "#buffer centroids and make square polygons\n",
    "centroid_buffer = gpd.GeoDataFrame(geometry = centroids.buffer(50))\n",
    "envelope = gpd.GeoDataFrame(geometry = centroid_buffer.envelope)"
   ]
  },
  {
   "cell_type": "code",
   "execution_count": null,
   "metadata": {
    "scrolled": true
   },
   "outputs": [],
   "source": [
    "#plt.rcParams['figure.figsize'] = (20, 10)\n",
    "#ax=search_area.plot(linewidth=.5, edgecolor = 'black', facecolor = 'none')\n",
    "#centroid_buffer.plot(markersize=5, facecolor = 'black', ax=ax)\n",
    "#envelope.plot(linewidth=.5, edgecolor = 'black', facecolor = 'none', ax=ax)"
   ]
  },
  {
   "cell_type": "code",
   "execution_count": null,
   "metadata": {
    "scrolled": false
   },
   "outputs": [],
   "source": [
    "#plt.rcParams['figure.figsize'] = (20, 10)\n",
    "#ax = centroids.loc[[0], 'geometry'].plot(markersize=10, facecolor = 'black')\n",
    "#centroid_buffer.loc[[0], 'geometry'].plot(linewidth=.5, edgecolor = 'black', facecolor = 'none', ax=ax)\n",
    "#envelope.loc[[0], 'geometry'].plot(linewidth=.5, edgecolor = 'black', facecolor = 'none', ax=ax)"
   ]
  },
  {
   "cell_type": "code",
   "execution_count": null,
   "metadata": {},
   "outputs": [],
   "source": [
    "#set crs\n",
    "envelope.crs = {'init' :'epsg:2100'}\n",
    "envelope['geometry'] = envelope['geometry'].to_crs(epsg=4326)\n",
    "print(envelope.crs)\n",
    "envelope.head()"
   ]
  },
  {
   "cell_type": "code",
   "execution_count": null,
   "metadata": {},
   "outputs": [],
   "source": [
    "#extract lat/long for each square polygon (envelope)\n",
    "coord_list = []\n",
    "for i in range(len(envelope)):\n",
    "    coords = mapping(envelope.geometry[i])['coordinates']\n",
    "    coord_list.append(coords)"
   ]
  },
  {
   "cell_type": "code",
   "execution_count": null,
   "metadata": {},
   "outputs": [],
   "source": [
    "#function to extract and format x/y points\n",
    "def coord(input_list):\n",
    "    pt1, pt2, pt3, pt4, pt5 = map(list, zip(*input_list))\n",
    "    x1, y1, = map(list, zip(*pt1))\n",
    "    x2, y2, = map(list, zip(*pt2))\n",
    "    x3, y3, = map(list, zip(*pt3))\n",
    "    x4, y4, = map(list, zip(*pt4))\n",
    "    x5, y5, = map(list, zip(*pt5))\n",
    "\n",
    "    x1=str(x1).strip(\"[]\")\n",
    "    x2=str(x2).strip(\"[]\")\n",
    "    x3=str(x3).strip(\"[]\")\n",
    "    x4=str(x4).strip(\"[]\")\n",
    "    x5=str(x5).strip(\"[]\")\n",
    "\n",
    "    y1=str(y1).strip(\"[]\")\n",
    "    y2=str(y2).strip(\"[]\")\n",
    "    y3=str(y3).strip(\"[]\")\n",
    "    y4=str(y4).strip(\"[]\")\n",
    "    y5=str(y5).strip(\"[]\")\n",
    "\n",
    "    coord_group = {'x': [x1, x2, x3, x4, x5], 'y': [y1, y2, y3, y4, y5]}\n",
    "    coord_group_df = pd.DataFrame(data=coord_group)\n",
    "    return coord_group_df"
   ]
  },
  {
   "cell_type": "code",
   "execution_count": null,
   "metadata": {
    "scrolled": true
   },
   "outputs": [],
   "source": [
    "# #combine x/y point groups\n",
    "coord_all = []\n",
    "for i in range(len(coord_list)):\n",
    "    coord_group = coord(coord_list[i])\n",
    "    coord_group['id']=i\n",
    "    coord_all.append(coord_group)\n",
    "    \n",
    "targets = pd.concat(coord_all)\n",
    "print('total coordinates (4 per detection):', len(targets))\n",
    "targets.head()"
   ]
  },
  {
   "cell_type": "code",
   "execution_count": null,
   "metadata": {
    "scrolled": true
   },
   "outputs": [],
   "source": [
    "#accuracy check\n",
    "centroids_test = centroids.copy()\n",
    "centroids_test.crs = {'init' :'epsg:2100'}\n",
    "centroids_test['geometry'] = centroids_test['geometry'].to_crs(epsg=4326)\n",
    "\n",
    "matches = centroids_test.intersects(farm_sites.unary_union)\n",
    "count = centroids_test.loc[matches]\n",
    "\n",
    "detections_n = len(centroids_test)\n",
    "farm_n = len(farm_sites)\n",
    "matches_n = len(count)\n",
    "\n",
    "print('total detections:', len(pts))\n",
    "print('detections in search area:', detections_n)\n",
    "print('farm sites:', farm_n)\n",
    "print('matches:', matches_n)\n",
    "print('positive matches', round(matches_n / farm_n, 3))\n",
    "print('overall accuracy', round(matches_n / detections_n, 3))\n",
    "\n",
    "#plt.rcParams['figure.figsize'] = (20, 10)\n",
    "#ax=farm_sites.plot(linewidth=.5, edgecolor = 'black', facecolor = 'none')\n",
    "#centroids_test.plot(markersize=1, facecolor = 'red', ax=ax)"
   ]
  },
  {
   "cell_type": "code",
   "execution_count": null,
   "metadata": {},
   "outputs": [],
   "source": [
    "# pts.to_file(f + 'd1_sar/g25_100m_10-20_01-06.shp')\n",
    "# targets.to_csv(f + 'd1_sar/g25_100m_10-20_01-06_v2.csv', index = None, header=True)\n",
    "\n",
    "# centroids_test.crs = {'init' :'epsg:4326'}\n",
    "# centroids_test.to_file(f + 'd1_sar/g25_100m_10-20_01-06_v2.shp')\n",
    "# centroids_test.to_file(f + 'd1_sar/g25_100m_10-20_01-06_v2.geojson', driver='GeoJSON')"
   ]
  }
 ],
 "metadata": {
  "kernelspec": {
   "display_name": "Python 3",
   "language": "python",
   "name": "python3"
  },
  "language_info": {
   "codemirror_mode": {
    "name": "ipython",
    "version": 3
   },
   "file_extension": ".py",
   "mimetype": "text/x-python",
   "name": "python",
   "nbconvert_exporter": "python",
   "pygments_lexer": "ipython3",
   "version": "3.7.4"
  }
 },
 "nbformat": 4,
 "nbformat_minor": 2
}
