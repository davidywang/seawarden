{
 "cells": [
  {
   "cell_type": "code",
   "execution_count": 126,
   "metadata": {},
   "outputs": [],
   "source": [
    "#aerialImageRetrieval commandline in python\n",
    "#%run -i ../0_thesis_bing/Satellite-Aerial-Image-Retrieval-master/aerialImageRetrieval_2.py 41.882981 -87.623496 41.882397 -87.623076"
   ]
  },
  {
   "cell_type": "code",
   "execution_count": 127,
   "metadata": {},
   "outputs": [
    {
     "name": "stdout",
     "output_type": "stream",
     "text": [
      "19185\n",
      "3837\n",
      "3837\n"
     ]
    }
   ],
   "source": [
    "import pandas as pd\n",
    "from aerialImageRetrieval_2 import AerialImageRetrieval\n",
    "\n",
    "#load csv containing coordinates of polygon corners\n",
    "file = '/Users/Zack/Desktop/g25_100m_10-20_01-06_5m.csv'\n",
    "targets = pd.read_csv(file, delimiter=',', header=0)\n",
    "print(len(targets))\n",
    "targets.head()\n",
    "\n",
    "topleft = targets.drop(targets.index[0])\n",
    "topleft = topleft.iloc[::5]\n",
    "print(len(topleft))\n",
    "topleft.head()\n",
    "\n",
    "bright = targets.drop(targets.index[0:3])\n",
    "bright = bright.iloc[::5]\n",
    "print(len(bright))\n",
    "bright.head()\n",
    "\n",
    "# create lists\n",
    "lat1_list=topleft['y'].tolist()\n",
    "lon1_list=topleft['x'].tolist()\n",
    "lat2_list=bright['y'].tolist()\n",
    "lon2_list=bright['x'].tolist()"
   ]
  },
  {
   "cell_type": "code",
   "execution_count": 128,
   "metadata": {},
   "outputs": [
    {
     "name": "stdout",
     "output_type": "stream",
     "text": [
      "Cannot find tile image at level 23 for tile coordinate (4781646, 3310162)\n",
      "Cannot find tile image at level 22 for tile coordinate (2390823, 1655081)\n",
      "Cannot find tile image at level 21 for tile coordinate (1195411, 827540)\n",
      "Cannot find tile image at level 20 for tile coordinate (597705, 413770)\n",
      "Finish the aerial image retrieval, store the image aerialImage_19.jpeg in folder /Users/Zack/0_thesis_bing/incoming\n",
      "35.43984 25.20604 35.43988 25.20599 Retrieved image with maximum resolution.\n"
     ]
    }
   ],
   "source": [
    "#single use\n",
    "i = 200\n",
    "lat1=round(lat1_list[i],5)\n",
    "lon1=round(lon1_list[i],5)\n",
    "lat2=round(lat2_list[i],5)\n",
    "lon2=round(lon2_list[i],5)\n",
    "#print(lat1, lon1, lat2, lon2)\n",
    "\n",
    "imgretrieval = AerialImageRetrieval(lat1, lon1, lat2, lon2)\n",
    "if imgretrieval.max_resolution_imagery_retrieval():\n",
    "    print(lat1, lon1, lat2, lon2, \"Retrieved image with maximum resolution.\")\n",
    "else:\n",
    "    print(lat1, lon1, lat2, lon2, \"Cannot retrieve the desired image.\")"
   ]
  },
  {
   "cell_type": "code",
   "execution_count": null,
   "metadata": {},
   "outputs": [
    {
     "name": "stdout",
     "output_type": "stream",
     "text": [
      "37.28559 23.17149 37.28563 23.17143\n",
      "Cannot find tile image at level 23 for tile coordinate (4734237, 3256748)\n",
      "Cannot find tile image at level 22 for tile coordinate (2367118, 1628374)\n",
      "Cannot find tile image at level 21 for tile coordinate (1183559, 814187)\n",
      "Cannot find tile image at level 20 for tile coordinate (591779, 407093)\n",
      "Finish the aerial image retrieval, store the image aerialImage_19.jpeg in folder /Users/Zack/0_thesis_bing/incoming\n",
      "37.28559 23.17149 37.28563 23.17143 Retrieved image with maximum resolution.\n",
      "37.28846 23.20014 37.28851 23.20009\n",
      "Cannot find tile image at level 23 for tile coordinate (4734905, 3256664)\n",
      "Cannot find tile image at level 22 for tile coordinate (2367452, 1628332)\n",
      "Cannot find tile image at level 21 for tile coordinate (1183726, 814166)\n",
      "Cannot find tile image at level 20 for tile coordinate (591863, 407083)\n",
      "Finish the aerial image retrieval, store the image aerialImage_19.jpeg in folder /Users/Zack/0_thesis_bing/incoming\n",
      "37.28846 23.20014 37.28851 23.20009 Retrieved image with maximum resolution.\n",
      "37.28849 23.18146 37.28854 23.1814\n",
      "Cannot find tile image at level 23 for tile coordinate (4734469, 3256663)\n",
      "Cannot find tile image at level 22 for tile coordinate (2367234, 1628331)\n",
      "Cannot find tile image at level 21 for tile coordinate (1183617, 814165)\n",
      "Cannot find tile image at level 20 for tile coordinate (591808, 407082)\n",
      "Finish the aerial image retrieval, store the image aerialImage_19.jpeg in folder /Users/Zack/0_thesis_bing/incoming\n",
      "37.28849 23.18146 37.28854 23.1814 Retrieved image with maximum resolution.\n",
      "37.25365 20.99846 37.2537 20.99841\n",
      "Cannot find tile image at level 23 for tile coordinate (4683602, 3257683)\n"
     ]
    }
   ],
   "source": [
    "# for i in range(0,1000):\n",
    "#     lat1=round(lat1_list[i],5)\n",
    "#     lon1=round(lon1_list[i],5)\n",
    "#     lat2=round(lat2_list[i],5)\n",
    "#     lon2=round(lon2_list[i],5)\n",
    "#     print(lat1, lon1, lat2, lon2)\n",
    "#     imgretrieval = AerialImageRetrieval(lat1, lon1, lat2, lon2)\n",
    "#     if imgretrieval.max_resolution_imagery_retrieval():\n",
    "#         print(lat1, lon1, lat2, lon2, \"Retrieved image with maximum resolution.\")\n",
    "#     else:\n",
    "#         print(lat1, lon1, lat2, lon2, \"Cannot retrieve the desired image.\")\n",
    "    \n",
    "for i in range(1000,2000):\n",
    "    lat1=round(lat1_list[i],5)\n",
    "    lon1=round(lon1_list[i],5)\n",
    "    lat2=round(lat2_list[i],5)\n",
    "    lon2=round(lon2_list[i],5)\n",
    "    print(lat1, lon1, lat2, lon2)\n",
    "    imgretrieval = AerialImageRetrieval(lat1, lon1, lat2, lon2)\n",
    "    if imgretrieval.max_resolution_imagery_retrieval():\n",
    "        print(lat1, lon1, lat2, lon2, \"Retrieved image with maximum resolution.\")\n",
    "    else:\n",
    "        print(lat1, lon1, lat2, lon2, \"Cannot retrieve the desired image.\")    \n",
    "    \n",
    "for i in range(2000,3000):\n",
    "    lat1=round(lat1_list[i],5)\n",
    "    lon1=round(lon1_list[i],5)\n",
    "    lat2=round(lat2_list[i],5)\n",
    "    lon2=round(lon2_list[i],5)\n",
    "    print(lat1, lon1, lat2, lon2)\n",
    "    imgretrieval = AerialImageRetrieval(lat1, lon1, lat2, lon2)\n",
    "    if imgretrieval.max_resolution_imagery_retrieval():\n",
    "        print(lat1, lon1, lat2, lon2, \"Retrieved image with maximum resolution.\")\n",
    "    else:\n",
    "        print(lat1, lon1, lat2, lon2, \"Cannot retrieve the desired image.\")\n",
    "        \n",
    "for i in range(3000,4000):\n",
    "    lat1=round(lat1_list[i],5)\n",
    "    lon1=round(lon1_list[i],5)\n",
    "    lat2=round(lat2_list[i],5)\n",
    "    lon2=round(lon2_list[i],5)\n",
    "    print(lat1, lon1, lat2, lon2)\n",
    "    imgretrieval = AerialImageRetrieval(lat1, lon1, lat2, lon2)\n",
    "    if imgretrieval.max_resolution_imagery_retrieval():\n",
    "        print(lat1, lon1, lat2, lon2, \"Retrieved image with maximum resolution.\")\n",
    "    else:\n",
    "        print(lat1, lon1, lat2, lon2, \"Cannot retrieve the desired image.\")"
   ]
  },
  {
   "cell_type": "code",
   "execution_count": null,
   "metadata": {},
   "outputs": [],
   "source": [
    "#add farm ID to filename (quick fix)\n",
    "#import os \n",
    "\n",
    "#folder = \"/Users/Zack/0_thesis_bing/images_2019-10-13/\"\n",
    "files = os.listdir(folder)\n",
    "#print(files)\n",
    "\n",
    "#sort files by date: newest to oldest\n",
    "search_dir = folder\n",
    "os.chdir(search_dir)\n",
    "files = filter(os.path.isfile, os.listdir(search_dir))\n",
    "files = [os.path.join(f) for f in files] \n",
    "files.sort(key=lambda x: os.path.getmtime(x))\n",
    "print(len(files))\n",
    "\n",
    "#rename with farm ID\n",
    "for index, i in enumerate(files):\n",
    "    org = (i[11:])\n",
    "    name = (str(index))\n",
    "    dst = (name + org)\n",
    "    src = (i)\n",
    "    os.rename(src, dst)"
   ]
  }
 ],
 "metadata": {
  "kernelspec": {
   "display_name": "Python 3",
   "language": "python",
   "name": "python3"
  },
  "language_info": {
   "codemirror_mode": {
    "name": "ipython",
    "version": 3
   },
   "file_extension": ".py",
   "mimetype": "text/x-python",
   "name": "python",
   "nbconvert_exporter": "python",
   "pygments_lexer": "ipython3",
   "version": "3.7.4"
  }
 },
 "nbformat": 4,
 "nbformat_minor": 2
}
