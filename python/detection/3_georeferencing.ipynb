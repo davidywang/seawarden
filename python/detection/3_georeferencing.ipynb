{
 "cells": [
  {
   "cell_type": "code",
   "execution_count": 2,
   "metadata": {},
   "outputs": [],
   "source": [
    "#convert single jpeg to tiff\n",
    "from PIL import Image\n",
    "from osgeo import gdal, osr\n",
    "import os \n",
    "\n",
    "im = Image.open('/Users/Zack/Desktop/195_(18, 37.8104, 23.2553, 37.8014, 23.2667).jpeg')\n",
    "im.save('/Users/Zack/Desktop/test.tiff')  # or 'test.tif'"
   ]
  },
  {
   "cell_type": "code",
   "execution_count": 37,
   "metadata": {},
   "outputs": [],
   "source": [
    "#batch convert jpeg to tiff\n",
    "folder = \"/Users/Zack/0_thesis_bing/images_2019-10-13/\"\n",
    "output = \"/Users/Zack/0_thesis_bing/images_2019-10-13_tiff/\"\n",
    "files = os.listdir(folder)\n",
    "\n",
    "for i in files:\n",
    "    im = Image.open(folder + i)\n",
    "    name = i[:-5] + '.tiff'\n",
    "    im.save(output + name)"
   ]
  },
  {
   "cell_type": "code",
   "execution_count": 17,
   "metadata": {},
   "outputs": [],
   "source": [
    "#geref a single image\n",
    "src_filename = '/Users/Zack/Desktop/test.tiff'\n",
    "dst_filename = '/Users/Zack/Desktop/output2.tif'\n",
    "\n",
    "# Opens source dataset\n",
    "src_ds = gdal.Open(src_filename)\n",
    "format = \"GTiff\"\n",
    "driver = gdal.GetDriverByName(format)\n",
    "\n",
    "# Open destination dataset\n",
    "dst_ds = driver.CreateCopy(dst_filename, src_ds, 0)\n",
    "\n",
    "# Specify raster location through geotransform array\n",
    "# (uperleftx, scalex, skewx, uperlefty, skewy, scaley)\n",
    "# Scale = size of one pixel in units of raster projection\n",
    "# this example below assumes 100x100\n",
    "#gt = [23.2553, .0000054, 0, 37.8104, 0, -.0000042]\n",
    "gt = [23.2553, .0000054, .0000054, 37.8104, -.0000042, -.0000042]\n",
    "#0.5972\n",
    "\n",
    "# Set location\n",
    "dst_ds.SetGeoTransform(gt)\n",
    "\n",
    "# Get raster projection\n",
    "epsg = 4326\n",
    "srs = osr.SpatialReference()\n",
    "srs.ImportFromEPSG(epsg)\n",
    "dest_wkt = srs.ExportToWkt()\n",
    "\n",
    "# Set projection\n",
    "dst_ds.SetProjection(dest_wkt)\n",
    "\n",
    "# Close files\n",
    "dst_ds = None\n",
    "src_ds = None"
   ]
  },
  {
   "cell_type": "code",
   "execution_count": 89,
   "metadata": {},
   "outputs": [],
   "source": [
    "#georef function\n",
    "def georef(src_filename, dst_filename, uperleftx, uperlefty):\n",
    "    # Opens source dataset\n",
    "    src_ds = gdal.Open(src_filename)\n",
    "    format = \"GTiff\"\n",
    "    driver = gdal.GetDriverByName(format)\n",
    "\n",
    "    # Open destination dataset\n",
    "    dst_ds = driver.CreateCopy(dst_filename, src_ds, 0)\n",
    "\n",
    "    # Specify raster location through geotransform array\n",
    "    # (uperleftx, scalex, skewx, uperlefty, skewy, scaley)\n",
    "    # Scale = size of one pixel in units of raster projection\n",
    "    # this example below assumes 100x100\n",
    "    gt = [uperleftx, .0000054, 0, uperlefty, 0, -.0000042]\n",
    "    #0.5972\n",
    "\n",
    "    # Set location\n",
    "    dst_ds.SetGeoTransform(gt)\n",
    "\n",
    "    # Get raster projection\n",
    "    epsg = 4326\n",
    "    srs = osr.SpatialReference()\n",
    "    srs.ImportFromEPSG(epsg)\n",
    "    dest_wkt = srs.ExportToWkt()\n",
    "\n",
    "    # Set projection\n",
    "    dst_ds.SetProjection(dest_wkt)\n",
    "\n",
    "    # Close files\n",
    "    dst_ds = None\n",
    "    src_ds = None"
   ]
  },
  {
   "cell_type": "code",
   "execution_count": 105,
   "metadata": {},
   "outputs": [],
   "source": [
    "#batch geref\n",
    "src_folder = \"/Users/Zack/0_thesis_bing/images_2019-10-13_tiff/\"\n",
    "filename = os.listdir(src_folder)\n",
    "dst_folder = \"/Users/Zack/0_thesis_bing/images_2019-10-13_tiff_georef/\"\n",
    "\n",
    "for i in filename:\n",
    "    src_filename = src_folder+i\n",
    "    dst_filename = dst_folder+i\n",
    "    uperleftx = float((i.split(\",\"))[2]) #from filename\n",
    "    uperlefty = float((i.split(\",\"))[1]) #from filename\n",
    "    georef(src_filename, dst_filename, uperleftx, uperlefty)"
   ]
  }
 ],
 "metadata": {
  "kernelspec": {
   "display_name": "Python 3",
   "language": "python",
   "name": "python3"
  },
  "language_info": {
   "codemirror_mode": {
    "name": "ipython",
    "version": 3
   },
   "file_extension": ".py",
   "mimetype": "text/x-python",
   "name": "python",
   "nbconvert_exporter": "python",
   "pygments_lexer": "ipython3",
   "version": "3.7.4"
  }
 },
 "nbformat": 4,
 "nbformat_minor": 2
}
