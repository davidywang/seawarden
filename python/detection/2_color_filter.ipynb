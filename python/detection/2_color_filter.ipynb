{
 "cells": [
  {
   "cell_type": "code",
   "execution_count": 74,
   "metadata": {},
   "outputs": [],
   "source": [
    "#input files\n",
    "import os \n",
    "folder = '/Users/Zack/Desktop/test/'\n",
    "files = os.listdir(folder)\n",
    "file = 'aerialImage_(19, 37.06686, 26.88734, 37.06691, 26.88728).jpeg' #blue color\n",
    "#file = 'aerialImage_(19, 37.06131, 21.57463, 37.06135, 21.57457).jpeg' #light color"
   ]
  },
  {
   "cell_type": "code",
   "execution_count": 75,
   "metadata": {},
   "outputs": [
    {
     "data": {
      "text/plain": [
       "'bac7bc'"
      ]
     },
     "execution_count": 75,
     "metadata": {},
     "output_type": "execute_result"
    }
   ],
   "source": [
    "#convert rgb to hex\n",
    "def rgb_to_hex(rgb):\n",
    "    rgb = (int(rgb[0]), int(rgb[1]), int(rgb[2]))\n",
    "    return '%02x%02x%02x' % rgb"
   ]
  },
  {
   "cell_type": "code",
   "execution_count": 76,
   "metadata": {},
   "outputs": [],
   "source": [
    "#https://www.timpoulsen.com/2018/finding-the-dominant-colors-of-an-image.html\n",
    "# import cv2\n",
    "# import numpy as np\n",
    "\n",
    "# #function to generate mean color of an image\n",
    "# def mean_rgb(folder, file):\n",
    "#     img = cv2.imread(folder + file)\n",
    "#     height, width, _ = np.shape(img)\n",
    "#     avg_color_per_row = np.average(img, axis=0)\n",
    "#     avg_colors = np.average(avg_color_per_row, axis=0)\n",
    "#     int_averages = np.array(avg_colors, dtype=np.uint8)\n",
    "#     return int_averages.tolist()\n",
    "\n",
    "# mean_rgb(folder, file)"
   ]
  },
  {
   "cell_type": "code",
   "execution_count": 77,
   "metadata": {},
   "outputs": [],
   "source": [
    "#https://www.dataquest.io/blog/tutorial-colors-image-clustering-python/\n",
    "import scipy\n",
    "import pandas as pd \n",
    "from matplotlib import image as img\n",
    "from scipy.cluster.vq import whiten\n",
    "from scipy.cluster.vq import kmeans\n",
    "    \n",
    "def dom_rgb(folder, file):\n",
    "    image = img.imread(folder + file)\n",
    "\n",
    "#     #plot image\n",
    "#     print(image.shape)\n",
    "#     plt.imshow(image)\n",
    "#     plt.show()\n",
    "\n",
    "    #generate data frame\n",
    "    r, g, b = [], [], []\n",
    "    for line in image:\n",
    "        for pixel in line:\n",
    "            temp_r, temp_g, temp_b = pixel\n",
    "            r.append(temp_r)\n",
    "            g.append(temp_g)\n",
    "            b.append(temp_b)\n",
    "            \n",
    "    #plot\n",
    "#     from mpl_toolkits.mplot3d import Axes3D\n",
    "#     fig = plt.figure()\n",
    "#     ax = Axes3D(fig)\n",
    "#     ax.scatter(r, g, b)\n",
    "#     plt.show()\n",
    "\n",
    "    df = pd.DataFrame({'red': r,'blue': b,'green': g})\n",
    "    df['scaled_red'] = whiten(df['red'])\n",
    "    df['scaled_blue'] = whiten(df['blue'])\n",
    "    df['scaled_green'] = whiten(df['green'])\n",
    "\n",
    "    cluster_center, distortion = kmeans(df[['scaled_red', 'scaled_green', 'scaled_blue']], 1)\n",
    "\n",
    "    std = df[['red', 'green', 'blue']].std()\n",
    "    r=cluster_center[0][0] * std[0]\n",
    "    g=cluster_center[0][1] * std[1]\n",
    "    b=cluster_center[0][2] * std[2]\n",
    "    rgb = [round(r), round(g), round(b)]\n",
    "    return rgb"
   ]
  },
  {
   "cell_type": "code",
   "execution_count": 93,
   "metadata": {
    "scrolled": true
   },
   "outputs": [
    {
     "data": {
      "text/html": [
       "<div>\n",
       "<style scoped>\n",
       "    .dataframe tbody tr th:only-of-type {\n",
       "        vertical-align: middle;\n",
       "    }\n",
       "\n",
       "    .dataframe tbody tr th {\n",
       "        vertical-align: top;\n",
       "    }\n",
       "\n",
       "    .dataframe thead th {\n",
       "        text-align: right;\n",
       "    }\n",
       "</style>\n",
       "<table border=\"1\" class=\"dataframe\">\n",
       "  <thead>\n",
       "    <tr style=\"text-align: right;\">\n",
       "      <th></th>\n",
       "      <th>image</th>\n",
       "      <th>rgb</th>\n",
       "      <th>hex</th>\n",
       "    </tr>\n",
       "  </thead>\n",
       "  <tbody>\n",
       "    <tr>\n",
       "      <td>31</td>\n",
       "      <td>aerialImage_(19, 37.03664, 26.92152, 37.03669,...</td>\n",
       "      <td>[10.0, 23.0, 55.0]</td>\n",
       "      <td>0a1737</td>\n",
       "    </tr>\n",
       "    <tr>\n",
       "      <td>26</td>\n",
       "      <td>aerialImage_(19, 37.0248, 26.94448, 37.02485, ...</td>\n",
       "      <td>[11.0, 22.0, 52.0]</td>\n",
       "      <td>0b1634</td>\n",
       "    </tr>\n",
       "    <tr>\n",
       "      <td>42</td>\n",
       "      <td>aerialImage_(19, 37.05802, 26.90842, 37.05806,...</td>\n",
       "      <td>[15.0, 42.0, 63.0]</td>\n",
       "      <td>0f2a3f</td>\n",
       "    </tr>\n",
       "    <tr>\n",
       "      <td>10</td>\n",
       "      <td>aerialImage_(19, 36.99971, 26.42534, 36.99976,...</td>\n",
       "      <td>[16.0, 24.0, 46.0]</td>\n",
       "      <td>10182e</td>\n",
       "    </tr>\n",
       "    <tr>\n",
       "      <td>27</td>\n",
       "      <td>aerialImage_(19, 37.02491, 26.95829, 37.02496,...</td>\n",
       "      <td>[17.0, 41.0, 63.0]</td>\n",
       "      <td>11293f</td>\n",
       "    </tr>\n",
       "    <tr>\n",
       "      <td>...</td>\n",
       "      <td>...</td>\n",
       "      <td>...</td>\n",
       "      <td>...</td>\n",
       "    </tr>\n",
       "    <tr>\n",
       "      <td>24</td>\n",
       "      <td>aerialImage_(19, 37.02437, 25.36231, 37.02442,...</td>\n",
       "      <td>[139.0, 144.0, 135.0]</td>\n",
       "      <td>8b9087</td>\n",
       "    </tr>\n",
       "    <tr>\n",
       "      <td>33</td>\n",
       "      <td>aerialImage_(19, 37.03804, 24.65177, 37.03809,...</td>\n",
       "      <td>[167.0, 171.0, 164.0]</td>\n",
       "      <td>a7aba4</td>\n",
       "    </tr>\n",
       "    <tr>\n",
       "      <td>71</td>\n",
       "      <td>aerialImage_(19, 37.11067, 24.50437, 37.11071,...</td>\n",
       "      <td>[186.0, 199.0, 188.0]</td>\n",
       "      <td>bac7bc</td>\n",
       "    </tr>\n",
       "    <tr>\n",
       "      <td>39</td>\n",
       "      <td>aerialImage_(19, 37.04547, 24.63296, 37.04551,...</td>\n",
       "      <td>[190.0, 193.0, 187.0]</td>\n",
       "      <td>bec1bb</td>\n",
       "    </tr>\n",
       "    <tr>\n",
       "      <td>43</td>\n",
       "      <td>aerialImage_(19, 37.06131, 21.57463, 37.06135,...</td>\n",
       "      <td>[222.0, 205.0, 181.0]</td>\n",
       "      <td>decdb5</td>\n",
       "    </tr>\n",
       "  </tbody>\n",
       "</table>\n",
       "<p>72 rows × 3 columns</p>\n",
       "</div>"
      ],
      "text/plain": [
       "                                                image                    rgb  \\\n",
       "31  aerialImage_(19, 37.03664, 26.92152, 37.03669,...     [10.0, 23.0, 55.0]   \n",
       "26  aerialImage_(19, 37.0248, 26.94448, 37.02485, ...     [11.0, 22.0, 52.0]   \n",
       "42  aerialImage_(19, 37.05802, 26.90842, 37.05806,...     [15.0, 42.0, 63.0]   \n",
       "10  aerialImage_(19, 36.99971, 26.42534, 36.99976,...     [16.0, 24.0, 46.0]   \n",
       "27  aerialImage_(19, 37.02491, 26.95829, 37.02496,...     [17.0, 41.0, 63.0]   \n",
       "..                                                ...                    ...   \n",
       "24  aerialImage_(19, 37.02437, 25.36231, 37.02442,...  [139.0, 144.0, 135.0]   \n",
       "33  aerialImage_(19, 37.03804, 24.65177, 37.03809,...  [167.0, 171.0, 164.0]   \n",
       "71  aerialImage_(19, 37.11067, 24.50437, 37.11071,...  [186.0, 199.0, 188.0]   \n",
       "39  aerialImage_(19, 37.04547, 24.63296, 37.04551,...  [190.0, 193.0, 187.0]   \n",
       "43  aerialImage_(19, 37.06131, 21.57463, 37.06135,...  [222.0, 205.0, 181.0]   \n",
       "\n",
       "       hex  \n",
       "31  0a1737  \n",
       "26  0b1634  \n",
       "42  0f2a3f  \n",
       "10  10182e  \n",
       "27  11293f  \n",
       "..     ...  \n",
       "24  8b9087  \n",
       "33  a7aba4  \n",
       "71  bac7bc  \n",
       "39  bec1bb  \n",
       "43  decdb5  \n",
       "\n",
       "[72 rows x 3 columns]"
      ]
     },
     "execution_count": 93,
     "metadata": {},
     "output_type": "execute_result"
    }
   ],
   "source": [
    "#generate mean color for all images in folder\n",
    "rgb_values, hex_values = [], []\n",
    "for i in (files):\n",
    "    #rgb = mean_rgb(folder, i)\n",
    "    rgb = dom_rgb(folder, i)\n",
    "    hex_color = rgb_to_hex(rgb)\n",
    "    rgb_values.append(rgb)\n",
    "    hex_values.append(hex_color)\n",
    "\n",
    "color_list = pd.DataFrame({'image': files, 'rgb' : rgb_values, 'hex' : hex_values}).sort_values(by='hex')\n",
    "color_list"
   ]
  },
  {
   "cell_type": "code",
   "execution_count": 118,
   "metadata": {},
   "outputs": [
    {
     "data": {
      "text/plain": [
       "<matplotlib.image.AxesImage at 0x231288ba608>"
      ]
     },
     "execution_count": 118,
     "metadata": {},
     "output_type": "execute_result"
    },
    {
     "data": {
      "image/png": "[encoded data removed]",
      "text/plain": [
       "<Figure size 1440x720 with 1 Axes>"
      ]
     },
     "metadata": {
      "needs_background": "light"
     },
     "output_type": "display_data"
    }
   ],
   "source": [
    "from PIL import Image\n",
    "barColors = color_list['rgb'].tolist()\n",
    "barColors = (np.array(barColors)).astype(np.uint8)\n",
    "\n",
    "#creating bar image\n",
    "cols = len(barColors)\n",
    "rows = max([1,int(cols/2.5)])\n",
    "\n",
    "# Create color Array\n",
    "barFullData = np.tile(barColors, (rows,1)).reshape(rows, cols, 3)\n",
    "\n",
    "# Create Image from Array\n",
    "barImg = Image.fromarray(barFullData, 'RGB')\n",
    "\n",
    "plt.figure(figsize=(20,10))\n",
    "plt.imshow(barImg)"
   ]
  },
  {
   "cell_type": "code",
   "execution_count": 114,
   "metadata": {},
   "outputs": [
    {
     "data": {
      "text/plain": [
       "72"
      ]
     },
     "execution_count": 114,
     "metadata": {},
     "output_type": "execute_result"
    }
   ],
   "source": []
  },
  {
   "cell_type": "code",
   "execution_count": 90,
   "metadata": {},
   "outputs": [],
   "source": [
    "#color_list.to_csv ('/Users/Zack/Desktop/color_list.csv', index = None, header=True)"
   ]
  }
 ],
 "metadata": {
  "kernelspec": {
   "display_name": "Python 3",
   "language": "python",
   "name": "python3"
  },
  "language_info": {
   "codemirror_mode": {
    "name": "ipython",
    "version": 3
   },
   "file_extension": ".py",
   "mimetype": "text/x-python",
   "name": "python",
   "nbconvert_exporter": "python",
   "pygments_lexer": "ipython3",
   "version": "3.7.4"
  }
 },
 "nbformat": 4,
 "nbformat_minor": 2
}
