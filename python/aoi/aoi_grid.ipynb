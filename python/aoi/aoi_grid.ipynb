{
 "cells": [
  {
   "cell_type": "code",
   "execution_count": 28,
   "metadata": {},
   "outputs": [
    {
     "name": "stdout",
     "output_type": "stream",
     "text": [
      "{'init': 'epsg:4326'}\n"
     ]
    }
   ],
   "source": [
    "import pandas as pd\n",
    "import geopandas as gpd\n",
    "from numpy import arange\n",
    "from shapely.geometry import Polygon\n",
    "\n",
    "search_area = gpd.read_file(\n",
    "    '/Users/Zack/0_seawarden/search_areas/4_search_area/search_area_100m_spain.shp')\n",
    "#search_area = gpd.read_file('/Users/Zack/0_greece/dem_eu/mask_search_area_100m_5km.shp')\n",
    "#search_area = gpd.read_file('/Users/Zack/1_sw_countries/search_area/search_area_100m_croatia.shp')\n",
    "#search_area = gpd.read_file('/Users/Zack/1_sw_countries/search_area/search_area_100m_italy.shp')\n",
    "#search_area = search_area.to_crs({'init': 'epsg:2100'})\n",
    "search_area = search_area.to_crs({'init': 'epsg:4326'})\n",
    "\n",
    "#grid = gpd.read_file('/Users/Zack/0_greece/AOI/greece_aoi_05deg.shp')\n",
    "#print(grid.crs)\n",
    "print(search_area.crs)"
   ]
  },
  {
   "cell_type": "code",
   "execution_count": 33,
   "metadata": {},
   "outputs": [
    {
     "data": {
      "text/plain": [
       "{'init': 'epsg:4326'}"
      ]
     },
     "execution_count": 33,
     "metadata": {},
     "output_type": "execute_result"
    }
   ],
   "source": [
    "#generate grid\n",
    "\n",
    "#grid covering greece with specified degree grid\n",
    "deg = 0.5\n",
    "\n",
    "#spain\n",
    "lon = list(arange(27, 47, deg)) #+1\n",
    "lat = list(arange(-18, 7, deg)) #+1\n",
    "\n",
    "#greece\n",
    "#lon = list(arange(33, 42, deg)) #+1\n",
    "#lat = list(arange(18, 31, deg)) #+1\n",
    "\n",
    "#croatia?\n",
    "#lon = list(arange(20, 46, deg)) #+1\n",
    "#lat = list(arange(13, 41, deg)) #+1\n",
    "\n",
    "#italy\n",
    "#lon = list(arange(35, 47.5, deg)) #+1\n",
    "#lat = list(arange(5.5, 19, deg)) #+1\n",
    "\n",
    "#create lat list\n",
    "lat_list=[]\n",
    "for i in range(len(lat)):\n",
    "    lat_pt = lat[i], lat[i], (lat[i]+deg), (lat[i]+deg)\n",
    "    lat_list.append(lat_pt)\n",
    "\n",
    "#create lon list\n",
    "lon_list=[]\n",
    "for i in range(len(lon)):\n",
    "    lon_pt = lon[i], (lon[i]+deg), (lon[i]+deg), lon[i]\n",
    "    lon_list.append(lon_pt)\n",
    "\n",
    "#create polygons\n",
    "geom_list = []\n",
    "for i in range(len(lon_list)):\n",
    "    for j in range(len(lat_list)):\n",
    "        geom = Polygon(zip(lat_list[j], lon_list[i]))\n",
    "        df = gpd.GeoDataFrame(index=[0], geometry=[geom])  \n",
    "        geom_list.append(df)\n",
    "        \n",
    "#combine polygons\n",
    "grid = gpd.GeoDataFrame(pd.concat(geom_list, ignore_index=True), crs = {'init': 'epsg:4326'})\n",
    "grid.crs"
   ]
  },
  {
   "cell_type": "code",
   "execution_count": 11,
   "metadata": {},
   "outputs": [],
   "source": [
    "#export\n",
    "#grid.to_file(filename='/Users/Zack/Desktop/greece_aoi_05deg.geojson', driver='GeoJSON')\n",
    "#grid.to_file(filename='/Users/Zack/Desktop/greece_aoi_05deg.shp')"
   ]
  },
  {
   "cell_type": "code",
   "execution_count": 34,
   "metadata": {},
   "outputs": [
    {
     "name": "stdout",
     "output_type": "stream",
     "text": [
      "Wall time: 818 ms\n"
     ]
    },
    {
     "data": {
      "text/plain": [
       "<matplotlib.axes._subplots.AxesSubplot at 0x24a08f068c8>"
      ]
     },
     "execution_count": 34,
     "metadata": {},
     "output_type": "execute_result"
    },
    {
     "data": {
      "image/png": "[encoded data removed]",
      "text/plain": [
       "<Figure size 432x288 with 1 Axes>"
      ]
     },
     "metadata": {
      "needs_background": "light"
     },
     "output_type": "display_data"
    }
   ],
   "source": [
    "%%time \n",
    "#preview\n",
    "#grid = grid.to_crs({'init': 'epsg:2100'})\n",
    "ax = grid.plot(linewidth=1, edgecolor = 'black', facecolor = 'none')\n",
    "search_area.plot(linewidth=0, edgecolor = 'none', facecolor = 'red', ax=ax)"
   ]
  },
  {
   "cell_type": "code",
   "execution_count": 35,
   "metadata": {},
   "outputs": [
    {
     "name": "stdout",
     "output_type": "stream",
     "text": [
      "2000\n",
      "359\n",
      "Wall time: 16.9 s\n"
     ]
    },
    {
     "data": {
      "image/png": "[encoded data removed]",
      "text/plain": [
       "<Figure size 432x288 with 1 Axes>"
      ]
     },
     "metadata": {
      "needs_background": "light"
     },
     "output_type": "display_data"
    }
   ],
   "source": [
    "%%time\n",
    "#select grid over search area\n",
    "\n",
    "#TOO SLOW!!!\n",
    "matches = grid.intersects(search_area.unary_union)\n",
    "grid_matches = grid.loc[matches]\n",
    "\n",
    "grid_matches.plot(linewidth=1, edgecolor = 'black', facecolor = 'none')\n",
    "print(len(grid))\n",
    "print(len(grid_matches))"
   ]
  },
  {
   "cell_type": "code",
   "execution_count": 36,
   "metadata": {},
   "outputs": [],
   "source": [
    "#export\n",
    "#grid_matches.to_file(\"/Users/Zack/Desktop/greece_aoi_05deg_search_area.geojson\", driver='GeoJSON')\n",
    "#grid_matches.to_file(\"/Users/Zack/Desktop/greece_aoi_05deg_search_area.shp\")\n",
    "#grid_matches.to_file(\"/Users/Zack/Desktop/croatia_aoi_05deg_search_area.geojson\", driver='GeoJSON')\n",
    "#grid_matches.to_file(\"/Users/Zack/Desktop/croatia_aoi_05deg_search_area.shp\")\n",
    "grid_matches.to_file(\"/Users/Zack/Desktop/spain_aoi_05deg_search_area.geojson\", driver='GeoJSON')\n",
    "grid_matches.to_file(\"/Users/Zack/Desktop/spain_aoi_05deg_search_area.shp\")"
   ]
  }
 ],
 "metadata": {
  "kernelspec": {
   "display_name": "Python 3",
   "language": "python",
   "name": "python3"
  },
  "language_info": {
   "codemirror_mode": {
    "name": "ipython",
    "version": 3
   },
   "file_extension": ".py",
   "mimetype": "text/x-python",
   "name": "python",
   "nbconvert_exporter": "python",
   "pygments_lexer": "ipython3",
   "version": "3.7.4"
  }
 },
 "nbformat": 4,
 "nbformat_minor": 2
}
