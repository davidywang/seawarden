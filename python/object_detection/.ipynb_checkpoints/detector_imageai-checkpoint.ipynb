{
 "cells": [
  {
   "cell_type": "code",
   "execution_count": 1,
   "metadata": {},
   "outputs": [
    {
     "name": "stderr",
     "output_type": "stream",
     "text": [
      "Using TensorFlow backend.\n"
     ]
    }
   ],
   "source": [
    "#https://towardsdatascience.com/object-detection-with-10-lines-of-code-d6cb4d86f606\n",
    "#pip install tensorflow, opencv-python, keras, imageai --upgrade, pip install numpy==1.16\n",
    "import os\n",
    "import pandas as pd\n",
    "import geopandas as gpd\n",
    "\n",
    "from pyproj import Proj\n",
    "from matplotlib import image as img  \n",
    "from shapely.geometry import Polygon, Point\n",
    "\n",
    "from imageai.Detection import ObjectDetection"
   ]
  },
  {
   "cell_type": "code",
   "execution_count": 2,
   "metadata": {},
   "outputs": [
    {
     "name": "stdout",
     "output_type": "stream",
     "text": [
      "WARNING:tensorflow:From C:\\Users\\Zack\\Anaconda3\\envs\\thesis\\lib\\site-packages\\tensorflow\\python\\framework\\op_def_library.py:263: colocate_with (from tensorflow.python.framework.ops) is deprecated and will be removed in a future version.\n",
      "Instructions for updating:\n",
      "Colocations handled automatically by placer.\n"
     ]
    }
   ],
   "source": [
    "execution_path = os.getcwd()\n",
    "detector = ObjectDetection()\n",
    "detector.setModelTypeAsRetinaNet()\n",
    "detector.setModelPath( os.path.join('/Users/Zack/0_thesis_imageai' , \"resnet50_coco_best_v2.0.1.h5\"))\n",
    "detector.loadModel()"
   ]
  },
  {
   "cell_type": "code",
   "execution_count": 3,
   "metadata": {},
   "outputs": [],
   "source": [
    "# %%time \n",
    "# #single image detector\n",
    "# input_folder = 'input_folder3'\n",
    "# output_folder = 'output_folder3'\n",
    "# image = 'cat.jpg'\n",
    "\n",
    "# detections, extracted_images = detector.detectObjectsFromImage(\n",
    "#     input_image=os.path.join(execution_path , input_folder, image),\n",
    "#     output_image_path=os.path.join(execution_path , output_folder, image), \n",
    "#     extract_detected_objects=True)\n",
    "\n",
    "# for eachObject in detections:\n",
    "#     print(eachObject[\"name\"], \":\" , round(eachObject[\"percentage_probability\"], 4), \"%\" )"
   ]
  },
  {
   "cell_type": "code",
   "execution_count": 4,
   "metadata": {},
   "outputs": [
    {
     "name": "stdout",
     "output_type": "stream",
     "text": [
      "3 images in folder : ['image_(19, 37.49039, 22.93714, 37.48995, 22.93772, 37.49084, 22.93657).jpeg', 'image_(19, 39.67116, 20.07228, 39.67073, 20.07288, 39.67159, 20.07167).jpg', 'image_(19, 40.50401, 22.6655, 40.50356, 22.6661, 40.50445, 22.6649).jpg']\n",
      "Wall time: 23.4 s\n"
     ]
    }
   ],
   "source": [
    "%%time \n",
    "#process all images in a folder\n",
    "input_folder = 'input_folder'\n",
    "output_folder = 'output_folder'\n",
    "\n",
    "#create list of images\n",
    "images = os.listdir(os.path.join(execution_path , input_folder))\n",
    "print(len(images), \"images in folder\", \":\", images)\n",
    "\n",
    "object_list = pd.DataFrame([])\n",
    "for i in images:\n",
    "    detections, extracted_images = detector.detectObjectsFromImage(\n",
    "        input_image=os.path.join(execution_path , input_folder, i),\n",
    "        output_image_path=os.path.join(execution_path , output_folder, i), \n",
    "        extract_detected_objects=True)\n",
    "    \n",
    "    #create df of detections\n",
    "    objects = pd.DataFrame(detections) \n",
    "    \n",
    "    #add image name\n",
    "    objects['image_name'] = i \n",
    "    \n",
    "    #combine dections from all images\n",
    "    object_list = object_list.append(pd.DataFrame(objects), sort=False) "
   ]
  },
  {
   "cell_type": "code",
   "execution_count": 6,
   "metadata": {},
   "outputs": [],
   "source": [
    "#meters per pixel for level 19\n",
    "res = 0.2986 \n",
    "\n",
    "#projection wgs84 to utm\n",
    "prj = Proj(\"+proj=utm +zone=34N, +north +ellps=WGS84 +datum=WGS84 +units=m +no_defs\")\n",
    "\n",
    "#create sptatial polygons fro box points\n",
    "img_dim_list, obj_list, img_list = [], [], []\n",
    "top_left_list, btm_left_list, btm_right_list = [], [], []\n",
    "\n",
    "#convert detections to geopandas polygons\n",
    "for i in (range(len(object_list))):\n",
    "   \n",
    "    #calculate image dimensions\n",
    "    image = os.path.join(execution_path , output_folder, object_list['image_name'].iloc[i])\n",
    "    img_dim = (img.imread(image)).shape\n",
    "    img_dim_list.append(img_dim)\n",
    " \n",
    "#     #extract bottom right lat/lon from image name\n",
    "#     name = object_list['image_name'].iloc[i]\n",
    "#     lat = float(name.split(\", \")[5]) #lat = x\n",
    "#     lon = float((name.split(\", \")[6]).split(\")\")[0]) #lon = y\n",
    "#     btm_right = (lat, lon)\n",
    "#     btm_right_list.append(btm_right)\n",
    "    \n",
    "    #extract top left lat/lon from image name\n",
    "    name = object_list['image_name'].iloc[i]\n",
    "    top_left_lat = float(name.split(\", \")[4]) #lat = x\n",
    "    top_left_lon = float(name.split(\", \")[3]) #lon = y\n",
    "    top_left = (top_left_lat, top_left_lon)\n",
    "    top_left_list.append(top_left)\n",
    "    \n",
    "    #calculate bottom left utm\n",
    "    dist = res * img_dim[0] #distance in meters\n",
    "    top_left_utm = prj(top_left[0], top_left[1]) \n",
    "    btm_left_utm = top_left_utm[0], top_left_utm[1] - dist #bottom left utm\n",
    "    btm_left_list.append(btm_left_utm)\n",
    "\n",
    "    #convert box points to utm then to lat/lon  \n",
    "    box = object_list['box_points'].iloc[i]  \n",
    "    \n",
    "    btm_left_utm\n",
    "    x = btm_left_utm[0]\n",
    "    y = btm_left_utm[1]\n",
    "    \n",
    "    lat_utm = x+box[0]*res, x+box[0]*res, x+box[2]*res, x+box[2]*res \n",
    "    lon_utm = y+box[1]*res, y+box[3]*res, y+box[3]*res, y+box[1]*res \n",
    "    lat, lon = prj(lat_utm, lon_utm, inverse = True) #convert to lat/lon\n",
    "    \n",
    "    geom = Polygon(zip(lat, lon))\n",
    "    geom_df = gpd.GeoDataFrame(geometry=[geom]) \n",
    "    obj_list.append(geom_df)\n",
    "    \n",
    "#     #genrate polygon for entire image\n",
    "#     lat = top_left[0], top_left[0], btm_right[0], btm_right[0]\n",
    "#     lon = btm_right[1], top_left[1], top_left[1], btm_right[1]\n",
    "\n",
    "#     geom = Polygon(zip(lat, lon))\n",
    "#     img_df = gpd.GeoDataFrame(geometry=[geom]) \n",
    "#     img_list.append(img_df)"
   ]
  },
  {
   "cell_type": "code",
   "execution_count": 10,
   "metadata": {},
   "outputs": [
    {
     "data": {
      "text/html": [
       "<div>\n",
       "<style scoped>\n",
       "    .dataframe tbody tr th:only-of-type {\n",
       "        vertical-align: middle;\n",
       "    }\n",
       "\n",
       "    .dataframe tbody tr th {\n",
       "        vertical-align: top;\n",
       "    }\n",
       "\n",
       "    .dataframe thead th {\n",
       "        text-align: right;\n",
       "    }\n",
       "</style>\n",
       "<table border=\"1\" class=\"dataframe\">\n",
       "  <thead>\n",
       "    <tr style=\"text-align: right;\">\n",
       "      <th></th>\n",
       "      <th>name</th>\n",
       "      <th>percentage_probability</th>\n",
       "      <th>image_name</th>\n",
       "      <th>geometry</th>\n",
       "    </tr>\n",
       "  </thead>\n",
       "  <tbody>\n",
       "    <tr>\n",
       "      <td>0</td>\n",
       "      <td>person</td>\n",
       "      <td>80.600911</td>\n",
       "      <td>image_(19, 37.49039, 22.93714, 37.48995, 22.93...</td>\n",
       "      <td>POLYGON ((22.93884295279464 37.48870981810121,...</td>\n",
       "    </tr>\n",
       "    <tr>\n",
       "      <td>1</td>\n",
       "      <td>car</td>\n",
       "      <td>84.235823</td>\n",
       "      <td>image_(19, 37.49039, 22.93714, 37.48995, 22.93...</td>\n",
       "      <td>POLYGON ((22.94148004932968 37.48895175008197,...</td>\n",
       "    </tr>\n",
       "    <tr>\n",
       "      <td>2</td>\n",
       "      <td>car</td>\n",
       "      <td>87.241936</td>\n",
       "      <td>image_(19, 37.49039, 22.93714, 37.48995, 22.93...</td>\n",
       "      <td>POLYGON ((22.9376971702588 37.4889358362716, 2...</td>\n",
       "    </tr>\n",
       "    <tr>\n",
       "      <td>3</td>\n",
       "      <td>bus</td>\n",
       "      <td>99.995172</td>\n",
       "      <td>image_(19, 37.49039, 22.93714, 37.48995, 22.93...</td>\n",
       "      <td>POLYGON ((22.93794779771097 37.48831008364132,...</td>\n",
       "    </tr>\n",
       "    <tr>\n",
       "      <td>4</td>\n",
       "      <td>dog</td>\n",
       "      <td>99.986875</td>\n",
       "      <td>image_(19, 39.67116, 20.07228, 39.67073, 20.07...</td>\n",
       "      <td>POLYGON ((20.07355738407767 39.66953817137367,...</td>\n",
       "    </tr>\n",
       "    <tr>\n",
       "      <td>5</td>\n",
       "      <td>airplane</td>\n",
       "      <td>100.000000</td>\n",
       "      <td>image_(19, 40.50401, 22.6655, 40.50356, 22.666...</td>\n",
       "      <td>POLYGON ((22.6662982953343 40.50245965599078, ...</td>\n",
       "    </tr>\n",
       "  </tbody>\n",
       "</table>\n",
       "</div>"
      ],
      "text/plain": [
       "       name  percentage_probability  \\\n",
       "0    person               80.600911   \n",
       "1       car               84.235823   \n",
       "2       car               87.241936   \n",
       "3       bus               99.995172   \n",
       "4       dog               99.986875   \n",
       "5  airplane              100.000000   \n",
       "\n",
       "                                          image_name  \\\n",
       "0  image_(19, 37.49039, 22.93714, 37.48995, 22.93...   \n",
       "1  image_(19, 37.49039, 22.93714, 37.48995, 22.93...   \n",
       "2  image_(19, 37.49039, 22.93714, 37.48995, 22.93...   \n",
       "3  image_(19, 37.49039, 22.93714, 37.48995, 22.93...   \n",
       "4  image_(19, 39.67116, 20.07228, 39.67073, 20.07...   \n",
       "5  image_(19, 40.50401, 22.6655, 40.50356, 22.666...   \n",
       "\n",
       "                                            geometry  \n",
       "0  POLYGON ((22.93884295279464 37.48870981810121,...  \n",
       "1  POLYGON ((22.94148004932968 37.48895175008197,...  \n",
       "2  POLYGON ((22.9376971702588 37.4889358362716, 2...  \n",
       "3  POLYGON ((22.93794779771097 37.48831008364132,...  \n",
       "4  POLYGON ((20.07355738407767 39.66953817137367,...  \n",
       "5  POLYGON ((22.6662982953343 40.50245965599078, ...  "
      ]
     },
     "execution_count": 10,
     "metadata": {},
     "output_type": "execute_result"
    }
   ],
   "source": [
    "#combine polygons and add to object list\n",
    "geom_list = gpd.GeoDataFrame(pd.concat(obj_list, ignore_index=True), crs = {'init': 'epsg:4326'})\n",
    "\n",
    "object_list = object_list.reset_index(drop=True) #super important\n",
    "df = gpd.GeoDataFrame(object_list, geometry = geom_list['geometry'])\n",
    "df = df.drop(columns=['box_points'])\n",
    "df"
   ]
  },
  {
   "cell_type": "code",
   "execution_count": 11,
   "metadata": {},
   "outputs": [],
   "source": [
    "df.to_file('/Users/Zack/Desktop/d2_list.geojson', driver='GeoJSON')\n",
    "df.to_file('/Users/Zack/Desktop/d2_list.shp')"
   ]
  }
 ],
 "metadata": {
  "kernelspec": {
   "display_name": "Python 3",
   "language": "python",
   "name": "python3"
  },
  "language_info": {
   "codemirror_mode": {
    "name": "ipython",
    "version": 3
   },
   "file_extension": ".py",
   "mimetype": "text/x-python",
   "name": "python",
   "nbconvert_exporter": "python",
   "pygments_lexer": "ipython3",
   "version": "3.7.4"
  }
 },
 "nbformat": 4,
 "nbformat_minor": 2
}
