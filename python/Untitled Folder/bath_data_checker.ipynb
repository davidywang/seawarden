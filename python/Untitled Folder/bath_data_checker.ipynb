{
 "cells": [
  {
   "cell_type": "code",
   "execution_count": 4,
   "metadata": {},
   "outputs": [],
   "source": [
    "from osgeo import gdal\n",
    "import rasterio\n",
    "from rasterio.plot import show\n",
    "\n",
    "import matplotlib.pyplot as plt\n",
    "import numpy as np\n",
    "import os\n",
    "%matplotlib inline"
   ]
  },
  {
   "cell_type": "code",
   "execution_count": 9,
   "metadata": {},
   "outputs": [
    {
     "name": "stdout",
     "output_type": "stream",
     "text": [
      "/Users/Zack/0_thesis_bath/bath_2018_tif_v2/0_bath.tif\n"
     ]
    },
    {
     "data": {
      "image/png": "[encoded data removed]",
      "text/plain": [
       "<Figure size 1440x576 with 1 Axes>"
      ]
     },
     "metadata": {
      "needs_background": "light"
     },
     "output_type": "display_data"
    },
    {
     "data": {
      "text/plain": [
       "<matplotlib.axes._subplots.AxesSubplot at 0x2a76ffade48>"
      ]
     },
     "execution_count": 9,
     "metadata": {},
     "output_type": "execute_result"
    }
   ],
   "source": [
    "#load dem raster file\n",
    "filepath = '/Users/Zack/0_thesis_bath/bath_2018_tif_v2/'\n",
    "#filepath = '/Users/Zack/0_GIS_Greece/dem_strm90/'\n",
    "dem = '0_bath.tif'\n",
    "print(filepath + dem)\n",
    "\n",
    "#display dem raster file\n",
    "data_dir = filepath + dem\n",
    "fp = os.path.join(data_dir)\n",
    "raster = rasterio.open(fp)\n",
    "\n",
    "fig = plt.figure(figsize = (20, 8))\n",
    "show(raster)\n",
    "#show((raster, 1), cmap='gray')"
   ]
  },
  {
   "cell_type": "code",
   "execution_count": 10,
   "metadata": {},
   "outputs": [
    {
     "data": {
      "text/plain": [
       "<open DatasetReader name='/Users/Zack/0_thesis_bath/bath_2018_tif_v2/0_bath.tif' mode='r'>"
      ]
     },
     "execution_count": 10,
     "metadata": {},
     "output_type": "execute_result"
    }
   ],
   "source": [
    "raster"
   ]
  }
 ],
 "metadata": {
  "kernelspec": {
   "display_name": "Python 3",
   "language": "python",
   "name": "python3"
  },
  "language_info": {
   "codemirror_mode": {
    "name": "ipython",
    "version": 3
   },
   "file_extension": ".py",
   "mimetype": "text/x-python",
   "name": "python",
   "nbconvert_exporter": "python",
   "pygments_lexer": "ipython3",
   "version": "3.7.4"
  }
 },
 "nbformat": 4,
 "nbformat_minor": 2
}
