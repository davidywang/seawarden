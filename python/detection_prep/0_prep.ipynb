{
 "cells": [
  {
   "cell_type": "code",
   "execution_count": 19,
   "metadata": {},
   "outputs": [],
   "source": [
    "import pandas as pd\n",
    "import geopandas as gpd\n",
    "from geopandas.tools import sjoin\n",
    "import shapely\n",
    "from shapely.geometry import mapping\n",
    "# from shapely.geometry.polygon import Polygon\n",
    "# from shapely.geometry.multipolygon import MultiPolygon\n",
    "from explode import explode\n",
    "from coord import coord\n",
    "import matplotlib.pyplot as plt"
   ]
  },
  {
   "cell_type": "code",
   "execution_count": 20,
   "metadata": {},
   "outputs": [
    {
     "name": "stdout",
     "output_type": "stream",
     "text": [
      "detections 10617 {'init': 'epsg:2100'}\n",
      "search area 1 {'init': 'epsg:2100'}\n",
      "exclusion zones 15 {'init': 'epsg:2100'}\n"
     ]
    }
   ],
   "source": [
    "#load data layers\n",
    "f = '/Users/Zack/0_seawarden/python/detection_prep/targets_sar/'\n",
    "\n",
    "#n = '2019_g25_100m_10-20_6m_02-01'\n",
    "#n = '2019_g25_100m_10-20_1yr_02-01'\n",
    "#n = '2018_g25_100m_10-20_6m_02-02'\n",
    "n = '2018_g25_100m_10-20_1yr_02-02'\n",
    "\n",
    "pts = gpd.read_file(f + n + '.geojson')\n",
    "\n",
    "f2 = '/Users/Zack/0_greece/'\n",
    "search_area = gpd.read_file(f2 + 'dem_eu/mask_search_area_100m_5km.shp')\n",
    "exclusion_zones = gpd.read_file(f2 + 'AOI/exclusions_2020-01-07.geojson')\n",
    "farm_sites = gpd.read_file(f2 + 'blue_bridge/fishcages_Greece_farm_polygons_2.shp')\n",
    "\n",
    "#re-project layers\n",
    "pts = pts.to_crs({'init': 'epsg:2100'})\n",
    "search_area = search_area.to_crs({'init': 'epsg:2100'})\n",
    "exclusion_zones = exclusion_zones.to_crs({'init': 'epsg:2100'})\n",
    "\n",
    "print('detections', len(pts), pts.crs)\n",
    "print('search area', len(search_area), search_area.crs)\n",
    "print('exclusion zones', len(exclusion_zones), exclusion_zones.crs)"
   ]
  },
  {
   "cell_type": "code",
   "execution_count": 21,
   "metadata": {
    "scrolled": false
   },
   "outputs": [],
   "source": [
    "# plt.rcParams['figure.figsize'] = (20, 10)\n",
    "# ax=search_area.plot(linewidth=.5, edgecolor = 'black', facecolor = 'none')\n",
    "# pts.plot(markersize=5, facecolor='red', ax=ax)\n",
    "# exclusion_zones.plot(ax=ax)"
   ]
  },
  {
   "cell_type": "code",
   "execution_count": 22,
   "metadata": {},
   "outputs": [
    {
     "name": "stdout",
     "output_type": "stream",
     "text": [
      "detections within search area: 4540\n",
      "Wall time: 2.43 s\n"
     ]
    }
   ],
   "source": [
    "%%time \n",
    "#clip points to search area\n",
    "clip = sjoin(pts, search_area, how='inner', op='within')\n",
    "print('detections within search area:', len(clip))"
   ]
  },
  {
   "cell_type": "code",
   "execution_count": 23,
   "metadata": {
    "scrolled": true
   },
   "outputs": [],
   "source": [
    "#plt.rcParams['figure.figsize'] = (20, 10)\n",
    "#ax=search_area.plot(linewidth=.5, edgecolor = 'black', facecolor = 'none')\n",
    "#clip.plot(markersize=5, facecolor = 'red', ax=ax)"
   ]
  },
  {
   "cell_type": "code",
   "execution_count": 24,
   "metadata": {
    "scrolled": true
   },
   "outputs": [
    {
     "name": "stdout",
     "output_type": "stream",
     "text": [
      "Wall time: 0 ns\n"
     ]
    }
   ],
   "source": [
    "%%time \n",
    "#combine all exclusion zones\n",
    "exclusion_zones['Dissolve'] = 0\n",
    "exclusion_zones_dis = exclusion_zones.dissolve(by='Dissolve')"
   ]
  },
  {
   "cell_type": "code",
   "execution_count": 25,
   "metadata": {},
   "outputs": [
    {
     "name": "stdout",
     "output_type": "stream",
     "text": [
      "detections outside of exclusion zones: 3525\n",
      "Wall time: 265 ms\n"
     ]
    }
   ],
   "source": [
    "%%time \n",
    "#exclude points in exclusion areas\n",
    "mask = ~clip.within(exclusion_zones_dis.loc[0, 'geometry'])\n",
    "clip2 = clip.loc[mask]\n",
    "print('detections outside of exclusion zones:', len(clip2))"
   ]
  },
  {
   "cell_type": "code",
   "execution_count": 26,
   "metadata": {
    "scrolled": true
   },
   "outputs": [],
   "source": [
    "#ax=search_area.plot(linewidth=.5, edgecolor = 'black', facecolor = 'none')\n",
    "#exclusion_zones_dis.plot(facecolor = 'blue', ax=ax)\n",
    "#clip2.plot(markersize=5, facecolor = 'red', ax=ax)"
   ]
  },
  {
   "cell_type": "code",
   "execution_count": 27,
   "metadata": {},
   "outputs": [
    {
     "name": "stdout",
     "output_type": "stream",
     "text": [
      "Wall time: 252 ms\n"
     ]
    }
   ],
   "source": [
    "%%time \n",
    "#buffer points, dissolve buffers to aggregate points near each other\n",
    "buffer = gpd.GeoDataFrame(geometry = clip2.buffer(10))\n",
    "buffer['Dissolve'] = 0\n",
    "buffer_dis = buffer.dissolve(by='Dissolve')"
   ]
  },
  {
   "cell_type": "code",
   "execution_count": 28,
   "metadata": {},
   "outputs": [
    {
     "name": "stdout",
     "output_type": "stream",
     "text": [
      "detections after aggregation: 3507\n",
      "Wall time: 1.72 s\n"
     ]
    }
   ],
   "source": [
    "%%time \n",
    "#explode polygon and generate centroids\n",
    "buffer_exploded = explode(buffer_dis)      \n",
    "centroids = gpd.GeoDataFrame(geometry = buffer_exploded.centroid)\n",
    "print('detections after aggregation:', len(centroids))"
   ]
  },
  {
   "cell_type": "code",
   "execution_count": 29,
   "metadata": {},
   "outputs": [
    {
     "name": "stdout",
     "output_type": "stream",
     "text": [
      "Wall time: 207 ms\n"
     ]
    }
   ],
   "source": [
    "%%time \n",
    "#buffer centroids and make square polygons\n",
    "centroid_buffer = gpd.GeoDataFrame(geometry = centroids.buffer(50))\n",
    "envelope = gpd.GeoDataFrame(geometry = centroid_buffer.envelope)"
   ]
  },
  {
   "cell_type": "code",
   "execution_count": 30,
   "metadata": {
    "scrolled": true
   },
   "outputs": [],
   "source": [
    "#plt.rcParams['figure.figsize'] = (20, 10)\n",
    "#ax=search_area.plot(linewidth=.5, edgecolor = 'black', facecolor = 'none')\n",
    "#centroid_buffer.plot(markersize=5, facecolor = 'black', ax=ax)\n",
    "#envelope.plot(linewidth=.5, edgecolor = 'black', facecolor = 'none', ax=ax)"
   ]
  },
  {
   "cell_type": "code",
   "execution_count": 31,
   "metadata": {
    "scrolled": false
   },
   "outputs": [],
   "source": [
    "#plt.rcParams['figure.figsize'] = (20, 10)\n",
    "#ax = centroids.loc[[0], 'geometry'].plot(markersize=10, facecolor = 'black')\n",
    "#centroid_buffer.loc[[0], 'geometry'].plot(linewidth=.5, edgecolor = 'black', facecolor = 'none', ax=ax)\n",
    "#envelope.loc[[0], 'geometry'].plot(linewidth=.5, edgecolor = 'black', facecolor = 'none', ax=ax)"
   ]
  },
  {
   "cell_type": "code",
   "execution_count": 32,
   "metadata": {},
   "outputs": [
    {
     "name": "stdout",
     "output_type": "stream",
     "text": [
      "{'init': 'epsg:2100'}\n"
     ]
    },
    {
     "data": {
      "text/html": [
       "<div>\n",
       "<style scoped>\n",
       "    .dataframe tbody tr th:only-of-type {\n",
       "        vertical-align: middle;\n",
       "    }\n",
       "\n",
       "    .dataframe tbody tr th {\n",
       "        vertical-align: top;\n",
       "    }\n",
       "\n",
       "    .dataframe thead th {\n",
       "        text-align: right;\n",
       "    }\n",
       "</style>\n",
       "<table border=\"1\" class=\"dataframe\">\n",
       "  <thead>\n",
       "    <tr style=\"text-align: right;\">\n",
       "      <th></th>\n",
       "      <th>geometry</th>\n",
       "    </tr>\n",
       "  </thead>\n",
       "  <tbody>\n",
       "    <tr>\n",
       "      <td>0</td>\n",
       "      <td>POLYGON ((24.1117194014751 34.78588604855375, ...</td>\n",
       "    </tr>\n",
       "    <tr>\n",
       "      <td>1</td>\n",
       "      <td>POLYGON ((24.12551001425323 34.80271110336088,...</td>\n",
       "    </tr>\n",
       "    <tr>\n",
       "      <td>2</td>\n",
       "      <td>POLYGON ((24.11842575993763 34.84667187731439,...</td>\n",
       "    </tr>\n",
       "    <tr>\n",
       "      <td>3</td>\n",
       "      <td>POLYGON ((24.04262547882348 34.85034838207384,...</td>\n",
       "    </tr>\n",
       "    <tr>\n",
       "      <td>4</td>\n",
       "      <td>POLYGON ((24.03817278696284 34.85361676319124,...</td>\n",
       "    </tr>\n",
       "  </tbody>\n",
       "</table>\n",
       "</div>"
      ],
      "text/plain": [
       "                                            geometry\n",
       "0  POLYGON ((24.1117194014751 34.78588604855375, ...\n",
       "1  POLYGON ((24.12551001425323 34.80271110336088,...\n",
       "2  POLYGON ((24.11842575993763 34.84667187731439,...\n",
       "3  POLYGON ((24.04262547882348 34.85034838207384,...\n",
       "4  POLYGON ((24.03817278696284 34.85361676319124,..."
      ]
     },
     "execution_count": 32,
     "metadata": {},
     "output_type": "execute_result"
    }
   ],
   "source": [
    "#set crs\n",
    "envelope.crs = {'init' :'epsg:2100'}\n",
    "envelope['geometry'] = envelope['geometry'].to_crs(epsg=4326)\n",
    "print(envelope.crs)\n",
    "envelope.head()"
   ]
  },
  {
   "cell_type": "code",
   "execution_count": 33,
   "metadata": {},
   "outputs": [],
   "source": [
    "#extract lat/long for each square polygon (envelope)\n",
    "coord_list = []\n",
    "for i in range(len(envelope)):\n",
    "    coords = mapping(envelope.geometry[i])['coordinates']\n",
    "    coord_list.append(coords)"
   ]
  },
  {
   "cell_type": "code",
   "execution_count": 34,
   "metadata": {
    "scrolled": true
   },
   "outputs": [
    {
     "name": "stdout",
     "output_type": "stream",
     "text": [
      "total coordinates (5 per detection): 17535\n"
     ]
    },
    {
     "data": {
      "text/html": [
       "<div>\n",
       "<style scoped>\n",
       "    .dataframe tbody tr th:only-of-type {\n",
       "        vertical-align: middle;\n",
       "    }\n",
       "\n",
       "    .dataframe tbody tr th {\n",
       "        vertical-align: top;\n",
       "    }\n",
       "\n",
       "    .dataframe thead th {\n",
       "        text-align: right;\n",
       "    }\n",
       "</style>\n",
       "<table border=\"1\" class=\"dataframe\">\n",
       "  <thead>\n",
       "    <tr style=\"text-align: right;\">\n",
       "      <th></th>\n",
       "      <th>x</th>\n",
       "      <th>y</th>\n",
       "      <th>id</th>\n",
       "    </tr>\n",
       "  </thead>\n",
       "  <tbody>\n",
       "    <tr>\n",
       "      <td>0</td>\n",
       "      <td>24.111719401475103</td>\n",
       "      <td>34.78588604855375</td>\n",
       "      <td>0</td>\n",
       "    </tr>\n",
       "    <tr>\n",
       "      <td>1</td>\n",
       "      <td>24.112812427643906</td>\n",
       "      <td>34.78588504055781</td>\n",
       "      <td>0</td>\n",
       "    </tr>\n",
       "    <tr>\n",
       "      <td>2</td>\n",
       "      <td>24.11281365539641</td>\n",
       "      <td>34.78678681249847</td>\n",
       "      <td>0</td>\n",
       "    </tr>\n",
       "    <tr>\n",
       "      <td>3</td>\n",
       "      <td>24.111720617332125</td>\n",
       "      <td>34.78678782052806</td>\n",
       "      <td>0</td>\n",
       "    </tr>\n",
       "    <tr>\n",
       "      <td>4</td>\n",
       "      <td>24.111719401475103</td>\n",
       "      <td>34.78588604855375</td>\n",
       "      <td>0</td>\n",
       "    </tr>\n",
       "  </tbody>\n",
       "</table>\n",
       "</div>"
      ],
      "text/plain": [
       "                    x                  y  id\n",
       "0  24.111719401475103  34.78588604855375   0\n",
       "1  24.112812427643906  34.78588504055781   0\n",
       "2   24.11281365539641  34.78678681249847   0\n",
       "3  24.111720617332125  34.78678782052806   0\n",
       "4  24.111719401475103  34.78588604855375   0"
      ]
     },
     "execution_count": 34,
     "metadata": {},
     "output_type": "execute_result"
    }
   ],
   "source": [
    "# #combine x/y point groups\n",
    "coord_all = []\n",
    "for i in range(len(coord_list)):\n",
    "    coord_group = coord(coord_list[i]) #function to extract and format x/y points\n",
    "    coord_group['id']=i\n",
    "    coord_all.append(coord_group)\n",
    "    \n",
    "targets = pd.concat(coord_all)\n",
    "print('total coordinates (5 per detection):', len(targets))\n",
    "targets.head()"
   ]
  },
  {
   "cell_type": "code",
   "execution_count": 35,
   "metadata": {
    "scrolled": true
   },
   "outputs": [
    {
     "name": "stdout",
     "output_type": "stream",
     "text": [
      "total detections: 10617\n",
      "detections in search area: 3507\n",
      "farm sites: 218\n",
      "matches: 300\n",
      "positive matches 1.376\n",
      "overall accuracy 0.086\n"
     ]
    }
   ],
   "source": [
    "#accuracy check\n",
    "centroids_test = centroids.copy()\n",
    "centroids_test.crs = {'init' :'epsg:2100'}\n",
    "centroids_test['geometry'] = centroids_test['geometry'].to_crs(epsg=4326)\n",
    "\n",
    "matches = centroids_test.intersects(farm_sites.unary_union)\n",
    "count = centroids_test.loc[matches]\n",
    "\n",
    "detections_n = len(centroids_test)\n",
    "farm_n = len(farm_sites)\n",
    "matches_n = len(count)\n",
    "\n",
    "print('total detections:', len(pts))\n",
    "print('detections in search area:', detections_n)\n",
    "print('farm sites:', farm_n)\n",
    "print('matches:', matches_n)\n",
    "print('positive matches', round(matches_n / farm_n, 3))\n",
    "print('overall accuracy', round(matches_n / detections_n, 3))\n",
    "\n",
    "#plt.rcParams['figure.figsize'] = (20, 10)\n",
    "#ax=farm_sites.plot(linewidth=.5, edgecolor = 'black', facecolor = 'none')\n",
    "#centroids_test.plot(markersize=1, facecolor = 'red', ax=ax)"
   ]
  },
  {
   "cell_type": "code",
   "execution_count": 36,
   "metadata": {},
   "outputs": [],
   "source": [
    "pts.to_file(f + n + '.shp')\n",
    "targets.to_csv(f + n + '.csv', index = None, header=True)\n",
    "\n",
    "centroids_test.crs = {'init' :'epsg:4326'}\n",
    "centroids_test.to_file(f + n + '_v2.shp')\n",
    "centroids_test.to_file(f + n + '_v2.geojson', driver='GeoJSON')"
   ]
  }
 ],
 "metadata": {
  "kernelspec": {
   "display_name": "Python 3",
   "language": "python",
   "name": "python3"
  },
  "language_info": {
   "codemirror_mode": {
    "name": "ipython",
    "version": 3
   },
   "file_extension": ".py",
   "mimetype": "text/x-python",
   "name": "python",
   "nbconvert_exporter": "python",
   "pygments_lexer": "ipython3",
   "version": "3.7.4"
  }
 },
 "nbformat": 4,
 "nbformat_minor": 2
}
