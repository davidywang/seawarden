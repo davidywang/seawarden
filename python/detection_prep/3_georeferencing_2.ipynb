{
 "cells": [
  {
   "cell_type": "code",
   "execution_count": 2,
   "metadata": {},
   "outputs": [],
   "source": [
    "#convert single jpeg to tiff\n",
    "from PIL import Image\n",
    "from osgeo import gdal, osr\n",
    "import os \n",
    "import pandas as pd"
   ]
  },
  {
   "cell_type": "code",
   "execution_count": 5,
   "metadata": {},
   "outputs": [
    {
     "name": "stdout",
     "output_type": "stream",
     "text": [
      "58\n"
     ]
    },
    {
     "data": {
      "text/html": [
       "<div>\n",
       "<style scoped>\n",
       "    .dataframe tbody tr th:only-of-type {\n",
       "        vertical-align: middle;\n",
       "    }\n",
       "\n",
       "    .dataframe tbody tr th {\n",
       "        vertical-align: top;\n",
       "    }\n",
       "\n",
       "    .dataframe thead th {\n",
       "        text-align: right;\n",
       "    }\n",
       "</style>\n",
       "<table border=\"1\" class=\"dataframe\">\n",
       "  <thead>\n",
       "    <tr style=\"text-align: right;\">\n",
       "      <th></th>\n",
       "      <th>image</th>\n",
       "    </tr>\n",
       "  </thead>\n",
       "  <tbody>\n",
       "    <tr>\n",
       "      <td>0</td>\n",
       "      <td>image_(18, 35.64822, 23.70826, 40.21038, 23.77...</td>\n",
       "    </tr>\n",
       "    <tr>\n",
       "      <td>1</td>\n",
       "      <td>image_(18, 36.0586, 27.802, 39.67483, 19.85218...</td>\n",
       "    </tr>\n",
       "    <tr>\n",
       "      <td>2</td>\n",
       "      <td>image_(18, 36.43075, 27.29309, 39.11813, 23.15...</td>\n",
       "    </tr>\n",
       "    <tr>\n",
       "      <td>3</td>\n",
       "      <td>image_(18, 36.56755, 26.27227, 38.94161, 24.55...</td>\n",
       "    </tr>\n",
       "    <tr>\n",
       "      <td>4</td>\n",
       "      <td>image_(18, 36.58337, 27.86255, 39.15574, 23.07...</td>\n",
       "    </tr>\n",
       "  </tbody>\n",
       "</table>\n",
       "</div>"
      ],
      "text/plain": [
       "                                               image\n",
       "0  image_(18, 35.64822, 23.70826, 40.21038, 23.77...\n",
       "1  image_(18, 36.0586, 27.802, 39.67483, 19.85218...\n",
       "2  image_(18, 36.43075, 27.29309, 39.11813, 23.15...\n",
       "3  image_(18, 36.56755, 26.27227, 38.94161, 24.55...\n",
       "4  image_(18, 36.58337, 27.86255, 39.15574, 23.07..."
      ]
     },
     "execution_count": 5,
     "metadata": {},
     "output_type": "execute_result"
    }
   ],
   "source": [
    "#batch convert jpeg to tiff\n",
    "folder = \"/Users/Zack/Desktop/farmsite/true positive/\"\n",
    "output = \"/Users/Zack/Desktop/farmsite/detections_new/\"\n",
    "files = os.listdir(folder)\n",
    "\n",
    "file = \"/Users/Zack/Desktop/farmsite/detections_new.csv\"\n",
    "detections = pd.read_csv(file, delimiter=',', header=0)\n",
    "print(len(detections))\n",
    "detections.head()"
   ]
  },
  {
   "cell_type": "code",
   "execution_count": 6,
   "metadata": {},
   "outputs": [],
   "source": [
    "for i in range(len(detections)):   \n",
    "    name = detections['image'][i]\n",
    "    im = Image.open(folder + name)\n",
    "    name = name[:-5] + '.tiff'\n",
    "    im.save(output + name)     "
   ]
  },
  {
   "cell_type": "code",
   "execution_count": 112,
   "metadata": {},
   "outputs": [],
   "source": [
    "#georef function\n",
    "def georef(src_filename, dst_filename, uperleftx, uperlefty):\n",
    "    # Opens source dataset\n",
    "    src_ds = gdal.Open(src_filename)\n",
    "    format = \"GTiff\"\n",
    "    driver = gdal.GetDriverByName(format)\n",
    "\n",
    "    # Open destination dataset\n",
    "    dst_ds = driver.CreateCopy(dst_filename, src_ds, 0)\n",
    "\n",
    "    # Specify raster location through geotransform array\n",
    "    # (uperleftx, scalex, skewx, uperlefty, skewy, scaley)\n",
    "    # Scale = size of one pixel in units of raster projection\n",
    "    # this example below assumes 100x100\n",
    "    #gt = [uperleftx, .0000054, 0, uperlefty, 0, -.0000042]\n",
    "    gt = [uperleftx, 0.000002986 , 0, uperlefty, 0, -.0000042]\n",
    "    #0.5972\n",
    "\n",
    "    # Set location\n",
    "    dst_ds.SetGeoTransform(gt)\n",
    "\n",
    "    # Get raster projection\n",
    "    epsg = 4326\n",
    "    srs = osr.SpatialReference()\n",
    "    srs.ImportFromEPSG(epsg)\n",
    "    dest_wkt = srs.ExportToWkt()\n",
    "\n",
    "    # Set projection\n",
    "    dst_ds.SetProjection(dest_wkt)\n",
    "\n",
    "    # Close files\n",
    "    dst_ds = None\n",
    "    src_ds = None"
   ]
  },
  {
   "cell_type": "code",
   "execution_count": 115,
   "metadata": {
    "scrolled": false
   },
   "outputs": [],
   "source": [
    "#batch geref\n",
    "src_folder = \"/Users/Zack/Desktop/detections_new/\"\n",
    "dst_folder = \"/Users/Zack/Desktop/detections_new_georef/\"\n",
    "filename = os.listdir(src_folder)\n",
    "\n",
    "for i in filename:\n",
    "    src_filename = src_folder+i\n",
    "    dst_filename = dst_folder+i\n",
    "    uperleftx = float((i.split(\",\"))[4]) #from filename\n",
    "    uperlefty = float((i.split(\",\"))[3]) #from filename\n",
    "    georef(src_filename, dst_filename, uperleftx, uperlefty)"
   ]
  }
 ],
 "metadata": {
  "kernelspec": {
   "display_name": "Python 3",
   "language": "python",
   "name": "python3"
  },
  "language_info": {
   "codemirror_mode": {
    "name": "ipython",
    "version": 3
   },
   "file_extension": ".py",
   "mimetype": "text/x-python",
   "name": "python",
   "nbconvert_exporter": "python",
   "pygments_lexer": "ipython3",
   "version": "3.7.4"
  }
 },
 "nbformat": 4,
 "nbformat_minor": 2
}
