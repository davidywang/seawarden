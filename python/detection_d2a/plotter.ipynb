{
 "cells": [
  {
   "cell_type": "code",
   "execution_count": 5,
   "metadata": {},
   "outputs": [],
   "source": [
    "import os\n",
    "import pandas as pd\n",
    "import geopandas as gpd\n",
    "from shapely.geometry import Point"
   ]
  },
  {
   "cell_type": "code",
   "execution_count": 93,
   "metadata": {
    "scrolled": true
   },
   "outputs": [
    {
     "data": {
      "text/html": [
       "<div>\n",
       "<style scoped>\n",
       "    .dataframe tbody tr th:only-of-type {\n",
       "        vertical-align: middle;\n",
       "    }\n",
       "\n",
       "    .dataframe tbody tr th {\n",
       "        vertical-align: top;\n",
       "    }\n",
       "\n",
       "    .dataframe thead th {\n",
       "        text-align: right;\n",
       "    }\n",
       "</style>\n",
       "<table border=\"1\" class=\"dataframe\">\n",
       "  <thead>\n",
       "    <tr style=\"text-align: right;\">\n",
       "      <th></th>\n",
       "      <th>image</th>\n",
       "      <th>detections</th>\n",
       "    </tr>\n",
       "  </thead>\n",
       "  <tbody>\n",
       "    <tr>\n",
       "      <td>0</td>\n",
       "      <td>image_(18, 35.29339, 26.26795, 40.53992, 22.75...</td>\n",
       "      <td>1</td>\n",
       "    </tr>\n",
       "    <tr>\n",
       "      <td>1</td>\n",
       "      <td>image_(18, 35.29715, 25.47558, 40.50499, 22.70...</td>\n",
       "      <td>5</td>\n",
       "    </tr>\n",
       "    <tr>\n",
       "      <td>2</td>\n",
       "      <td>image_(18, 35.30064, 26.26219, 40.53967, 22.76...</td>\n",
       "      <td>2</td>\n",
       "    </tr>\n",
       "    <tr>\n",
       "      <td>3</td>\n",
       "      <td>image_(18, 35.30195, 26.2899, 40.54976, 23.887...</td>\n",
       "      <td>16</td>\n",
       "    </tr>\n",
       "    <tr>\n",
       "      <td>4</td>\n",
       "      <td>image_(18, 35.30221, 26.29449, 40.54475, 22.77...</td>\n",
       "      <td>11</td>\n",
       "    </tr>\n",
       "  </tbody>\n",
       "</table>\n",
       "</div>"
      ],
      "text/plain": [
       "                                               image  detections\n",
       "0  image_(18, 35.29339, 26.26795, 40.53992, 22.75...           1\n",
       "1  image_(18, 35.29715, 25.47558, 40.50499, 22.70...           5\n",
       "2  image_(18, 35.30064, 26.26219, 40.53967, 22.76...           2\n",
       "3  image_(18, 35.30195, 26.2899, 40.54976, 23.887...          16\n",
       "4  image_(18, 35.30221, 26.29449, 40.54475, 22.77...          11"
      ]
     },
     "execution_count": 93,
     "metadata": {},
     "output_type": "execute_result"
    }
   ],
   "source": [
    "#file = \"./detections.csv\"\n",
    "#detections = pd.read_csv(file, delimiter=',', header=0)\n",
    "#detections.head()"
   ]
  },
  {
   "cell_type": "code",
   "execution_count": 10,
   "metadata": {},
   "outputs": [
    {
     "name": "stdout",
     "output_type": "stream",
     "text": [
      "432\n"
     ]
    },
    {
     "data": {
      "text/html": [
       "<div>\n",
       "<style scoped>\n",
       "    .dataframe tbody tr th:only-of-type {\n",
       "        vertical-align: middle;\n",
       "    }\n",
       "\n",
       "    .dataframe tbody tr th {\n",
       "        vertical-align: top;\n",
       "    }\n",
       "\n",
       "    .dataframe thead th {\n",
       "        text-align: right;\n",
       "    }\n",
       "</style>\n",
       "<table border=\"1\" class=\"dataframe\">\n",
       "  <thead>\n",
       "    <tr style=\"text-align: right;\">\n",
       "      <th></th>\n",
       "      <th>image</th>\n",
       "    </tr>\n",
       "  </thead>\n",
       "  <tbody>\n",
       "    <tr>\n",
       "      <td>0</td>\n",
       "      <td>image_(18, 35.30195, 26.2899, 40.54976, 23.887...</td>\n",
       "    </tr>\n",
       "    <tr>\n",
       "      <td>1</td>\n",
       "      <td>image_(18, 35.30349, 23.51298, 38.24912, 24.12...</td>\n",
       "    </tr>\n",
       "    <tr>\n",
       "      <td>2</td>\n",
       "      <td>image_(18, 35.30506, 23.51354, 38.24928, 24.12...</td>\n",
       "    </tr>\n",
       "    <tr>\n",
       "      <td>3</td>\n",
       "      <td>image_(18, 35.3783, 23.53329, 39.79014, 19.911...</td>\n",
       "    </tr>\n",
       "    <tr>\n",
       "      <td>4</td>\n",
       "      <td>image_(18, 35.38447, 23.53343, 39.7903, 19.913...</td>\n",
       "    </tr>\n",
       "  </tbody>\n",
       "</table>\n",
       "</div>"
      ],
      "text/plain": [
       "                                               image\n",
       "0  image_(18, 35.30195, 26.2899, 40.54976, 23.887...\n",
       "1  image_(18, 35.30349, 23.51298, 38.24912, 24.12...\n",
       "2  image_(18, 35.30506, 23.51354, 38.24928, 24.12...\n",
       "3  image_(18, 35.3783, 23.53329, 39.79014, 19.911...\n",
       "4  image_(18, 35.38447, 23.53343, 39.7903, 19.913..."
      ]
     },
     "execution_count": 10,
     "metadata": {},
     "output_type": "execute_result"
    }
   ],
   "source": [
    "#load CSVs\n",
    "folder = '/Users/Zack/Desktop/true positive/'\n",
    "files = os.listdir(folder)\n",
    "print(len(files))\n",
    "detections = pd.DataFrame({'image': files})\n",
    "detections.head()"
   ]
  },
  {
   "cell_type": "code",
   "execution_count": 12,
   "metadata": {},
   "outputs": [],
   "source": [
    "x_list, y_list = [], []\n",
    "for i in range(len(detections)):\n",
    "    name = detections['image'].iloc[i]\n",
    "    y1=(float(name.split(\",\")[3]))\n",
    "    x1=(float(name.split(\",\")[4]))\n",
    "    y2=(float(name.split(\",\")[5]))\n",
    "    x2=(name.split(\",\")[6])\n",
    "    x2=(float(x2.split(\")\")[0]))\n",
    "    y = (y1+y2)/2\n",
    "    x = (x1+x2)/2\n",
    "    y_list.append(y)\n",
    "    x_list.append(x)"
   ]
  },
  {
   "cell_type": "code",
   "execution_count": 13,
   "metadata": {},
   "outputs": [
    {
     "data": {
      "text/html": [
       "<div>\n",
       "<style scoped>\n",
       "    .dataframe tbody tr th:only-of-type {\n",
       "        vertical-align: middle;\n",
       "    }\n",
       "\n",
       "    .dataframe tbody tr th {\n",
       "        vertical-align: top;\n",
       "    }\n",
       "\n",
       "    .dataframe thead th {\n",
       "        text-align: right;\n",
       "    }\n",
       "</style>\n",
       "<table border=\"1\" class=\"dataframe\">\n",
       "  <thead>\n",
       "    <tr style=\"text-align: right;\">\n",
       "      <th></th>\n",
       "      <th>image</th>\n",
       "      <th>geometry</th>\n",
       "    </tr>\n",
       "  </thead>\n",
       "  <tbody>\n",
       "    <tr>\n",
       "      <td>0</td>\n",
       "      <td>image_(18, 35.30195, 26.2899, 40.54976, 23.887...</td>\n",
       "      <td>POINT (23.8818 40.55426)</td>\n",
       "    </tr>\n",
       "    <tr>\n",
       "      <td>1</td>\n",
       "      <td>image_(18, 35.30349, 23.51298, 38.24912, 24.12...</td>\n",
       "      <td>POINT (24.121605 38.253635)</td>\n",
       "    </tr>\n",
       "    <tr>\n",
       "      <td>2</td>\n",
       "      <td>image_(18, 35.30506, 23.51354, 38.24928, 24.12...</td>\n",
       "      <td>POINT (24.121825 38.253795)</td>\n",
       "    </tr>\n",
       "    <tr>\n",
       "      <td>3</td>\n",
       "      <td>image_(18, 35.3783, 23.53329, 39.79014, 19.911...</td>\n",
       "      <td>POINT (19.90558 39.794425)</td>\n",
       "    </tr>\n",
       "    <tr>\n",
       "      <td>4</td>\n",
       "      <td>image_(18, 35.38447, 23.53343, 39.7903, 19.913...</td>\n",
       "      <td>POINT (19.906915 39.79459)</td>\n",
       "    </tr>\n",
       "  </tbody>\n",
       "</table>\n",
       "</div>"
      ],
      "text/plain": [
       "                                               image  \\\n",
       "0  image_(18, 35.30195, 26.2899, 40.54976, 23.887...   \n",
       "1  image_(18, 35.30349, 23.51298, 38.24912, 24.12...   \n",
       "2  image_(18, 35.30506, 23.51354, 38.24928, 24.12...   \n",
       "3  image_(18, 35.3783, 23.53329, 39.79014, 19.911...   \n",
       "4  image_(18, 35.38447, 23.53343, 39.7903, 19.913...   \n",
       "\n",
       "                      geometry  \n",
       "0     POINT (23.8818 40.55426)  \n",
       "1  POINT (24.121605 38.253635)  \n",
       "2  POINT (24.121825 38.253795)  \n",
       "3   POINT (19.90558 39.794425)  \n",
       "4   POINT (19.906915 39.79459)  "
      ]
     },
     "execution_count": 13,
     "metadata": {},
     "output_type": "execute_result"
    }
   ],
   "source": [
    "geometry = [Point(xy) for xy in zip(x_list, y_list)]\n",
    "pts = gpd.GeoDataFrame(detections, geometry = geometry, crs = {'init': 'epsg:4326'})\n",
    "pts.head()"
   ]
  },
  {
   "cell_type": "code",
   "execution_count": 16,
   "metadata": {},
   "outputs": [],
   "source": [
    "#pts.to_file('./detections.geojson', driver='GeoJSON')\n",
    "#pts.to_file('./detections.shp')\n",
    "pts.to_file('/Users/Zack/Desktop/detections.geojson', driver='GeoJSON')\n",
    "pts.to_file('/Users/Zack/Desktop/detections.shp')"
   ]
  }
 ],
 "metadata": {
  "kernelspec": {
   "display_name": "Python 3",
   "language": "python",
   "name": "python3"
  },
  "language_info": {
   "codemirror_mode": {
    "name": "ipython",
    "version": 3
   },
   "file_extension": ".py",
   "mimetype": "text/x-python",
   "name": "python",
   "nbconvert_exporter": "python",
   "pygments_lexer": "ipython3",
   "version": "3.7.4"
  }
 },
 "nbformat": 4,
 "nbformat_minor": 2
}
