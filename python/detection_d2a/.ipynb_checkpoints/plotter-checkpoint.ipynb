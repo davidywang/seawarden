{
 "cells": [
  {
   "cell_type": "code",
   "execution_count": 79,
   "metadata": {},
   "outputs": [],
   "source": [
    "import pandas as pd\n",
    "import geopandas as gpd\n",
    "from shapely.geometry import Point"
   ]
  },
  {
   "cell_type": "code",
   "execution_count": 35,
   "metadata": {
    "scrolled": true
   },
   "outputs": [
    {
     "data": {
      "text/html": [
       "<div>\n",
       "<style scoped>\n",
       "    .dataframe tbody tr th:only-of-type {\n",
       "        vertical-align: middle;\n",
       "    }\n",
       "\n",
       "    .dataframe tbody tr th {\n",
       "        vertical-align: top;\n",
       "    }\n",
       "\n",
       "    .dataframe thead th {\n",
       "        text-align: right;\n",
       "    }\n",
       "</style>\n",
       "<table border=\"1\" class=\"dataframe\">\n",
       "  <thead>\n",
       "    <tr style=\"text-align: right;\">\n",
       "      <th></th>\n",
       "      <th>image</th>\n",
       "      <th>detections</th>\n",
       "    </tr>\n",
       "  </thead>\n",
       "  <tbody>\n",
       "    <tr>\n",
       "      <td>0</td>\n",
       "      <td>image_(18, 35.29339, 26.26795, 40.53992, 22.75...</td>\n",
       "      <td>1</td>\n",
       "    </tr>\n",
       "    <tr>\n",
       "      <td>1</td>\n",
       "      <td>image_(18, 35.29715, 25.47558, 40.50499, 22.70...</td>\n",
       "      <td>5</td>\n",
       "    </tr>\n",
       "    <tr>\n",
       "      <td>2</td>\n",
       "      <td>image_(18, 35.30064, 26.26219, 40.53967, 22.76...</td>\n",
       "      <td>2</td>\n",
       "    </tr>\n",
       "    <tr>\n",
       "      <td>3</td>\n",
       "      <td>image_(18, 35.30195, 26.2899, 40.54976, 23.887...</td>\n",
       "      <td>16</td>\n",
       "    </tr>\n",
       "    <tr>\n",
       "      <td>4</td>\n",
       "      <td>image_(18, 35.30221, 26.29449, 40.54475, 22.77...</td>\n",
       "      <td>11</td>\n",
       "    </tr>\n",
       "  </tbody>\n",
       "</table>\n",
       "</div>"
      ],
      "text/plain": [
       "                                               image  detections\n",
       "0  image_(18, 35.29339, 26.26795, 40.53992, 22.75...           1\n",
       "1  image_(18, 35.29715, 25.47558, 40.50499, 22.70...           5\n",
       "2  image_(18, 35.30064, 26.26219, 40.53967, 22.76...           2\n",
       "3  image_(18, 35.30195, 26.2899, 40.54976, 23.887...          16\n",
       "4  image_(18, 35.30221, 26.29449, 40.54475, 22.77...          11"
      ]
     },
     "execution_count": 35,
     "metadata": {},
     "output_type": "execute_result"
    }
   ],
   "source": [
    "file = \"./detections.csv\"\n",
    "detections = pd.read_csv(file, delimiter=',', header=0)\n",
    "detections.head()"
   ]
  },
  {
   "cell_type": "code",
   "execution_count": 78,
   "metadata": {},
   "outputs": [],
   "source": [
    "cor1_list, cor2_list = [], []\n",
    "for i in range(len(detections)):\n",
    "    name = detections['image'].iloc[i]\n",
    "    cor1 = float(name.split(\", \")[5])\n",
    "    cor2 = name.split(\", \")[6]\n",
    "    cor2 = float(cor2.split(\")\")[0])\n",
    "    cor1_list.append(cor1)\n",
    "    cor2_list.append(cor2)"
   ]
  },
  {
   "cell_type": "code",
   "execution_count": 84,
   "metadata": {},
   "outputs": [
    {
     "data": {
      "text/html": [
       "<div>\n",
       "<style scoped>\n",
       "    .dataframe tbody tr th:only-of-type {\n",
       "        vertical-align: middle;\n",
       "    }\n",
       "\n",
       "    .dataframe tbody tr th {\n",
       "        vertical-align: top;\n",
       "    }\n",
       "\n",
       "    .dataframe thead th {\n",
       "        text-align: right;\n",
       "    }\n",
       "</style>\n",
       "<table border=\"1\" class=\"dataframe\">\n",
       "  <thead>\n",
       "    <tr style=\"text-align: right;\">\n",
       "      <th></th>\n",
       "      <th>image</th>\n",
       "      <th>detections</th>\n",
       "      <th>geometry</th>\n",
       "    </tr>\n",
       "  </thead>\n",
       "  <tbody>\n",
       "    <tr>\n",
       "      <td>0</td>\n",
       "      <td>image_(18, 35.29339, 26.26795, 40.53992, 22.75...</td>\n",
       "      <td>1</td>\n",
       "      <td>POINT (22.73931 40.54879)</td>\n",
       "    </tr>\n",
       "    <tr>\n",
       "      <td>1</td>\n",
       "      <td>image_(18, 35.29715, 25.47558, 40.50499, 22.70...</td>\n",
       "      <td>5</td>\n",
       "      <td>POINT (22.69179 40.51387)</td>\n",
       "    </tr>\n",
       "    <tr>\n",
       "      <td>2</td>\n",
       "      <td>image_(18, 35.30064, 26.26219, 40.53967, 22.76...</td>\n",
       "      <td>2</td>\n",
       "      <td>POINT (22.7513 40.54855)</td>\n",
       "    </tr>\n",
       "    <tr>\n",
       "      <td>3</td>\n",
       "      <td>image_(18, 35.30195, 26.2899, 40.54976, 23.887...</td>\n",
       "      <td>16</td>\n",
       "      <td>POINT (23.87589 40.55876)</td>\n",
       "    </tr>\n",
       "    <tr>\n",
       "      <td>4</td>\n",
       "      <td>image_(18, 35.30221, 26.29449, 40.54475, 22.77...</td>\n",
       "      <td>11</td>\n",
       "      <td>POINT (22.75804 40.55363)</td>\n",
       "    </tr>\n",
       "  </tbody>\n",
       "</table>\n",
       "</div>"
      ],
      "text/plain": [
       "                                               image  detections  \\\n",
       "0  image_(18, 35.29339, 26.26795, 40.53992, 22.75...           1   \n",
       "1  image_(18, 35.29715, 25.47558, 40.50499, 22.70...           5   \n",
       "2  image_(18, 35.30064, 26.26219, 40.53967, 22.76...           2   \n",
       "3  image_(18, 35.30195, 26.2899, 40.54976, 23.887...          16   \n",
       "4  image_(18, 35.30221, 26.29449, 40.54475, 22.77...          11   \n",
       "\n",
       "                    geometry  \n",
       "0  POINT (22.73931 40.54879)  \n",
       "1  POINT (22.69179 40.51387)  \n",
       "2   POINT (22.7513 40.54855)  \n",
       "3  POINT (23.87589 40.55876)  \n",
       "4  POINT (22.75804 40.55363)  "
      ]
     },
     "execution_count": 84,
     "metadata": {},
     "output_type": "execute_result"
    }
   ],
   "source": [
    "geometry = [Point(xy) for xy in zip(cor2_list, cor1_list)]\n",
    "pts = gpd.GeoDataFrame(detections, geometry = geometry)\n",
    "pts.head()"
   ]
  },
  {
   "cell_type": "code",
   "execution_count": 83,
   "metadata": {},
   "outputs": [],
   "source": [
    "pts.to_file('./detections.geojson', driver='GeoJSON')\n",
    "pts.to_file('.detections.shp')"
   ]
  }
 ],
 "metadata": {
  "kernelspec": {
   "display_name": "Python 3",
   "language": "python",
   "name": "python3"
  },
  "language_info": {
   "codemirror_mode": {
    "name": "ipython",
    "version": 3
   },
   "file_extension": ".py",
   "mimetype": "text/x-python",
   "name": "python",
   "nbconvert_exporter": "python",
   "pygments_lexer": "ipython3",
   "version": "3.7.4"
  }
 },
 "nbformat": 4,
 "nbformat_minor": 2
}
