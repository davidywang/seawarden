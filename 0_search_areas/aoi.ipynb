{
 "cells": [
  {
   "cell_type": "code",
   "execution_count": 35,
   "metadata": {},
   "outputs": [],
   "source": [
    "import pandas as pd\n",
    "import geopandas as gpd\n",
    "\n",
    "#eez = gpd.read_file('/Users/Zack/1_sw_eez/eez_v11.shp')\n",
    "#eez = eez[eez['GEONAME'] == 'French Exclusive Economic Zone']\n",
    "#eez\n",
    "#eez.to_file(\"/Users/Zack/1_sw_eez/FRA_EEZ.geojson\", driver=\"GeoJSON\")"
   ]
  },
  {
   "cell_type": "code",
   "execution_count": 36,
   "metadata": {},
   "outputs": [
    {
     "name": "stdout",
     "output_type": "stream",
     "text": [
      "country: {'init': 'epsg:4326'}\n",
      "eez: {'init': 'epsg:4326'}\n",
      "eez_prep: {'init': 'epsg:4326'}\n"
     ]
    }
   ],
   "source": [
    "#load spatial data\n",
    "eez = gpd.read_file('/Users/Zack/0_sw_eez/eez_v11.shp')\n",
    "\n",
    "#spain\n",
    "#country = gpd.read_file('/Users/Zack/1_sw_countries/countries/ESP_adm0.shp')\n",
    "#eez = eez[eez['GEONAME'] == 'Spanish Exclusive Economic Zone']  \n",
    "#eez_prep = gpd.read_file('/Users/Zack/1_sw_eez/eez_prep/ESP.geojson')\n",
    "\n",
    "#france\n",
    "#country = gpd.read_file('/Users/Zack/1_sw_countries/countries/FRA_adm0.shp')\n",
    "#eez = eez[eez['GEONAME'] == 'French Exclusive Economic Zone']  \n",
    "#eez_prep = gpd.read_file('/Users/Zack/1_sw_eez/eez_prep/FRA.geojson')\n",
    "\n",
    "#italy\n",
    "#country = gpd.read_file('/Users/Zack/1_sw_countries/countries/ITA_adm0.shp')\n",
    "#eez = eez[eez['GEONAME'] == 'Italian Exclusive Economic Zone']  \n",
    "#eez_prep = gpd.read_file('/Users/Zack/1_sw_eez/eez_prep/ITA.geojson')\n",
    "\n",
    "#croatia\n",
    "#country = gpd.read_file('/Users/Zack/1_sw_countries/HRV_adm0.shp')\n",
    "#eez = eez[eez['GEONAME'] == 'Croatian Exclusive Economic Zone']\n",
    "#eez_prep = gpd.read_file('/Users/Zack/1_sw_eez/eez_prep/HRV.geojson')\n",
    "\n",
    "#cyprus\n",
    "# country = gpd.read_file('./0_countries/CYP_adm0.shp')\n",
    "# eez = eez[eez['GEONAME'] == 'Cypriote Exclusive Economic Zone']  \n",
    "# eez_prep = gpd.read_file('./2_eez/eez_prep/CYP.geojson')\n",
    "\n",
    "#turkey\n",
    "# country = gpd.read_file('./0_countries/TUR_adm0.shp')\n",
    "# eez = eez[eez['GEONAME'] == 'Turkish Exclusive Economic Zone']  \n",
    "# eez_prep = gpd.read_file('./2_eez/eez_prep/TUR.geojson')\n",
    "\n",
    "#malta\n",
    "country = gpd.read_file('./0_countries/ALB_adm0.shp')\n",
    "eez = eez[eez['GEONAME'] == 'Albanian Exclusive Economic Zone']  \n",
    "eez_prep = gpd.read_file('./2_eez/eez_prep/ALB.geojson')\n",
    "\n",
    "#greece\n",
    "#country = gpd.read_file('/Users/Zack/0_greece/greece_adm/GRC_adm0.shp')\n",
    "#eez = gpd.read_file('/Users/Zack/0_greece/EEZ/greece_EEZ.shp')\n",
    "#eez_prep = gpd.read_file('/Users/Zack/0_greece/EEZ/eez_prep.shp') #created with geojson.io\n",
    "\n",
    "#mask = gpd.read_file('/Users/Zack/0_greece/dem_eu/eu_dem_v11_mask.shp') \n",
    "#will obtain mask directly when #gdal is resolved\n",
    "\n",
    "#eez = eez.to_crs({'init': 'epsg:2100'})\n",
    "#eez_prep = eez_prep.to_crs({'init': 'epsg:2100'})\n",
    "#country = country.to_crs({'init': 'epsg:2100'})\n",
    "\n",
    "print('country:', country.crs)\n",
    "print('eez:', eez.crs)\n",
    "print('eez_prep:', eez_prep.crs)\n",
    "#print('mask:', mask.crs)"
   ]
  },
  {
   "cell_type": "code",
   "execution_count": 37,
   "metadata": {},
   "outputs": [
    {
     "data": {
      "text/html": [
       "<div>\n",
       "<style scoped>\n",
       "    .dataframe tbody tr th:only-of-type {\n",
       "        vertical-align: middle;\n",
       "    }\n",
       "\n",
       "    .dataframe tbody tr th {\n",
       "        vertical-align: top;\n",
       "    }\n",
       "\n",
       "    .dataframe thead th {\n",
       "        text-align: right;\n",
       "    }\n",
       "</style>\n",
       "<table border=\"1\" class=\"dataframe\">\n",
       "  <thead>\n",
       "    <tr style=\"text-align: right;\">\n",
       "      <th></th>\n",
       "      <th>MRGID</th>\n",
       "      <th>GEONAME</th>\n",
       "      <th>MRGID_TER1</th>\n",
       "      <th>POL_TYPE</th>\n",
       "      <th>MRGID_SOV1</th>\n",
       "      <th>TERRITORY1</th>\n",
       "      <th>ISO_TER1</th>\n",
       "      <th>SOVEREIGN1</th>\n",
       "      <th>MRGID_TER2</th>\n",
       "      <th>MRGID_SOV2</th>\n",
       "      <th>...</th>\n",
       "      <th>ISO_SOV1</th>\n",
       "      <th>ISO_SOV2</th>\n",
       "      <th>ISO_SOV3</th>\n",
       "      <th>UN_SOV1</th>\n",
       "      <th>UN_SOV2</th>\n",
       "      <th>UN_SOV3</th>\n",
       "      <th>UN_TER1</th>\n",
       "      <th>UN_TER2</th>\n",
       "      <th>UN_TER3</th>\n",
       "      <th>geometry</th>\n",
       "    </tr>\n",
       "  </thead>\n",
       "  <tbody>\n",
       "    <tr>\n",
       "      <td>177</td>\n",
       "      <td>5670.0</td>\n",
       "      <td>Albanian Exclusive Economic Zone</td>\n",
       "      <td>2153.0</td>\n",
       "      <td>200NM</td>\n",
       "      <td>2153.0</td>\n",
       "      <td>Albania</td>\n",
       "      <td>ALB</td>\n",
       "      <td>Albania</td>\n",
       "      <td>0.0</td>\n",
       "      <td>0.0</td>\n",
       "      <td>...</td>\n",
       "      <td>ALB</td>\n",
       "      <td>None</td>\n",
       "      <td>None</td>\n",
       "      <td>8</td>\n",
       "      <td>NaN</td>\n",
       "      <td>NaN</td>\n",
       "      <td>8.0</td>\n",
       "      <td>NaN</td>\n",
       "      <td>NaN</td>\n",
       "      <td>POLYGON ((20.00835275627514 39.69182097885536,...</td>\n",
       "    </tr>\n",
       "  </tbody>\n",
       "</table>\n",
       "<p>1 rows × 32 columns</p>\n",
       "</div>"
      ],
      "text/plain": [
       "      MRGID                           GEONAME  MRGID_TER1 POL_TYPE  \\\n",
       "177  5670.0  Albanian Exclusive Economic Zone      2153.0    200NM   \n",
       "\n",
       "     MRGID_SOV1 TERRITORY1 ISO_TER1 SOVEREIGN1  MRGID_TER2  MRGID_SOV2  ...  \\\n",
       "177      2153.0    Albania      ALB    Albania         0.0         0.0  ...   \n",
       "\n",
       "    ISO_SOV1 ISO_SOV2 ISO_SOV3  UN_SOV1  UN_SOV2 UN_SOV3 UN_TER1 UN_TER2  \\\n",
       "177      ALB     None     None        8      NaN     NaN     8.0     NaN   \n",
       "\n",
       "     UN_TER3                                           geometry  \n",
       "177      NaN  POLYGON ((20.00835275627514 39.69182097885536,...  \n",
       "\n",
       "[1 rows x 32 columns]"
      ]
     },
     "execution_count": 37,
     "metadata": {},
     "output_type": "execute_result"
    }
   ],
   "source": [
    "eez"
   ]
  },
  {
   "cell_type": "code",
   "execution_count": 38,
   "metadata": {},
   "outputs": [
    {
     "data": {
      "image/png": "[encoded data removed]",
      "text/plain": [
       "<Figure size 432x288 with 1 Axes>"
      ]
     },
     "metadata": {
      "needs_background": "light"
     },
     "output_type": "display_data"
    }
   ],
   "source": [
    "#create envelope\n",
    "\n",
    "#generate envelopes\n",
    "eez_e = gpd.GeoDataFrame(geometry = eez.envelope)\n",
    "country_e = gpd.GeoDataFrame(geometry = country.envelope)\n",
    "\n",
    "#combine envelopes\n",
    "merge = gpd.overlay(country_e, eez_e, how = 'union')\n",
    "merge['Dissolve'] = 0\n",
    "\n",
    "#dissolve envelopes and make new envelope\n",
    "envelope = merge.dissolve('Dissolve')\n",
    "envelope = gpd.GeoDataFrame(geometry = envelope.envelope)\n",
    "#print('envelope', envelope.crs)\n",
    "\n",
    "#change projection\n",
    "#envelope = envelope.to_crs({'init': 'epsg:4326'})\n",
    "#print('envelope', envelope.crs)\n",
    "\n",
    "#plot\n",
    "#envelope = envelope.to_crs({'init': 'epsg:2100'})\n",
    "ax = eez_e.plot(linewidth=.5, edgecolor = 'red', facecolor = 'none')\n",
    "country_e.plot(linewidth=.5, edgecolor = 'blue', facecolor = 'none', ax=ax)\n",
    "envelope.plot(linewidth=1, edgecolor = 'green', facecolor = 'none', ax=ax)\n",
    "\n",
    "#export\n",
    "envelope.to_file(\"./1_envelope/ALB_envelope.shp\")\n",
    "envelope.to_file(\"./1_envelope/ALB_envelope.geojson\", driver=\"GeoJSON\")"
   ]
  },
  {
   "cell_type": "code",
   "execution_count": 39,
   "metadata": {},
   "outputs": [
    {
     "name": "stdout",
     "output_type": "stream",
     "text": [
      "Wall time: 121 ms\n"
     ]
    },
    {
     "data": {
      "text/plain": [
       "<matplotlib.axes._subplots.AxesSubplot at 0x2b72bf6e588>"
      ]
     },
     "execution_count": 39,
     "metadata": {},
     "output_type": "execute_result"
    },
    {
     "data": {
      "image/png": "[encoded data removed]",
      "text/plain": [
       "<Figure size 432x288 with 1 Axes>"
      ]
     },
     "metadata": {
      "needs_background": "light"
     },
     "output_type": "display_data"
    }
   ],
   "source": [
    "%%time \n",
    "merge = gpd.overlay(eez, eez_prep, how = 'union')\n",
    "merge.plot()"
   ]
  },
  {
   "cell_type": "code",
   "execution_count": 40,
   "metadata": {},
   "outputs": [
    {
     "name": "stdout",
     "output_type": "stream",
     "text": [
      "Wall time: 333 ms\n"
     ]
    },
    {
     "data": {
      "text/plain": [
       "<matplotlib.axes._subplots.AxesSubplot at 0x2b7071ac548>"
      ]
     },
     "execution_count": 40,
     "metadata": {},
     "output_type": "execute_result"
    },
    {
     "data": {
      "image/png": "[encoded data removed]",
      "text/plain": [
       "<Figure size 432x288 with 1 Axes>"
      ]
     },
     "metadata": {
      "needs_background": "light"
     },
     "output_type": "display_data"
    }
   ],
   "source": [
    "%%time \n",
    "#convert eez to an outline\n",
    "merge = gpd.overlay(eez, eez_prep, how = 'union')\n",
    "merge['Dissolve'] = 0\n",
    "eez_dis = merge.dissolve('Dissolve')\n",
    "eez_dis.plot(linewidth=.5, edgecolor = 'blue', facecolor = 'none')"
   ]
  },
  {
   "cell_type": "code",
   "execution_count": 41,
   "metadata": {},
   "outputs": [
    {
     "name": "stdout",
     "output_type": "stream",
     "text": [
      "Wall time: 863 ms\n"
     ]
    },
    {
     "data": {
      "text/plain": [
       "<matplotlib.axes._subplots.AxesSubplot at 0x2b70ae570c8>"
      ]
     },
     "execution_count": 41,
     "metadata": {},
     "output_type": "execute_result"
    },
    {
     "data": {
      "image/png": "[encoded data removed]",
      "text/plain": [
       "<Figure size 432x288 with 1 Axes>"
      ]
     },
     "metadata": {
      "needs_background": "light"
     },
     "output_type": "display_data"
    }
   ],
   "source": [
    "%%time \n",
    "#combine eez and country to create aoi\n",
    "merge = gpd.overlay(eez_dis, country, how = 'union')\n",
    "merge['Dissolve'] = 0\n",
    "aoi = merge.dissolve('Dissolve')\n",
    "aoi.plot(linewidth=.5, edgecolor = 'blue', facecolor = 'none')"
   ]
  },
  {
   "cell_type": "code",
   "execution_count": 42,
   "metadata": {},
   "outputs": [],
   "source": [
    "#export aoi\n",
    "aoi.to_file('./3_aoi/ALB_aoi.shp')\n",
    "#aoi.to_file('./3_aoi/CYP_aoi.geojson', driver = \"GeoJSON\")"
   ]
  },
  {
   "cell_type": "code",
   "execution_count": 43,
   "metadata": {},
   "outputs": [
    {
     "name": "stdout",
     "output_type": "stream",
     "text": [
      "Wall time: 0 ns\n"
     ]
    }
   ],
   "source": [
    "%%time \n",
    "#generate 50m buffer of land mask\n",
    "#mask = mask.to_crs({'init': 'epsg:2100'})\n",
    "#mask_50m = mask.buffer(50)\n",
    "#mask_50m = gpd.GeoDataFrame(geometry = mask_50m)\n",
    "#mask_50m.plot()"
   ]
  },
  {
   "cell_type": "code",
   "execution_count": 44,
   "metadata": {},
   "outputs": [
    {
     "name": "stdout",
     "output_type": "stream",
     "text": [
      "Wall time: 0 ns\n"
     ]
    }
   ],
   "source": [
    "%%time\n",
    "#generate 5km buffer of land mask\n",
    "#mask_5km = mask.buffer(5000)\n",
    "#mask_5km = gpd.GeoDataFrame(geometry = mask_5km)\n",
    "#mask_5km.plot()"
   ]
  },
  {
   "cell_type": "code",
   "execution_count": 45,
   "metadata": {},
   "outputs": [
    {
     "name": "stdout",
     "output_type": "stream",
     "text": [
      "Wall time: 0 ns\n"
     ]
    }
   ],
   "source": [
    "%%time\n",
    "#union 50m land mask to aoi to create water_50m\n",
    "#mask_50m = mask_50m.to_crs({'init': 'epsg:4326'})\n",
    "#aoi = mask_50m.to_crs({'init': 'epsg:4326'})\n",
    "\n",
    "#merge = gpd.overlay(aoi, mask_50m, how = 'union')\n",
    "#merge.plot(linewidth=.5, edgecolor = 'blue', facecolor = 'none')"
   ]
  },
  {
   "cell_type": "code",
   "execution_count": 46,
   "metadata": {},
   "outputs": [
    {
     "name": "stdout",
     "output_type": "stream",
     "text": [
      "Wall time: 0 ns\n"
     ]
    }
   ],
   "source": [
    "%%time\n",
    "#select the water area\n",
    "#gpd.GeoDataFrame(geometry = merge.loc[[0], 'geometry'])"
   ]
  },
  {
   "cell_type": "code",
   "execution_count": 47,
   "metadata": {},
   "outputs": [
    {
     "name": "stdout",
     "output_type": "stream",
     "text": [
      "Wall time: 0 ns\n"
     ]
    }
   ],
   "source": [
    "%%time\n",
    "#union water 50m with 5km buffer to create search area\n",
    "\n",
    "#select the water area between 50m and 5km\n",
    "\n",
    "#merge2 = gpd.overlay(merge, mask_5k, how = 'union')\n",
    "#merge2.plot(linewidth=.5, edgecolor = 'blue', facecolor = 'none')"
   ]
  }
 ],
 "metadata": {
  "kernelspec": {
   "display_name": "Python 3",
   "language": "python",
   "name": "python3"
  },
  "language_info": {
   "codemirror_mode": {
    "name": "ipython",
    "version": 3
   },
   "file_extension": ".py",
   "mimetype": "text/x-python",
   "name": "python",
   "nbconvert_exporter": "python",
   "pygments_lexer": "ipython3",
   "version": "3.7.4"
  }
 },
 "nbformat": 4,
 "nbformat_minor": 2
}
