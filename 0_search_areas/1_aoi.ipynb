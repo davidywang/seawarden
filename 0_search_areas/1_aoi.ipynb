{
 "cells": [
  {
   "cell_type": "code",
   "execution_count": 19,
   "metadata": {},
   "outputs": [],
   "source": [
    "import pandas as pd\n",
    "import geopandas as gpd\n",
    "from numpy import arange\n",
    "from shapely.geometry import Polygon\n",
    "from explode import explode\n",
    "\n",
    "# generates the following:\n",
    "# 1 EEZ -> to create aoi\n",
    "# 2 EEZ grid -> for downloading DEM from Earth Engine\n",
    "# 3 envelope -> not used\n",
    "# 4 aoi -> to create search area\n",
    "# 5 search area -> for constraining search area in Earth Engine ocean object detection\n",
    "# 6 aoi grid -> for extracting centroids in Earth Engine ocean object detection\n",
    "wgs84= {'init' :'epsg:4326'}"
   ]
  },
  {
   "cell_type": "code",
   "execution_count": 20,
   "metadata": {},
   "outputs": [],
   "source": [
    "#select country and load spatial data\n",
    "n = 'CAN_E'\n",
    "#n = 'GBR'\n",
    "#n = 'FRO'\n",
    "#n = 'NOR'\n",
    "#n = 'IRL'\n",
    "#n = 'CHL'\n",
    "#n = 'KOR'\n",
    "#n = 'JPN'\n",
    "\n",
    "\n",
    "crs = 'EPSG:26898' #CAN_E\n",
    "#crs = 'EPSG:3153' #CAN_W\n",
    "#crs = 'EPSG:29902' #IRL\n",
    "#crs = 'EPSG:4273' #NOR\n",
    "#crs = 'EPSG:3144' #FRO\n",
    "#crs = 'EPSG:27700'#GBR\n",
    "country = gpd.read_file('./0_countries/' + n[0] + '_adm0.shp')"
   ]
  },
  {
   "cell_type": "code",
   "execution_count": 21,
   "metadata": {},
   "outputs": [
    {
     "data": {
      "text/html": [
       "<div>\n",
       "<style scoped>\n",
       "    .dataframe tbody tr th:only-of-type {\n",
       "        vertical-align: middle;\n",
       "    }\n",
       "\n",
       "    .dataframe tbody tr th {\n",
       "        vertical-align: top;\n",
       "    }\n",
       "\n",
       "    .dataframe thead th {\n",
       "        text-align: right;\n",
       "    }\n",
       "</style>\n",
       "<table border=\"1\" class=\"dataframe\">\n",
       "  <thead>\n",
       "    <tr style=\"text-align: right;\">\n",
       "      <th></th>\n",
       "      <th>OBJECTID</th>\n",
       "      <th>FID_CAN_EE</th>\n",
       "      <th>MRGID</th>\n",
       "      <th>GEONAME</th>\n",
       "      <th>MRGID_TER1</th>\n",
       "      <th>POL_TYPE</th>\n",
       "      <th>MRGID_SOV1</th>\n",
       "      <th>TERRITORY1</th>\n",
       "      <th>ISO_TER1</th>\n",
       "      <th>SOVEREIGN1</th>\n",
       "      <th>...</th>\n",
       "      <th>UN_SOV3</th>\n",
       "      <th>UN_TER1</th>\n",
       "      <th>UN_TER2</th>\n",
       "      <th>UN_TER3</th>\n",
       "      <th>ORIG_FID</th>\n",
       "      <th>FID_Export</th>\n",
       "      <th>dis</th>\n",
       "      <th>Shape_Leng</th>\n",
       "      <th>Shape_Area</th>\n",
       "      <th>geometry</th>\n",
       "    </tr>\n",
       "  </thead>\n",
       "  <tbody>\n",
       "    <tr>\n",
       "      <td>0</td>\n",
       "      <td>5</td>\n",
       "      <td>1</td>\n",
       "      <td>8493.0</td>\n",
       "      <td>Canadian Exclusive Economic Zone</td>\n",
       "      <td>2169.0</td>\n",
       "      <td>200NM</td>\n",
       "      <td>2169.0</td>\n",
       "      <td>Canada</td>\n",
       "      <td>CAN</td>\n",
       "      <td>Canada</td>\n",
       "      <td>...</td>\n",
       "      <td>0.0</td>\n",
       "      <td>124.0</td>\n",
       "      <td>0.0</td>\n",
       "      <td>0.0</td>\n",
       "      <td>0</td>\n",
       "      <td>1</td>\n",
       "      <td>0</td>\n",
       "      <td>1175.664719</td>\n",
       "      <td>271.27402</td>\n",
       "      <td>POLYGON ((-57.42159827773827 61.05114899762822...</td>\n",
       "    </tr>\n",
       "  </tbody>\n",
       "</table>\n",
       "<p>1 rows × 39 columns</p>\n",
       "</div>"
      ],
      "text/plain": [
       "   OBJECTID  FID_CAN_EE   MRGID                           GEONAME  MRGID_TER1  \\\n",
       "0         5           1  8493.0  Canadian Exclusive Economic Zone      2169.0   \n",
       "\n",
       "  POL_TYPE  MRGID_SOV1 TERRITORY1 ISO_TER1 SOVEREIGN1  ...  UN_SOV3  UN_TER1  \\\n",
       "0    200NM      2169.0     Canada      CAN     Canada  ...      0.0    124.0   \n",
       "\n",
       "  UN_TER2 UN_TER3 ORIG_FID  FID_Export  dis   Shape_Leng Shape_Area  \\\n",
       "0     0.0     0.0        0           1    0  1175.664719  271.27402   \n",
       "\n",
       "                                            geometry  \n",
       "0  POLYGON ((-57.42159827773827 61.05114899762822...  \n",
       "\n",
       "[1 rows x 39 columns]"
      ]
     },
     "execution_count": 21,
     "metadata": {},
     "output_type": "execute_result"
    }
   ],
   "source": [
    "#1. extract EEZ\n",
    "eez = gpd.read_file('/Users/Zack/0_sw_eez/eez_v11.shp')\n",
    "\n",
    "#eez = eez[eez['GEONAME'] == 'Australian Exclusive Economic Zone']\n",
    "#eez = eez[eez['GEONAME'] == 'South Korean Exclusive Economic Zone']\n",
    "#eez = eez[eez['GEONAME'] == 'Canadian Exclusive Economic Zone']\n",
    "#eez = eez[eez['GEONAME'] == 'Irish Exclusive Economic Zone']\n",
    "#eez = eez[eez['GEONAME'] == 'Norwegian Exclusive Economic Zone']\n",
    "#eez = eez[eez['GEONAME'] == 'Faeroe Exclusive Economic Zone']\n",
    "#eez = eez[eez['GEONAME'] == 'United Kingdom Exclusive Economic Zone']\n",
    "\n",
    "f = './2_eez/'\n",
    "# eez.to_file(f + n + '_EEZ.geojson', driver=\"GeoJSON\")\n",
    "# eez.to_file(f + n + '_EEZ.shp')\n",
    "\n",
    "#canada only\n",
    "eez = gpd.read_file('./2_eez/' + n + '_EEZ.shp')\n",
    "eez"
   ]
  },
  {
   "cell_type": "code",
   "execution_count": 22,
   "metadata": {},
   "outputs": [
    {
     "name": "stdout",
     "output_type": "stream",
     "text": [
      "{'init': 'epsg:4326'}\n"
     ]
    },
    {
     "data": {
      "text/plain": [
       "<matplotlib.axes._subplots.AxesSubplot at 0x1af53340e08>"
      ]
     },
     "execution_count": 22,
     "metadata": {},
     "output_type": "execute_result"
    },
    {
     "data": {
      "image/png": "[encoded data removed]",
      "text/plain": [
       "<Figure size 432x288 with 1 Axes>"
      ]
     },
     "metadata": {
      "needs_background": "light"
     },
     "output_type": "display_data"
    }
   ],
   "source": [
    "#generate grid covering area with specified degree grid\n",
    "deg = 0.5\n",
    "\n",
    "# #w canada\n",
    "# lon = list(arange(40, 60, deg)) #+1\n",
    "# lat = list(arange(-150, -110, deg)) #+1\n",
    "\n",
    "#w canada\n",
    "lon = list(arange(35, 70, deg)) #+1\n",
    "lat = list(arange(-85, -45, deg)) #+1\n",
    "\n",
    "#europe\n",
    "# lon = list(arange(27, 75, deg)) #+1\n",
    "# lat = list(arange(-18, 50, deg)) #+1\n",
    "\n",
    "#create lat list\n",
    "lat_list=[]\n",
    "for i in range(len(lat)):\n",
    "    lat_pt = lat[i], lat[i], (lat[i]+deg), (lat[i]+deg)\n",
    "    lat_list.append(lat_pt)\n",
    "\n",
    "#create lon list\n",
    "lon_list=[]\n",
    "for i in range(len(lon)):\n",
    "    lon_pt = lon[i], (lon[i]+deg), (lon[i]+deg), lon[i]\n",
    "    lon_list.append(lon_pt)\n",
    "\n",
    "#create polygons\n",
    "geom_list = []\n",
    "for i in range(len(lon_list)):\n",
    "    for j in range(len(lat_list)):\n",
    "        geom = Polygon(zip(lat_list[j], lon_list[i]))\n",
    "        df = gpd.GeoDataFrame(index=[0], geometry=[geom])  \n",
    "        geom_list.append(df)\n",
    "        \n",
    "#combine polygons\n",
    "grid = gpd.GeoDataFrame(pd.concat(geom_list, ignore_index=True), crs = {'init': 'epsg:4326'})\n",
    "print(grid.crs)\n",
    "\n",
    "#preview\n",
    "ax = grid.plot(linewidth=1, edgecolor = 'black', facecolor = 'none')\n",
    "eez.plot(linewidth=0, edgecolor = 'none', facecolor = 'red', ax=ax)"
   ]
  },
  {
   "cell_type": "code",
   "execution_count": 23,
   "metadata": {
    "scrolled": true
   },
   "outputs": [
    {
     "name": "stdout",
     "output_type": "stream",
     "text": [
      "5600\n",
      "1510\n",
      "Wall time: 41.3 s\n"
     ]
    },
    {
     "data": {
      "image/png": "[encoded data removed]",
      "text/plain": [
       "<Figure size 432x288 with 1 Axes>"
      ]
     },
     "metadata": {
      "needs_background": "light"
     },
     "output_type": "display_data"
    }
   ],
   "source": [
    "%%time\n",
    "#select grid over eez\n",
    "matches = grid.intersects(eez.unary_union)\n",
    "grid_matches = grid.loc[matches]\n",
    "\n",
    "grid_matches.plot(linewidth=1, edgecolor = 'black', facecolor = 'none')\n",
    "print(len(grid))\n",
    "print(len(grid_matches))"
   ]
  },
  {
   "cell_type": "code",
   "execution_count": 24,
   "metadata": {},
   "outputs": [],
   "source": [
    "# #2. EEZ GRID - export\n",
    "grid_matches.to_file('./2_eez/eez_grid/' + n + '_05deg_EEZ_area.shp')\n",
    "grid_matches.to_file('./2_eez/eez_grid/' + n + '_05deg_EEZ_area.geojson', driver=\"GeoJSON\")"
   ]
  },
  {
   "cell_type": "code",
   "execution_count": 25,
   "metadata": {},
   "outputs": [
    {
     "data": {
      "text/plain": [
       "<matplotlib.axes._subplots.AxesSubplot at 0x1af58b82608>"
      ]
     },
     "execution_count": 25,
     "metadata": {},
     "output_type": "execute_result"
    },
    {
     "data": {
      "image/png": "[encoded data removed]",
      "text/plain": [
       "<Figure size 432x288 with 1 Axes>"
      ]
     },
     "metadata": {
      "needs_background": "light"
     },
     "output_type": "display_data"
    }
   ],
   "source": [
    "#3. create envelope\n",
    "\n",
    "#generate envelopes\n",
    "eez_e = gpd.GeoDataFrame(geometry = eez.envelope)\n",
    "country_e = gpd.GeoDataFrame(geometry = country.envelope)\n",
    "\n",
    "#combine envelopes\n",
    "merge = gpd.overlay(country_e, eez_e, how = 'union')\n",
    "merge['Dissolve'] = 0\n",
    "\n",
    "#dissolve envelopes and make new envelope\n",
    "envelope = merge.dissolve('Dissolve')\n",
    "envelope = gpd.GeoDataFrame(geometry = envelope.envelope)\n",
    "#print('envelope', envelope.crs)\n",
    "\n",
    "#plot\n",
    "#envelope = envelope.to_crs({'init': 'epsg:2100'})\n",
    "ax = eez_e.plot(linewidth=.5, edgecolor = 'red', facecolor = 'none')\n",
    "country_e.plot(linewidth=.5, edgecolor = 'blue', facecolor = 'none', ax=ax)\n",
    "envelope.plot(linewidth=1, edgecolor = 'green', facecolor = 'none', ax=ax)"
   ]
  },
  {
   "cell_type": "code",
   "execution_count": 26,
   "metadata": {},
   "outputs": [],
   "source": [
    "#export\n",
    "envelope.to_file('./1_envelope/' + n + '_envelope.shp')\n",
    "envelope.to_file('./1_envelope/' + n + '_envelope.geojson', driver=\"GeoJSON\")"
   ]
  },
  {
   "cell_type": "code",
   "execution_count": 27,
   "metadata": {},
   "outputs": [],
   "source": [
    "#load eez prep geojson\n",
    "eez_prep = gpd.read_file('./2_eez/eez_prep/' + n + '.geojson')"
   ]
  },
  {
   "cell_type": "code",
   "execution_count": 28,
   "metadata": {},
   "outputs": [
    {
     "name": "stdout",
     "output_type": "stream",
     "text": [
      "Wall time: 2min 8s\n"
     ]
    },
    {
     "data": {
      "text/plain": [
       "<matplotlib.axes._subplots.AxesSubplot at 0x1af7475ba48>"
      ]
     },
     "execution_count": 28,
     "metadata": {},
     "output_type": "execute_result"
    },
    {
     "data": {
      "image/png": "[encoded data removed]",
      "text/plain": [
       "<Figure size 432x288 with 1 Axes>"
      ]
     },
     "metadata": {
      "needs_background": "light"
     },
     "output_type": "display_data"
    }
   ],
   "source": [
    "%%time \n",
    "merge = gpd.overlay(eez, eez_prep, how = 'union')\n",
    "merge.plot()"
   ]
  },
  {
   "cell_type": "code",
   "execution_count": 29,
   "metadata": {},
   "outputs": [
    {
     "name": "stdout",
     "output_type": "stream",
     "text": [
      "Wall time: 10min 9s\n"
     ]
    },
    {
     "data": {
      "text/plain": [
       "<matplotlib.axes._subplots.AxesSubplot at 0x1af58772708>"
      ]
     },
     "execution_count": 29,
     "metadata": {},
     "output_type": "execute_result"
    },
    {
     "data": {
      "image/png": "[encoded data removed]",
      "text/plain": [
       "<Figure size 432x288 with 1 Axes>"
      ]
     },
     "metadata": {
      "needs_background": "light"
     },
     "output_type": "display_data"
    }
   ],
   "source": [
    "%%time \n",
    "#convert eez to an outline\n",
    "merge = gpd.overlay(eez, eez_prep, how = 'union')\n",
    "merge['Dissolve'] = 0\n",
    "eez_dis = merge.dissolve('Dissolve')\n",
    "eez_dis.plot(linewidth=.5, edgecolor = 'blue', facecolor = 'none')"
   ]
  },
  {
   "cell_type": "code",
   "execution_count": 30,
   "metadata": {},
   "outputs": [
    {
     "name": "stdout",
     "output_type": "stream",
     "text": [
      "Wall time: 25min 57s\n"
     ]
    },
    {
     "data": {
      "text/plain": [
       "<matplotlib.axes._subplots.AxesSubplot at 0x1af53d3cb48>"
      ]
     },
     "execution_count": 30,
     "metadata": {},
     "output_type": "execute_result"
    },
    {
     "data": {
      "image/png": "[encoded data removed]",
      "text/plain": [
       "<Figure size 432x288 with 1 Axes>"
      ]
     },
     "metadata": {
      "needs_background": "light"
     },
     "output_type": "display_data"
    }
   ],
   "source": [
    "%%time \n",
    "#combine eez and country to create aoi\n",
    "merge = gpd.overlay(eez_dis, country, how = 'union')\n",
    "merge['Dissolve'] = 0\n",
    "aoi = merge.dissolve('Dissolve')\n",
    "aoi.plot(linewidth=.5, edgecolor = 'blue', facecolor = 'none')"
   ]
  },
  {
   "cell_type": "code",
   "execution_count": 31,
   "metadata": {},
   "outputs": [],
   "source": [
    "#4. export aoi\n",
    "aoi.to_file('./3_aoi/' + n + '_aoi.shp')\n",
    "#aoi.to_file('./3_aoi/' + n + 'aoi.geojson', driver = \"GeoJSON\")"
   ]
  },
  {
   "cell_type": "code",
   "execution_count": 32,
   "metadata": {
    "scrolled": true
   },
   "outputs": [],
   "source": [
    "# #load land (generated from DEM)\n",
    "# land = gpd.read_file('./5_land/' + n + '_land.shp')\n",
    "# print(land.crs)\n",
    "# land.plot()"
   ]
  },
  {
   "cell_type": "code",
   "execution_count": 33,
   "metadata": {},
   "outputs": [],
   "source": [
    "# land = gpd.GeoDataFrame(geometry = land.geometry)\n",
    "# land.crs = {'init' :crs}\n",
    "# print(land.crs)"
   ]
  },
  {
   "cell_type": "code",
   "execution_count": 34,
   "metadata": {},
   "outputs": [],
   "source": [
    "# %%time \n",
    "# #generate 100m buffer of land area\n",
    "# land_100m = gpd.GeoDataFrame(geometry = land.buffer(100))\n",
    "# land_100m.plot()\n",
    "# #slow - GBR took 21min 39sec"
   ]
  },
  {
   "cell_type": "code",
   "execution_count": 35,
   "metadata": {},
   "outputs": [],
   "source": [
    "# %%time \n",
    "# #export land with 100m buffer\n",
    "# land_100m.to_file('./5_land/' + n + '_land_100m.shp')"
   ]
  },
  {
   "cell_type": "code",
   "execution_count": 36,
   "metadata": {},
   "outputs": [
    {
     "ename": "DriverError",
     "evalue": "./5_land/CAN_E_land_100m.shp: No such file or directory",
     "output_type": "error",
     "traceback": [
      "\u001b[1;31m---------------------------------------------------------------------------\u001b[0m",
      "\u001b[1;31mCPLE_OpenFailedError\u001b[0m                      Traceback (most recent call last)",
      "\u001b[1;32mfiona/_shim.pyx\u001b[0m in \u001b[0;36mfiona._shim.gdal_open_vector\u001b[1;34m()\u001b[0m\n",
      "\u001b[1;32mfiona/_err.pyx\u001b[0m in \u001b[0;36mfiona._err.exc_wrap_pointer\u001b[1;34m()\u001b[0m\n",
      "\u001b[1;31mCPLE_OpenFailedError\u001b[0m: ./5_land/CAN_E_land_100m.shp: No such file or directory",
      "\nDuring handling of the above exception, another exception occurred:\n",
      "\u001b[1;31mDriverError\u001b[0m                               Traceback (most recent call last)",
      "\u001b[1;32m<ipython-input-36-867f9af9a22c>\u001b[0m in \u001b[0;36m<module>\u001b[1;34m\u001b[0m\n\u001b[1;32m----> 1\u001b[1;33m \u001b[0mgpd\u001b[0m\u001b[1;33m.\u001b[0m\u001b[0mread_file\u001b[0m\u001b[1;33m(\u001b[0m\u001b[1;34m'./5_land/'\u001b[0m \u001b[1;33m+\u001b[0m \u001b[0mn\u001b[0m \u001b[1;33m+\u001b[0m \u001b[1;34m'_land_100m.shp'\u001b[0m\u001b[1;33m)\u001b[0m\u001b[1;33m\u001b[0m\u001b[1;33m\u001b[0m\u001b[0m\n\u001b[0m",
      "\u001b[1;32m~\\Anaconda3\\envs\\thesis\\lib\\site-packages\\geopandas\\io\\file.py\u001b[0m in \u001b[0;36mread_file\u001b[1;34m(filename, bbox, **kwargs)\u001b[0m\n\u001b[0;32m     69\u001b[0m \u001b[1;33m\u001b[0m\u001b[0m\n\u001b[0;32m     70\u001b[0m     \u001b[1;32mwith\u001b[0m \u001b[0mfiona_env\u001b[0m\u001b[1;33m(\u001b[0m\u001b[1;33m)\u001b[0m\u001b[1;33m:\u001b[0m\u001b[1;33m\u001b[0m\u001b[1;33m\u001b[0m\u001b[0m\n\u001b[1;32m---> 71\u001b[1;33m         \u001b[1;32mwith\u001b[0m \u001b[0mreader\u001b[0m\u001b[1;33m(\u001b[0m\u001b[0mpath_or_bytes\u001b[0m\u001b[1;33m,\u001b[0m \u001b[1;33m**\u001b[0m\u001b[0mkwargs\u001b[0m\u001b[1;33m)\u001b[0m \u001b[1;32mas\u001b[0m \u001b[0mfeatures\u001b[0m\u001b[1;33m:\u001b[0m\u001b[1;33m\u001b[0m\u001b[1;33m\u001b[0m\u001b[0m\n\u001b[0m\u001b[0;32m     72\u001b[0m             \u001b[0mcrs\u001b[0m \u001b[1;33m=\u001b[0m \u001b[0mfeatures\u001b[0m\u001b[1;33m.\u001b[0m\u001b[0mcrs\u001b[0m\u001b[1;33m\u001b[0m\u001b[1;33m\u001b[0m\u001b[0m\n\u001b[0;32m     73\u001b[0m             \u001b[1;32mif\u001b[0m \u001b[0mbbox\u001b[0m \u001b[1;32mis\u001b[0m \u001b[1;32mnot\u001b[0m \u001b[1;32mNone\u001b[0m\u001b[1;33m:\u001b[0m\u001b[1;33m\u001b[0m\u001b[1;33m\u001b[0m\u001b[0m\n",
      "\u001b[1;32m~\\Anaconda3\\envs\\thesis\\lib\\site-packages\\fiona\\env.py\u001b[0m in \u001b[0;36mwrapper\u001b[1;34m(*args, **kwargs)\u001b[0m\n\u001b[0;32m    394\u001b[0m     \u001b[1;32mdef\u001b[0m \u001b[0mwrapper\u001b[0m\u001b[1;33m(\u001b[0m\u001b[1;33m*\u001b[0m\u001b[0margs\u001b[0m\u001b[1;33m,\u001b[0m \u001b[1;33m**\u001b[0m\u001b[0mkwargs\u001b[0m\u001b[1;33m)\u001b[0m\u001b[1;33m:\u001b[0m\u001b[1;33m\u001b[0m\u001b[1;33m\u001b[0m\u001b[0m\n\u001b[0;32m    395\u001b[0m         \u001b[1;32mif\u001b[0m \u001b[0mlocal\u001b[0m\u001b[1;33m.\u001b[0m\u001b[0m_env\u001b[0m\u001b[1;33m:\u001b[0m\u001b[1;33m\u001b[0m\u001b[1;33m\u001b[0m\u001b[0m\n\u001b[1;32m--> 396\u001b[1;33m             \u001b[1;32mreturn\u001b[0m \u001b[0mf\u001b[0m\u001b[1;33m(\u001b[0m\u001b[1;33m*\u001b[0m\u001b[0margs\u001b[0m\u001b[1;33m,\u001b[0m \u001b[1;33m**\u001b[0m\u001b[0mkwargs\u001b[0m\u001b[1;33m)\u001b[0m\u001b[1;33m\u001b[0m\u001b[1;33m\u001b[0m\u001b[0m\n\u001b[0m\u001b[0;32m    397\u001b[0m         \u001b[1;32melse\u001b[0m\u001b[1;33m:\u001b[0m\u001b[1;33m\u001b[0m\u001b[1;33m\u001b[0m\u001b[0m\n\u001b[0;32m    398\u001b[0m             \u001b[1;32mif\u001b[0m \u001b[0misinstance\u001b[0m\u001b[1;33m(\u001b[0m\u001b[0margs\u001b[0m\u001b[1;33m[\u001b[0m\u001b[1;36m0\u001b[0m\u001b[1;33m]\u001b[0m\u001b[1;33m,\u001b[0m \u001b[0mstr\u001b[0m\u001b[1;33m)\u001b[0m\u001b[1;33m:\u001b[0m\u001b[1;33m\u001b[0m\u001b[1;33m\u001b[0m\u001b[0m\n",
      "\u001b[1;32m~\\Anaconda3\\envs\\thesis\\lib\\site-packages\\fiona\\__init__.py\u001b[0m in \u001b[0;36mopen\u001b[1;34m(fp, mode, driver, schema, crs, encoding, layer, vfs, enabled_drivers, crs_wkt, **kwargs)\u001b[0m\n\u001b[0;32m    251\u001b[0m         \u001b[1;32mif\u001b[0m \u001b[0mmode\u001b[0m \u001b[1;32min\u001b[0m \u001b[1;33m(\u001b[0m\u001b[1;34m'a'\u001b[0m\u001b[1;33m,\u001b[0m \u001b[1;34m'r'\u001b[0m\u001b[1;33m)\u001b[0m\u001b[1;33m:\u001b[0m\u001b[1;33m\u001b[0m\u001b[1;33m\u001b[0m\u001b[0m\n\u001b[0;32m    252\u001b[0m             c = Collection(path, mode, driver=driver, encoding=encoding,\n\u001b[1;32m--> 253\u001b[1;33m                            layer=layer, enabled_drivers=enabled_drivers, **kwargs)\n\u001b[0m\u001b[0;32m    254\u001b[0m         \u001b[1;32melif\u001b[0m \u001b[0mmode\u001b[0m \u001b[1;33m==\u001b[0m \u001b[1;34m'w'\u001b[0m\u001b[1;33m:\u001b[0m\u001b[1;33m\u001b[0m\u001b[1;33m\u001b[0m\u001b[0m\n\u001b[0;32m    255\u001b[0m             \u001b[1;32mif\u001b[0m \u001b[0mschema\u001b[0m\u001b[1;33m:\u001b[0m\u001b[1;33m\u001b[0m\u001b[1;33m\u001b[0m\u001b[0m\n",
      "\u001b[1;32m~\\Anaconda3\\envs\\thesis\\lib\\site-packages\\fiona\\collection.py\u001b[0m in \u001b[0;36m__init__\u001b[1;34m(self, path, mode, driver, schema, crs, encoding, layer, vsi, archive, enabled_drivers, crs_wkt, ignore_fields, ignore_geometry, **kwargs)\u001b[0m\n\u001b[0;32m    157\u001b[0m             \u001b[1;32mif\u001b[0m \u001b[0mself\u001b[0m\u001b[1;33m.\u001b[0m\u001b[0mmode\u001b[0m \u001b[1;33m==\u001b[0m \u001b[1;34m'r'\u001b[0m\u001b[1;33m:\u001b[0m\u001b[1;33m\u001b[0m\u001b[1;33m\u001b[0m\u001b[0m\n\u001b[0;32m    158\u001b[0m                 \u001b[0mself\u001b[0m\u001b[1;33m.\u001b[0m\u001b[0msession\u001b[0m \u001b[1;33m=\u001b[0m \u001b[0mSession\u001b[0m\u001b[1;33m(\u001b[0m\u001b[1;33m)\u001b[0m\u001b[1;33m\u001b[0m\u001b[1;33m\u001b[0m\u001b[0m\n\u001b[1;32m--> 159\u001b[1;33m                 \u001b[0mself\u001b[0m\u001b[1;33m.\u001b[0m\u001b[0msession\u001b[0m\u001b[1;33m.\u001b[0m\u001b[0mstart\u001b[0m\u001b[1;33m(\u001b[0m\u001b[0mself\u001b[0m\u001b[1;33m,\u001b[0m \u001b[1;33m**\u001b[0m\u001b[0mkwargs\u001b[0m\u001b[1;33m)\u001b[0m\u001b[1;33m\u001b[0m\u001b[1;33m\u001b[0m\u001b[0m\n\u001b[0m\u001b[0;32m    160\u001b[0m             \u001b[1;32melif\u001b[0m \u001b[0mself\u001b[0m\u001b[1;33m.\u001b[0m\u001b[0mmode\u001b[0m \u001b[1;32min\u001b[0m \u001b[1;33m(\u001b[0m\u001b[1;34m'a'\u001b[0m\u001b[1;33m,\u001b[0m \u001b[1;34m'w'\u001b[0m\u001b[1;33m)\u001b[0m\u001b[1;33m:\u001b[0m\u001b[1;33m\u001b[0m\u001b[1;33m\u001b[0m\u001b[0m\n\u001b[0;32m    161\u001b[0m                 \u001b[0mself\u001b[0m\u001b[1;33m.\u001b[0m\u001b[0msession\u001b[0m \u001b[1;33m=\u001b[0m \u001b[0mWritingSession\u001b[0m\u001b[1;33m(\u001b[0m\u001b[1;33m)\u001b[0m\u001b[1;33m\u001b[0m\u001b[1;33m\u001b[0m\u001b[0m\n",
      "\u001b[1;32mfiona/ogrext.pyx\u001b[0m in \u001b[0;36mfiona.ogrext.Session.start\u001b[1;34m()\u001b[0m\n",
      "\u001b[1;32mfiona/_shim.pyx\u001b[0m in \u001b[0;36mfiona._shim.gdal_open_vector\u001b[1;34m()\u001b[0m\n",
      "\u001b[1;31mDriverError\u001b[0m: ./5_land/CAN_E_land_100m.shp: No such file or directory"
     ]
    }
   ],
   "source": [
    "gpd.read_file('./5_land/' + n + '_land_100m.shp')"
   ]
  },
  {
   "cell_type": "code",
   "execution_count": null,
   "metadata": {},
   "outputs": [],
   "source": [
    " %%time \n",
    "#load land with 100m buffer (generated from DEM)\n",
    "land_100m = gpd.read_file('./5_land/' + n + '_land_100m.shp')\n",
    "land_100m['geometry'] = land_100m['geometry'].to_crs(epsg=4326)\n",
    "land_100m.crs = wgs84\n",
    "print(land_100m.crs)\n",
    "land_100m"
   ]
  },
  {
   "cell_type": "code",
   "execution_count": null,
   "metadata": {},
   "outputs": [],
   "source": [
    "%%time \n",
    "#land_100m.plot()"
   ]
  },
  {
   "cell_type": "code",
   "execution_count": null,
   "metadata": {
    "scrolled": false
   },
   "outputs": [],
   "source": [
    "%%time\n",
    "#union land 100m buffer with aoi\n",
    "union = gpd.overlay(land_100m, aoi, how = 'union')\n",
    "union.plot()"
   ]
  },
  {
   "cell_type": "code",
   "execution_count": null,
   "metadata": {
    "scrolled": false
   },
   "outputs": [],
   "source": [
    "union"
   ]
  },
  {
   "cell_type": "code",
   "execution_count": null,
   "metadata": {},
   "outputs": [],
   "source": [
    "%%time\n",
    "#verify the selection of water area \n",
    "select = 2\n",
    "union['geometry'].loc[select]"
   ]
  },
  {
   "cell_type": "code",
   "execution_count": null,
   "metadata": {},
   "outputs": [],
   "source": [
    "%%time\n",
    "#select the water area to generate search area\n",
    "search_area = gpd.GeoDataFrame(geometry = union.loc[[select], 'geometry'])\n",
    "search_area"
   ]
  },
  {
   "cell_type": "code",
   "execution_count": null,
   "metadata": {
    "scrolled": true
   },
   "outputs": [],
   "source": [
    "print(search_area.crs)\n",
    "#search_area.plot()"
   ]
  },
  {
   "cell_type": "code",
   "execution_count": null,
   "metadata": {
    "scrolled": true
   },
   "outputs": [],
   "source": [
    "#0 selects the search area?\n",
    "sa = gpd.GeoDataFrame(geometry = explode(search_area).loc[0])\n",
    "print(sa.crs)\n",
    "sa.plot()"
   ]
  },
  {
   "cell_type": "code",
   "execution_count": null,
   "metadata": {},
   "outputs": [],
   "source": [
    "sa"
   ]
  },
  {
   "cell_type": "code",
   "execution_count": null,
   "metadata": {},
   "outputs": [],
   "source": [
    "%%time\n",
    "#5. export search area\n",
    "sa.to_file('./4_search_area/search_area_100m_' + n + '.shp')"
   ]
  },
  {
   "cell_type": "code",
   "execution_count": null,
   "metadata": {},
   "outputs": [],
   "source": [
    "sa.crs = wgs84\n",
    "print(sa.crs)\n",
    "sa"
   ]
  },
  {
   "cell_type": "code",
   "execution_count": null,
   "metadata": {},
   "outputs": [],
   "source": [
    "%%time\n",
    "#generate search area grid\n",
    "area = gpd.read_file('./4_search_area/search_area_100m_' + n + '.shp')\n",
    "ax = grid.plot(linewidth=1, edgecolor = 'black', facecolor = 'none')\n",
    "sa.plot(linewidth=0, edgecolor = 'none', facecolor = 'red', ax=ax)"
   ]
  },
  {
   "cell_type": "code",
   "execution_count": null,
   "metadata": {},
   "outputs": [],
   "source": [
    "%%time\n",
    "matches = grid.intersects(area.unary_union)\n",
    "grid_matches = grid.loc[matches]\n",
    "grid_matches.plot(linewidth=1, edgecolor = 'black', facecolor = 'none')"
   ]
  },
  {
   "cell_type": "code",
   "execution_count": null,
   "metadata": {},
   "outputs": [],
   "source": [
    "#6. export - search area grid\n",
    "f = './4_search_area/search_area_grid/'\n",
    "grid_matches.to_file(f + n + '_05deg_search_area.geojson', driver='GeoJSON')\n",
    "grid_matches.to_file(f + n + '_05deg_search_area.shp')"
   ]
  }
 ],
 "metadata": {
  "kernelspec": {
   "display_name": "Python 3",
   "language": "python",
   "name": "python3"
  },
  "language_info": {
   "codemirror_mode": {
    "name": "ipython",
    "version": 3
   },
   "file_extension": ".py",
   "mimetype": "text/x-python",
   "name": "python",
   "nbconvert_exporter": "python",
   "pygments_lexer": "ipython3",
   "version": "3.7.4"
  }
 },
 "nbformat": 4,
 "nbformat_minor": 2
}
