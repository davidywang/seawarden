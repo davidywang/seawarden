{
 "cells": [
  {
   "cell_type": "code",
   "execution_count": 53,
   "metadata": {},
   "outputs": [],
   "source": [
    "import geopandas as gpd\n",
    "\n",
    "# eez = gpd.read_file('/Users/Zack/0_sw_eez/eez_v11.shp')\n",
    "# eez = eez[eez['GEONAME'] == 'Greek Exclusive Economic Zone']  \n",
    "# file = eez\n",
    "\n",
    "f = '/Users/Zack/0_seawarden/0_search_areas/3_aoi/'\n",
    "n = 'ITA_aoi'\n",
    "file = gpd.read_file(f + n + '.shp', encoding='utf-8')\n",
    "file.to_file('/Users/Zack/Desktop/'+ n + '.geojson', driver=\"GeoJSON\", encoding='utf-8')\n",
    "\n",
    "# file.to_file('/Users/Zack/Desktop/GRC_EEZ.geojson', driver=\"GeoJSON\")"
   ]
  }
 ],
 "metadata": {
  "kernelspec": {
   "display_name": "Python 3",
   "language": "python",
   "name": "python3"
  },
  "language_info": {
   "codemirror_mode": {
    "name": "ipython",
    "version": 3
   },
   "file_extension": ".py",
   "mimetype": "text/x-python",
   "name": "python",
   "nbconvert_exporter": "python",
   "pygments_lexer": "ipython3",
   "version": "3.7.4"
  }
 },
 "nbformat": 4,
 "nbformat_minor": 2
}
