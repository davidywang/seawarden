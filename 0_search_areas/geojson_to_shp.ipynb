{
 "cells": [
  {
   "cell_type": "code",
   "execution_count": 6,
   "metadata": {},
   "outputs": [],
   "source": [
    "import geopandas as gpd\n",
    "# file = gpd.read_file('../greece/1_sites/farm_500m_update.shp')\n",
    "# file.to_file('../farms_500m_update.geojson', driver=\"GeoJSON\")\n",
    "\n",
    "eez = gpd.read_file('/Users/Zack/0_sw_eez/eez_v11.shp')\n",
    "eez = eez[eez['GEONAME'] == 'Slovenian Exclusive Economic Zone']  \n",
    "file = eez\n",
    "file.to_file('/Users/Zack/Desktop/SVN.geojson', driver=\"GeoJSON\")"
   ]
  }
 ],
 "metadata": {
  "kernelspec": {
   "display_name": "Python 3",
   "language": "python",
   "name": "python3"
  },
  "language_info": {
   "codemirror_mode": {
    "name": "ipython",
    "version": 3
   },
   "file_extension": ".py",
   "mimetype": "text/x-python",
   "name": "python",
   "nbconvert_exporter": "python",
   "pygments_lexer": "ipython3",
   "version": "3.7.4"
  }
 },
 "nbformat": 4,
 "nbformat_minor": 2
}
