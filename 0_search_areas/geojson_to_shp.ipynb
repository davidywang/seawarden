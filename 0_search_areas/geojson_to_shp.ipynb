{
 "cells": [
  {
   "cell_type": "code",
   "execution_count": 6,
   "metadata": {},
   "outputs": [
    {
     "data": {
      "text/html": [
       "<div>\n",
       "<style scoped>\n",
       "    .dataframe tbody tr th:only-of-type {\n",
       "        vertical-align: middle;\n",
       "    }\n",
       "\n",
       "    .dataframe tbody tr th {\n",
       "        vertical-align: top;\n",
       "    }\n",
       "\n",
       "    .dataframe thead th {\n",
       "        text-align: right;\n",
       "    }\n",
       "</style>\n",
       "<table border=\"1\" class=\"dataframe\">\n",
       "  <thead>\n",
       "    <tr style=\"text-align: right;\">\n",
       "      <th></th>\n",
       "      <th>id</th>\n",
       "      <th>farm_id</th>\n",
       "      <th>radius</th>\n",
       "      <th>diameter</th>\n",
       "      <th>geometry</th>\n",
       "    </tr>\n",
       "  </thead>\n",
       "  <tbody>\n",
       "    <tr>\n",
       "      <td>0</td>\n",
       "      <td>1</td>\n",
       "      <td>32</td>\n",
       "      <td>6.880</td>\n",
       "      <td>13.76</td>\n",
       "      <td>POLYGON ((702063.673952149 3903209.713557327, ...</td>\n",
       "    </tr>\n",
       "    <tr>\n",
       "      <td>1</td>\n",
       "      <td>2</td>\n",
       "      <td>32</td>\n",
       "      <td>7.700</td>\n",
       "      <td>15.40</td>\n",
       "      <td>POLYGON ((702088.8023536371 3903220.106714786,...</td>\n",
       "    </tr>\n",
       "    <tr>\n",
       "      <td>2</td>\n",
       "      <td>3</td>\n",
       "      <td>32</td>\n",
       "      <td>8.940</td>\n",
       "      <td>17.88</td>\n",
       "      <td>POLYGON ((702155.2190860377 3903226.552240553,...</td>\n",
       "    </tr>\n",
       "    <tr>\n",
       "      <td>3</td>\n",
       "      <td>4</td>\n",
       "      <td>32</td>\n",
       "      <td>8.665</td>\n",
       "      <td>17.33</td>\n",
       "      <td>POLYGON ((702114.125521807 3903237.317828557, ...</td>\n",
       "    </tr>\n",
       "    <tr>\n",
       "      <td>4</td>\n",
       "      <td>5</td>\n",
       "      <td>32</td>\n",
       "      <td>8.250</td>\n",
       "      <td>16.50</td>\n",
       "      <td>POLYGON ((702179.971853883 3903244.393861066, ...</td>\n",
       "    </tr>\n",
       "  </tbody>\n",
       "</table>\n",
       "</div>"
      ],
      "text/plain": [
       "   id  farm_id  radius  diameter  \\\n",
       "0   1       32   6.880     13.76   \n",
       "1   2       32   7.700     15.40   \n",
       "2   3       32   8.940     17.88   \n",
       "3   4       32   8.665     17.33   \n",
       "4   5       32   8.250     16.50   \n",
       "\n",
       "                                            geometry  \n",
       "0  POLYGON ((702063.673952149 3903209.713557327, ...  \n",
       "1  POLYGON ((702088.8023536371 3903220.106714786,...  \n",
       "2  POLYGON ((702155.2190860377 3903226.552240553,...  \n",
       "3  POLYGON ((702114.125521807 3903237.317828557, ...  \n",
       "4  POLYGON ((702179.971853883 3903244.393861066, ...  "
      ]
     },
     "execution_count": 6,
     "metadata": {},
     "output_type": "execute_result"
    }
   ],
   "source": [
    "import geopandas as gpd\n",
    "\n",
    "# eez = gpd.read_file('/Users/Zack/0_sw_eez/eez_v11.shp')\n",
    "# eez = eez[eez['GEONAME'] == 'Greek Exclusive Economic Zone']  \n",
    "# file = eez\n",
    "\n",
    "f = '/Users/Zack/0_seawarden/targets_2_simrdwn/GRC/'\n",
    "n = 'GRC_simrdwn_pens'\n",
    "file = gpd.read_file(f + n + '.shp', encoding='utf-8')\n",
    "file.head()"
   ]
  },
  {
   "cell_type": "code",
   "execution_count": 7,
   "metadata": {},
   "outputs": [],
   "source": [
    "file['geometry'] = file['geometry'].to_crs(epsg=4326)"
   ]
  },
  {
   "cell_type": "code",
   "execution_count": 8,
   "metadata": {},
   "outputs": [],
   "source": [
    "file.to_file('/Users/Zack/Desktop/'+ n + '.geojson', driver=\"GeoJSON\", encoding='utf-8')\n",
    "# file.to_file('/Users/Zack/Desktop/GRC_EEZ.geojson', driver=\"GeoJSON\")"
   ]
  }
 ],
 "metadata": {
  "kernelspec": {
   "display_name": "Python 3",
   "language": "python",
   "name": "python3"
  },
  "language_info": {
   "codemirror_mode": {
    "name": "ipython",
    "version": 3
   },
   "file_extension": ".py",
   "mimetype": "text/x-python",
   "name": "python",
   "nbconvert_exporter": "python",
   "pygments_lexer": "ipython3",
   "version": "3.7.4"
  }
 },
 "nbformat": 4,
 "nbformat_minor": 2
}
