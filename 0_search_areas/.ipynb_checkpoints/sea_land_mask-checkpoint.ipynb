{
 "cells": [
  {
   "cell_type": "code",
   "execution_count": 1,
   "metadata": {},
   "outputs": [],
   "source": [
    "#download data via google earth engine API\n",
    "# import ee\n",
    "# ee.Initialize()\n",
    "# image1 = ee.Image('srtm90_v4')\n",
    "# path = image1.getDownloadUrl({\n",
    "#     'scale': 90,\n",
    "#     'crs': 'EPSG:4326',\n",
    "#     'region': '[[19.028, 34.615], [28.432,34.615],[28.432,41.804],[19.028,41.804]]'\n",
    "# })\n",
    "# print(path)"
   ]
  },
  {
   "cell_type": "code",
   "execution_count": 2,
   "metadata": {},
   "outputs": [],
   "source": [
    "#https://automating-gis-processes.github.io/CSC/notebooks/L5/plotting-raster.html\n",
    "from osgeo import gdal\n",
    "import rasterio\n",
    "from rasterio.plot import show\n",
    "\n",
    "import matplotlib.pyplot as plt\n",
    "import numpy as np\n",
    "\n",
    "import os\n",
    "%matplotlib inline"
   ]
  },
  {
   "cell_type": "code",
   "execution_count": null,
   "metadata": {},
   "outputs": [
    {
     "name": "stdout",
     "output_type": "stream",
     "text": [
      "/Users/Zack/0_sw_dem/alos/dem_alos_30m_turkey.tif\n"
     ]
    }
   ],
   "source": [
    "#load dem raster file\n",
    "filepath = '/Users/Zack/0_sw_dem/alos/'\n",
    "#filepath = '/Users/Zack/0_GIS_Greece/dem_strm90/'\n",
    "dem = 'dem_alos_30m_turkey.tif'\n",
    "#dem = 'srtm90_v4.elevation.tif'\n",
    "print(filepath + dem)\n",
    "\n",
    "#display dem raster file\n",
    "data_dir = filepath + dem\n",
    "fp = os.path.join(data_dir)\n",
    "raster = rasterio.open(fp)\n",
    "\n",
    "fig = plt.figure(figsize = (20, 8))\n",
    "show((raster, 1), cmap='gray')"
   ]
  },
  {
   "cell_type": "code",
   "execution_count": null,
   "metadata": {},
   "outputs": [],
   "source": [
    "#open raster file for conversion to generate coastline binary raster \n",
    "#https://pcjericks.github.io/py-gdalogr-cookbook/raster_layers.html\n",
    "\n",
    "\n",
    "\n",
    "driver = gdal.GetDriverByName('GTiff')\n",
    "file = gdal.Open(filepath + dem)\n",
    "band = file.GetRasterBand(1)\n",
    "lista = band.ReadAsArray()\n",
    "\n",
    "# reclassification    \n",
    "lista[np.where( lista < 1 )] = 1\n",
    "lista[np.where( lista > 1 )] = 2"
   ]
  },
  {
   "cell_type": "code",
   "execution_count": null,
   "metadata": {},
   "outputs": [],
   "source": [
    "# create new file\n",
    "out_file = (filepath + 'test.tif')  \n",
    "file2 = driver.Create(out_file, file.RasterXSize , file.RasterYSize , 1)\n",
    "file2.GetRasterBand(1).WriteArray(lista)\n",
    "\n",
    "# spatial ref system ???\n",
    "proj = file.GetProjection()\n",
    "georef = file.GetGeoTransform()\n",
    "file2.SetProjection(proj)\n",
    "file2.SetGeoTransform(georef)\n",
    "file2.FlushCache()"
   ]
  },
  {
   "cell_type": "code",
   "execution_count": null,
   "metadata": {},
   "outputs": [],
   "source": [
    "#generate new raster\n",
    "#data_dir = (filepath + 'srtm90_v4.reclass.tif') \n",
    "data_dir = (filepath + 'test.tif') \n",
    "fp = os.path.join(data_dir)\n",
    "raster = rasterio.open(fp)\n",
    "\n",
    "#display new raster\n",
    "fig = plt.figure(figsize = (20, 8))\n",
    "show((raster, 1), cmap='gray')"
   ]
  },
  {
   "cell_type": "code",
   "execution_count": null,
   "metadata": {},
   "outputs": [],
   "source": []
  }
 ],
 "metadata": {
  "kernelspec": {
   "display_name": "mykernel",
   "language": "python",
   "name": "mykernel"
  },
  "language_info": {
   "codemirror_mode": {
    "name": "ipython",
    "version": 3
   },
   "file_extension": ".py",
   "mimetype": "text/x-python",
   "name": "python",
   "nbconvert_exporter": "python",
   "pygments_lexer": "ipython3",
   "version": "3.7.4"
  }
 },
 "nbformat": 4,
 "nbformat_minor": 2
}
