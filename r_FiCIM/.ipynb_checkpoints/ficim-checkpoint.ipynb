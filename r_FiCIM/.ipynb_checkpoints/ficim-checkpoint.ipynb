{
 "cells": [
  {
   "cell_type": "code",
   "execution_count": 1,
   "metadata": {},
   "outputs": [
    {
     "name": "stdout",
     "output_type": "stream",
     "text": [
      "(160000, 2)\n"
     ]
    },
    {
     "data": {
      "text/html": [
       "<div>\n",
       "<style scoped>\n",
       "    .dataframe tbody tr th:only-of-type {\n",
       "        vertical-align: middle;\n",
       "    }\n",
       "\n",
       "    .dataframe tbody tr th {\n",
       "        vertical-align: top;\n",
       "    }\n",
       "\n",
       "    .dataframe thead th {\n",
       "        text-align: right;\n",
       "    }\n",
       "</style>\n",
       "<table border=\"1\" class=\"dataframe\">\n",
       "  <thead>\n",
       "    <tr style=\"text-align: right;\">\n",
       "      <th></th>\n",
       "      <th>Id</th>\n",
       "      <th>geometry</th>\n",
       "    </tr>\n",
       "  </thead>\n",
       "  <tbody>\n",
       "    <tr>\n",
       "      <td>0</td>\n",
       "      <td>0</td>\n",
       "      <td>POLYGON ((23.0675707673794 37.86227482897619, ...</td>\n",
       "    </tr>\n",
       "    <tr>\n",
       "      <td>1</td>\n",
       "      <td>0</td>\n",
       "      <td>POLYGON ((23.06762798243952 37.86227482897619,...</td>\n",
       "    </tr>\n",
       "    <tr>\n",
       "      <td>2</td>\n",
       "      <td>0</td>\n",
       "      <td>POLYGON ((23.06768519749964 37.86227482897619,...</td>\n",
       "    </tr>\n",
       "    <tr>\n",
       "      <td>3</td>\n",
       "      <td>0</td>\n",
       "      <td>POLYGON ((23.06774241255976 37.86227482897619,...</td>\n",
       "    </tr>\n",
       "    <tr>\n",
       "      <td>4</td>\n",
       "      <td>0</td>\n",
       "      <td>POLYGON ((23.06779962761987 37.86227482897619,...</td>\n",
       "    </tr>\n",
       "  </tbody>\n",
       "</table>\n",
       "</div>"
      ],
      "text/plain": [
       "   Id                                           geometry\n",
       "0   0  POLYGON ((23.0675707673794 37.86227482897619, ...\n",
       "1   0  POLYGON ((23.06762798243952 37.86227482897619,...\n",
       "2   0  POLYGON ((23.06768519749964 37.86227482897619,...\n",
       "3   0  POLYGON ((23.06774241255976 37.86227482897619,...\n",
       "4   0  POLYGON ((23.06779962761987 37.86227482897619,..."
      ]
     },
     "execution_count": 1,
     "metadata": {},
     "output_type": "execute_result"
    }
   ],
   "source": [
    "import pandas as pd\n",
    "import geopandas as gpd\n",
    "\n",
    "#load grid\n",
    "shp = '../greece/FiCIM/54_grid.shp'\n",
    "grid = gpd.read_file(shp, delimiter=',', header=0)\n",
    "print(grid.shape)\n",
    "grid.head()"
   ]
  },
  {
   "cell_type": "code",
   "execution_count": 2,
   "metadata": {},
   "outputs": [],
   "source": [
    "#load ficim data\n",
    "file = '../r_ficim/ficim_54_day5_bath65/'\n",
    "\n",
    "f = file + 'Mean_Flux_P_list.csv'\n",
    "p = pd.read_csv(f, delimiter=',', header=None)\n",
    "\n",
    "f = file + 'Mean_Flux_C_list.csv'\n",
    "c = pd.read_csv(f, delimiter=',', header=None)\n",
    "\n",
    "f = file + 'Mean_Flux_N_list.csv'\n",
    "n = pd.read_csv(f, delimiter=',', header=None)\n",
    "\n",
    "f = file + 'Flux_P_0005_list.csv'\n",
    "f_p = pd.read_csv(f, delimiter=',', header=None)\n",
    "\n",
    "f = file + 'Flux_C_0005_list.csv'\n",
    "f_c = pd.read_csv(f, delimiter=',', header=None)\n",
    "\n",
    "f= file + 'Flux_N_0005_list.csv'\n",
    "f_n = pd.read_csv(f, delimiter=',', header=None)"
   ]
  },
  {
   "cell_type": "code",
   "execution_count": 3,
   "metadata": {
    "scrolled": true
   },
   "outputs": [
    {
     "data": {
      "text/plain": [
       "(7642, 9)"
      ]
     },
     "execution_count": 3,
     "metadata": {},
     "output_type": "execute_result"
    }
   ],
   "source": [
    "#join ficim data to grid\n",
    "grid['mean_P']=p\n",
    "grid['mean_C']=c\n",
    "grid['mean_N']=n\n",
    "grid['P']=f_p\n",
    "grid['C']=f_c\n",
    "grid['N']=f_n\n",
    "\n",
    "#remove zeros\n",
    "grid['total']=p + c + n + f_p + f_c + f_n\n",
    "select = grid['total'] > 0\n",
    "grid = grid[select]\n",
    "\n",
    "grid.head()\n",
    "grid.shape"
   ]
  },
  {
   "cell_type": "code",
   "execution_count": 4,
   "metadata": {},
   "outputs": [],
   "source": [
    "f = file + 'ficim_54.shp'\n",
    "grid.to_file(f)"
   ]
  }
 ],
 "metadata": {
  "kernelspec": {
   "display_name": "Python 3",
   "language": "python",
   "name": "python3"
  },
  "language_info": {
   "codemirror_mode": {
    "name": "ipython",
    "version": 3
   },
   "file_extension": ".py",
   "mimetype": "text/x-python",
   "name": "python",
   "nbconvert_exporter": "python",
   "pygments_lexer": "ipython3",
   "version": "3.7.4"
  }
 },
 "nbformat": 4,
 "nbformat_minor": 2
}
