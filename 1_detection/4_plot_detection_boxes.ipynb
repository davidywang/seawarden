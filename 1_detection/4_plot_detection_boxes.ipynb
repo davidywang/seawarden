{
 "cells": [
  {
   "cell_type": "code",
   "execution_count": 68,
   "metadata": {},
   "outputs": [],
   "source": [
    "import os\n",
    "import pandas as pd\n",
    "import cv2\n",
    "import shutil"
   ]
  },
  {
   "cell_type": "code",
   "execution_count": 69,
   "metadata": {},
   "outputs": [
    {
     "name": "stdout",
     "output_type": "stream",
     "text": [
      "../../0_thesis_bing/imagery_TUR_2020_05_30\n",
      "../targets_2_simrdwn/TUR/predictions_TUR.csv\n",
      "../../0_bing/imagery_TUR_2020_05_30\n"
     ]
    }
   ],
   "source": [
    "n = 'TUR'\n",
    "d = '_2020_05_30'\n",
    "\n",
    "src_im_dir = '../../0_thesis_bing/imagery_' + n + d\n",
    "detection_file = '../targets_2_simrdwn/TUR/predictions_' + n + '.csv'\n",
    "dest_im_dir = '../../0_bing/imagery_' + n + d\n",
    "\n",
    "print(src_im_dir)\n",
    "print(detection_file)\n",
    "print(dest_im_dir)"
   ]
  },
  {
   "cell_type": "code",
   "execution_count": 70,
   "metadata": {},
   "outputs": [],
   "source": [
    "def plot_detection_boxes(src_im_dir, detection_file, dest_im_dir):\n",
    "    \"\"\"\n",
    "    Plot detection boxes for image dataset based on detection csv file.\n",
    "\n",
    "    Arguments\n",
    "    ---------\n",
    "    src_im_dir : str\n",
    "        Directory path for input images.\n",
    "    detection_file : str\n",
    "        File path for CSV file with detections.\n",
    "    dest_im_dir : str\n",
    "        Directory path for output images with detections.\n",
    "    \"\"\"\n",
    "    if os.path.isdir(dest_im_dir):\n",
    "        shutil.rmtree(dest_im_dir)\n",
    "    os.makedirs(dest_im_dir)\n",
    "    \n",
    "    df = pd.read_csv(detection_file)\n",
    "    img_files = df.img_file.unique()\n",
    "    for f in img_files:\n",
    "        boxes = df[df['img_file'] == f][['xmin', 'ymin', 'xmax', 'ymax']].to_numpy()\n",
    "        im = cv2.imread(os.path.join(src_im_dir, f), 1)\n",
    "\n",
    "        for box in boxes:\n",
    "            left, top, right, bottom = box\n",
    "            overlay = im.copy()\n",
    "            cv2.rectangle(overlay, \n",
    "                          (int(left), int(bottom)), \n",
    "                          (int(right), int(top)), \n",
    "                          (0, 255, 0), \n",
    "                          2)\n",
    "            \n",
    "            alpha = 0.4\n",
    "            im = cv2.addWeighted(overlay, alpha, im, 1 - alpha, 0)\n",
    "        \n",
    "        outfile = os.path.join(dest_im_dir, f)\n",
    "        print(outfile)\n",
    "        cv2.imwrite(outfile, im)"
   ]
  },
  {
   "cell_type": "code",
   "execution_count": 71,
   "metadata": {},
   "outputs": [
    {
     "ename": "AttributeError",
     "evalue": "'NoneType' object has no attribute 'copy'",
     "output_type": "error",
     "traceback": [
      "\u001b[1;31m---------------------------------------------------------------------------\u001b[0m",
      "\u001b[1;31mAttributeError\u001b[0m                            Traceback (most recent call last)",
      "\u001b[1;32m<ipython-input-71-bd2cfb79ff04>\u001b[0m in \u001b[0;36m<module>\u001b[1;34m\u001b[0m\n\u001b[0;32m      2\u001b[0m \u001b[1;31m# detection_file = '../../datasets/detections/predictions_albania.csv'\u001b[0m\u001b[1;33m\u001b[0m\u001b[1;33m\u001b[0m\u001b[1;33m\u001b[0m\u001b[0m\n\u001b[0;32m      3\u001b[0m \u001b[1;31m# dest_im_dir = '../../datasets/imagery_all_detections1/imagery_albania_2020_05_31'\u001b[0m\u001b[1;33m\u001b[0m\u001b[1;33m\u001b[0m\u001b[1;33m\u001b[0m\u001b[0m\n\u001b[1;32m----> 4\u001b[1;33m \u001b[0mplot_detection_boxes\u001b[0m\u001b[1;33m(\u001b[0m\u001b[0msrc_im_dir\u001b[0m\u001b[1;33m,\u001b[0m \u001b[0mdetection_file\u001b[0m\u001b[1;33m,\u001b[0m \u001b[0mdest_im_dir\u001b[0m\u001b[1;33m)\u001b[0m\u001b[1;33m\u001b[0m\u001b[1;33m\u001b[0m\u001b[0m\n\u001b[0m",
      "\u001b[1;32m<ipython-input-70-7e0ee2407d4e>\u001b[0m in \u001b[0;36mplot_detection_boxes\u001b[1;34m(src_im_dir, detection_file, dest_im_dir)\u001b[0m\n\u001b[0;32m     24\u001b[0m         \u001b[1;32mfor\u001b[0m \u001b[0mbox\u001b[0m \u001b[1;32min\u001b[0m \u001b[0mboxes\u001b[0m\u001b[1;33m:\u001b[0m\u001b[1;33m\u001b[0m\u001b[1;33m\u001b[0m\u001b[0m\n\u001b[0;32m     25\u001b[0m             \u001b[0mleft\u001b[0m\u001b[1;33m,\u001b[0m \u001b[0mtop\u001b[0m\u001b[1;33m,\u001b[0m \u001b[0mright\u001b[0m\u001b[1;33m,\u001b[0m \u001b[0mbottom\u001b[0m \u001b[1;33m=\u001b[0m \u001b[0mbox\u001b[0m\u001b[1;33m\u001b[0m\u001b[1;33m\u001b[0m\u001b[0m\n\u001b[1;32m---> 26\u001b[1;33m             \u001b[0moverlay\u001b[0m \u001b[1;33m=\u001b[0m \u001b[0mim\u001b[0m\u001b[1;33m.\u001b[0m\u001b[0mcopy\u001b[0m\u001b[1;33m(\u001b[0m\u001b[1;33m)\u001b[0m\u001b[1;33m\u001b[0m\u001b[1;33m\u001b[0m\u001b[0m\n\u001b[0m\u001b[0;32m     27\u001b[0m             cv2.rectangle(overlay, \n\u001b[0;32m     28\u001b[0m                           \u001b[1;33m(\u001b[0m\u001b[0mint\u001b[0m\u001b[1;33m(\u001b[0m\u001b[0mleft\u001b[0m\u001b[1;33m)\u001b[0m\u001b[1;33m,\u001b[0m \u001b[0mint\u001b[0m\u001b[1;33m(\u001b[0m\u001b[0mbottom\u001b[0m\u001b[1;33m)\u001b[0m\u001b[1;33m)\u001b[0m\u001b[1;33m,\u001b[0m\u001b[1;33m\u001b[0m\u001b[1;33m\u001b[0m\u001b[0m\n",
      "\u001b[1;31mAttributeError\u001b[0m: 'NoneType' object has no attribute 'copy'"
     ]
    }
   ],
   "source": [
    "# src_im_dir = '../../datasets/imagery_all/imagery_albania_2020_05_31'\n",
    "# detection_file = '../../datasets/detections/predictions_albania.csv'\n",
    "# dest_im_dir = '../../datasets/imagery_all_detections1/imagery_albania_2020_05_31'\n",
    "plot_detection_boxes(src_im_dir, detection_file, dest_im_dir)"
   ]
  }
 ],
 "metadata": {
  "kernelspec": {
   "display_name": "Python 3",
   "language": "python",
   "name": "python3"
  },
  "language_info": {
   "codemirror_mode": {
    "name": "ipython",
    "version": 3
   },
   "file_extension": ".py",
   "mimetype": "text/x-python",
   "name": "python",
   "nbconvert_exporter": "python",
   "pygments_lexer": "ipython3",
   "version": "3.7.4"
  }
 },
 "nbformat": 4,
 "nbformat_minor": 4
}
