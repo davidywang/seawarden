{
 "cells": [
  {
   "cell_type": "code",
   "execution_count": 1,
   "metadata": {
    "scrolled": true
   },
   "outputs": [
    {
     "ename": "FileNotFoundError",
     "evalue": "[WinError 3] The system cannot find the path specified: '/Users/Zack/0_bing/detections_1+ positive/'",
     "output_type": "error",
     "traceback": [
      "\u001b[1;31m---------------------------------------------------------------------------\u001b[0m",
      "\u001b[1;31mFileNotFoundError\u001b[0m                         Traceback (most recent call last)",
      "\u001b[1;32m<ipython-input-1-8159e1d5288a>\u001b[0m in \u001b[0;36m<module>\u001b[1;34m\u001b[0m\n\u001b[0;32m     21\u001b[0m \u001b[1;31m#out_folder = '/Users/Zack/Desktop/temp/'\u001b[0m\u001b[1;33m\u001b[0m\u001b[1;33m\u001b[0m\u001b[1;33m\u001b[0m\u001b[0m\n\u001b[0;32m     22\u001b[0m \u001b[1;33m\u001b[0m\u001b[0m\n\u001b[1;32m---> 23\u001b[1;33m \u001b[0mimages\u001b[0m \u001b[1;33m=\u001b[0m \u001b[0mos\u001b[0m\u001b[1;33m.\u001b[0m\u001b[0mlistdir\u001b[0m\u001b[1;33m(\u001b[0m\u001b[0mfolder\u001b[0m\u001b[1;33m)\u001b[0m\u001b[1;33m\u001b[0m\u001b[1;33m\u001b[0m\u001b[0m\n\u001b[0m\u001b[0;32m     24\u001b[0m \u001b[0mprint\u001b[0m\u001b[1;33m(\u001b[0m\u001b[1;34m\"total number of images:\"\u001b[0m\u001b[1;33m,\u001b[0m \u001b[0mlen\u001b[0m\u001b[1;33m(\u001b[0m\u001b[0mimages\u001b[0m\u001b[1;33m)\u001b[0m\u001b[1;33m)\u001b[0m\u001b[1;33m\u001b[0m\u001b[1;33m\u001b[0m\u001b[0m\n\u001b[0;32m     25\u001b[0m \u001b[0mimages\u001b[0m\u001b[1;33m\u001b[0m\u001b[1;33m\u001b[0m\u001b[0m\n",
      "\u001b[1;31mFileNotFoundError\u001b[0m: [WinError 3] The system cannot find the path specified: '/Users/Zack/0_bing/detections_1+ positive/'"
     ]
    }
   ],
   "source": [
    "import os\n",
    "import math\n",
    "import numpy as np\n",
    "import cv2 as cv\n",
    "\n",
    "from matplotlib import image as img  \n",
    "from matplotlib import pyplot as plt \n",
    "from matplotlib.patches import Circle\n",
    "\n",
    "import pandas as pd\n",
    "import geopandas as gpd\n",
    "from shapely.geometry import Polygon, Point\n",
    "from explode import explode\n",
    "#from pyproj import Proj\n",
    "\n",
    "folder = '/Users/Zack/0_bing/detections_1+ positive/'\n",
    "#folder = '/Users/Zack/0_bing/detections_1+/detections/' #yolo v3 predictions\n",
    "#folder = '/Users/Zack/0_bing/images_1km_2019-10-13/' #control data\n",
    "#folder = '/Users/Zack/0_bing/images_1km_2020-02-08/'#all SAR predictions\n",
    "\n",
    "#out_folder = '/Users/Zack/Desktop/temp/'\n",
    "\n",
    "images = os.listdir(folder)\n",
    "print(\"total number of images:\", len(images))"
   ]
  },
  {
   "cell_type": "code",
   "execution_count": null,
   "metadata": {},
   "outputs": [],
   "source": [
    "#hough parameters\n",
    "minDist=20\n",
    "param1=45\n",
    "param2=33 #33\n",
    "minRadius=10\n",
    "maxRadius=30\n",
    "\n",
    "#perform detection\n",
    "c_list = []\n",
    "for image in images: \n",
    "    img = cv.imread(cv.samples.findFile(folder + image), cv.IMREAD_COLOR) #load image\n",
    "    img = cv.cvtColor(img, cv.COLOR_BGR2GRAY) #grayscale\n",
    "    img = cv.blur(img,(5,5)) #blur\n",
    "    circles = cv.HoughCircles(img, cv.HOUGH_GRADIENT, 1, minDist=minDist, \n",
    "                              param1=param1, param2=param2, \n",
    "                              minRadius=minRadius, maxRadius=maxRadius)\n",
    "    c_list.append(circles)\n",
    "\n",
    "#images with detections - remove None\n",
    "index = pd.DataFrame(c_list)\n",
    "index['index'] = index.index\n",
    "print(len(c_list), 'images')\n",
    "print(index.index.tolist())\n",
    "\n",
    "index = index.dropna()\n",
    "index = index.index.tolist()\n",
    "print(len(index), 'images with detections')\n",
    "print(index)\n",
    "\n",
    "#detection for images with detections\n",
    "object_list = pd.DataFrame([])\n",
    "for h in index:\n",
    "    image = images[h]\n",
    "    img = cv.imread(cv.samples.findFile(folder + image), cv.IMREAD_COLOR) #load image\n",
    "    img = cv.cvtColor(img, cv.COLOR_BGR2GRAY) #grayscale\n",
    "    img = cv.blur(img,(5,5))\n",
    "    #img = cv.medianBlur(img, 5)\n",
    "    #img = cv.GaussianBlur(img, (7, 7), 8)\n",
    "\n",
    "    circles = cv.HoughCircles(img, cv.HOUGH_GRADIENT, 1, minDist=minDist, \n",
    "                              param1=param1, param2=param2, \n",
    "                              minRadius=minRadius, maxRadius=maxRadius)\n",
    "    \n",
    "    if circles is not None:\n",
    "        circles = np.uint16(np.around(circles))   \n",
    "        c, r = [], []\n",
    "        for j in circles[0, :]:\n",
    "            center = (j[0], j[1])\n",
    "            radius = j[2]\n",
    "            cv.circle(img, center, radius, (0, 0, 255), 3)\n",
    "            c.append(center)\n",
    "            r.append(radius) \n",
    "       \n",
    "    df = pd.DataFrame(data = {'radius':r, 'center':c})  \n",
    "    df['image_name'] = image #add image name\n",
    "\n",
    "    #plot detections to image\n",
    "    img = plt.imread(folder + image)\n",
    "    fig, ax = plt.subplots(ncols = 1, nrows= 1, figsize = (20, 20))\n",
    "    ax.axis('off')\n",
    "    ax.imshow(img)\n",
    "\n",
    "    for i in (range(len(df))):\n",
    "        circle = Circle((c[i][0], c[i][1]), r[i], facecolor = 'none', edgecolor = '#32CD32')\n",
    "        ax.add_patch(circle)\n",
    "\n",
    "    #export images with annotations\n",
    "    #plt.savefig(out_folder + image, dpi = 96, bbox_inches='tight', pad_inches=0)\n",
    "    #plt.show()\n",
    "    \n",
    "    print(len(df), 'detections', image)\n",
    "    object_list = object_list.append(pd.DataFrame(df), sort=False) \n",
    "    object_list.head()"
   ]
  },
  {
   "cell_type": "code",
   "execution_count": null,
   "metadata": {},
   "outputs": [],
   "source": [
    "#select detections\n",
    "count = pd.DataFrame(object_list['image_name'].value_counts())\n",
    "\n",
    "#select images with 5 or more detections\n",
    "select = count[count.image_name > 4]\n",
    "select = select.index.tolist()\n",
    "selected = object_list[object_list.image_name.isin(select)]\n",
    "print(len(select), ' images with 5 or more detections')\n",
    "print(len(object_list), 'total detections')\n",
    "print(len(selected), 'selected detections')\n",
    "\n",
    "#export csv\n",
    "object_list.to_csv('detections_hough.csv', index = None, header=True)"
   ]
  },
  {
   "cell_type": "code",
   "execution_count": null,
   "metadata": {},
   "outputs": [],
   "source": [
    "# selected = selected[0:500]\n",
    "# selected.head()"
   ]
  },
  {
   "cell_type": "code",
   "execution_count": null,
   "metadata": {},
   "outputs": [],
   "source": [
    "#georeference detections\n",
    "lon_list, lat_list, res_list = [], [], []\n",
    "for i in (range(len(selected))):\n",
    "    \n",
    "    #extract bottom right coordinate from image name\n",
    "    name = selected['image_name'].iloc[i]\n",
    "    br_lon = float(name.split(\", \")[4]) #lon = x                                       \n",
    "    br_lat = float(name.split(\", \")[3]) #lat = y\n",
    "    \n",
    "    #extract top left coordinate from image name\n",
    "    tl_lon = float((name.split(\",\")[6]).split(\")\")[0]) #lon = x\n",
    "    tl_lat = float(name.split(\", \")[5]) #lat = y\n",
    "    \n",
    "    #image dimensions\n",
    "    image = os.path.join(folder, object_list['image_name'].iloc[i])\n",
    "    dim = plt.imread(image).shape\n",
    "    width = abs(br_lon - tl_lon) \n",
    "    height = abs(tl_lat - br_lat)\n",
    "    \n",
    "    #decimal degrees per pixel\n",
    "    res_x = width / dim[0] #image width\n",
    "    res_y = height / dim[1] #image height\n",
    "    \n",
    "    #res\n",
    "    lat = tl_lat * math.pi / 180\n",
    "    res = 156543.04 * math.cos(lat) / (2 ** 18)\n",
    "    \n",
    "    #convert centroid point to lat/lon  \n",
    "    center = selected['center'].iloc[i]  \n",
    "    x_center = tl_lon + (center[0] * res_x) \n",
    "    y_center = tl_lat - (center[1] * res_y) \n",
    "\n",
    "    lon_list.append(x_center)\n",
    "    lat_list.append(y_center)\n",
    "    res_list.append(res)"
   ]
  },
  {
   "cell_type": "code",
   "execution_count": null,
   "metadata": {},
   "outputs": [],
   "source": [
    "#prepare df for export as shapefile\n",
    "d2 = selected.reset_index(drop=True) #super important\n",
    "d2 = d2.drop(columns=['center'])\n",
    "d2['resolution']=res_list\n",
    "d2['diameter']=d2['radius'] * res_list * 2\n",
    "d2['radius']=d2['radius'] * res_list \n",
    "\n",
    "#add geometry information to df \n",
    "geometry = [Point(i) for i in zip(lon_list, lat_list)]\n",
    "d2_centroids = gpd.GeoDataFrame(d2, geometry=geometry, crs={'init' :'EPSG:4326'})\n",
    "\n",
    "#export centroids\n",
    "d2_centroids.to_file('../targets/detections_hough_pts.geojson', driver='GeoJSON')\n",
    "d2_centroids.to_file('../targets/detections_hough_pts.shp')"
   ]
  },
  {
   "cell_type": "code",
   "execution_count": null,
   "metadata": {},
   "outputs": [],
   "source": [
    "#create buffer by diameter\n",
    "def buffer(row):\n",
    "     return row.geometry.buffer(row.radius)    \n",
    "d2_centroids = d2_centroids.to_crs({'init': 'EPSG:2100'})\n",
    "buffer = d2_centroids['geometry'] = d2_centroids.apply(buffer, axis=1)\n",
    "\n",
    "d2_circles = gpd.GeoDataFrame(d2_centroids, geometry = buffer, crs={'init': 'EPSG:2100'})\n",
    "d2_circles = d2_circles.to_crs({'init': 'EPSG:4326'})\n",
    "\n",
    "#export polygons\n",
    "d2_circles.to_file('../targets/detections_hough.geojson', driver='GeoJSON')\n",
    "d2_circles.to_file('../targets/detections_hough.shp')"
   ]
  },
  {
   "cell_type": "code",
   "execution_count": null,
   "metadata": {},
   "outputs": [],
   "source": [
    "#detection aggregation\n",
    "#buffer points\n",
    "buffer = gpd.read_file('../targets/detections_hough_5m.shp')\n",
    "buffer = buffer.to_crs({'init': 'EPSG:4326'})"
   ]
  },
  {
   "cell_type": "code",
   "execution_count": null,
   "metadata": {},
   "outputs": [],
   "source": [
    "#dissolve buffers\n",
    "buffer['Dissolve'] = 0\n",
    "buffer_dis = buffer.dissolve(by='Dissolve')\n",
    "\n",
    "#explode polygon \n",
    "buffer_exploded = explode(buffer_dis)  "
   ]
  },
  {
   "cell_type": "code",
   "execution_count": null,
   "metadata": {},
   "outputs": [],
   "source": [
    "#generate mean diameter for each aggregated point\n",
    "d_list = []\n",
    "for i in (range(len(buffer_exploded))):\n",
    "    buffer = buffer_exploded.iloc[i]\n",
    "    d2_centroids.within(buffer) \n",
    "    subset = points[points.within(i)]\n",
    "    diameter = np.mean(subset['diameter'])\n",
    "    d_list.append(diameter)"
   ]
  },
  {
   "cell_type": "code",
   "execution_count": null,
   "metadata": {},
   "outputs": [],
   "source": [
    "#generate centroids\n",
    "centroids = gpd.GeoDataFrame(geometry = buffer_exploded.centroid, crs={'init': 'EPSG:2100'})\n",
    "\n",
    "centroids.crs = {'init' :'ESPG:4326'}\n",
    "#centroids = centroids.to_crs({'init': 'EPSG:4326'})\n",
    "centroids.to_file('/Users/Zack/Desktop/clean.shp')\n",
    "\n",
    "#generate new buffers for aggregated points using mean diameter\n",
    "centroids\n",
    "d2_centroids_buffer = d2_centroids['geometry'] = d2_centroids.apply(buffer, axis=1)\n",
    "buffer = d2_centroids['geometry'] = d2_centroids.apply(buffer, axis=1)"
   ]
  }
 ],
 "metadata": {
  "kernelspec": {
   "display_name": "Python 3",
   "language": "python",
   "name": "python3"
  },
  "language_info": {
   "codemirror_mode": {
    "name": "ipython",
    "version": 3
   },
   "file_extension": ".py",
   "mimetype": "text/x-python",
   "name": "python",
   "nbconvert_exporter": "python",
   "pygments_lexer": "ipython3",
   "version": "3.7.4"
  }
 },
 "nbformat": 4,
 "nbformat_minor": 2
}
