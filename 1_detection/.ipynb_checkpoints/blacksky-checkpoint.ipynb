{
 "cells": [
  {
   "cell_type": "code",
   "execution_count": 112,
   "metadata": {},
   "outputs": [
    {
     "name": "stdout",
     "output_type": "stream",
     "text": [
      "EPSG:32634\n",
      "| 1.00, 0.00, 497892.00|\n",
      "| 0.00,-1.00, 4262223.00|\n",
      "| 0.00, 0.00, 1.00|\n"
     ]
    }
   ],
   "source": [
    "#https://clouds.eos.ubc.ca/~phil/courses/atsc301/html/rasterio_demo.html\n",
    "import rasterio\n",
    "from rasterio import plot\n",
    "from rasterio.plot import show\n",
    "from matplotlib import pyplot as plt\n",
    "\n",
    "import numpy as np\n",
    "from skimage import img_as_ubyte\n",
    "from skimage import exposure\n",
    "\n",
    "#to display RGB\n",
    "f = '/Users/Zack/0_sw_blacksky/BSG-102-20200410-092842-1269688-ortho/'\n",
    "n = 'BSG-102-20200410-092842-1269688_ortho.tif'\n",
    "dataset = rasterio.open(f+n)\n",
    "\n",
    "b1=dataset.read(1)\n",
    "b2=dataset.read(2)\n",
    "b3=dataset.read(3)\n",
    "\n",
    "\n",
    "crs = dataset.crs\n",
    "print(crs)\n",
    "\n",
    "transform=dataset.transform\n",
    "print(transform)"
   ]
  },
  {
   "cell_type": "code",
   "execution_count": 113,
   "metadata": {
    "scrolled": true
   },
   "outputs": [],
   "source": [
    "channels=np.empty([3,b2.shape[0],b2.shape[1]],dtype=np.uint8)"
   ]
  },
  {
   "cell_type": "code",
   "execution_count": 109,
   "metadata": {},
   "outputs": [],
   "source": [
    "for index,image in enumerate([b1, b2, b3]):\n",
    "    stretched=exposure.equalize_hist(image)    \n",
    "    channels[index,:,:] = img_as_ubyte(stretched)"
   ]
  },
  {
   "cell_type": "code",
   "execution_count": 114,
   "metadata": {},
   "outputs": [],
   "source": [
    "tif_filename = (f + 'test.tiff')\n",
    "\n",
    "num_chans, height, width = channels.shape\n",
    "with rasterio.open(tif_filename,'w',driver='GTiff',\n",
    "                   height=height,width=width,\n",
    "                   count=num_chans,dtype=channels.dtype,\n",
    "                   transform=transform, crs=crs,nodata=0.0) as dst: #transform=transform\n",
    "        dst.write(channels)\n",
    "        keys=['1','2','3']\n",
    "        for index,chan_name in enumerate(keys):\n",
    "            dst.update_tags(index+1,name=chan_name)"
   ]
  }
 ],
 "metadata": {
  "kernelspec": {
   "display_name": "Python 3",
   "language": "python",
   "name": "python3"
  },
  "language_info": {
   "codemirror_mode": {
    "name": "ipython",
    "version": 3
   },
   "file_extension": ".py",
   "mimetype": "text/x-python",
   "name": "python",
   "nbconvert_exporter": "python",
   "pygments_lexer": "ipython3",
   "version": "3.7.4"
  }
 },
 "nbformat": 4,
 "nbformat_minor": 2
}
