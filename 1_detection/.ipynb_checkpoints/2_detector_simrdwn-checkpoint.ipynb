{
 "cells": [
  {
   "cell_type": "code",
   "execution_count": 1,
   "metadata": {},
   "outputs": [],
   "source": [
    "#import os\n",
    "import math\n",
    "import numpy as np\n",
    "import pandas as pd\n",
    "import geopandas as gpd\n",
    "from geopandas.tools import sjoin\n",
    "from shapely.geometry import Polygon, Point\n",
    "from explode import explode"
   ]
  },
  {
   "cell_type": "code",
   "execution_count": 2,
   "metadata": {
    "scrolled": false
   },
   "outputs": [
    {
     "name": "stdout",
     "output_type": "stream",
     "text": [
      "(13290, 8)\n"
     ]
    }
   ],
   "source": [
    "#SET COUNTRY <----------------------------------------------------------------------------------CHANGE\n",
    "n = 'TUR' \n",
    "\n",
    "#SET CRS #<-------------------------------------------------------------------------------------CHANGE\n",
    "crs = 'EPSG:5637' #turkey\n",
    "#crs = 'EPSG:2100' #greece\n",
    "wgs84= {'init' :'EPSG:4326'}\n",
    "\n",
    "#open file\n",
    "f = '../targets_2_simrdwn/'\n",
    "file = f + 'predictions_' + n + '.csv'\n",
    "detections = pd.read_csv(file, delimiter=',', header=0)\n",
    "print(detections.shape)\n",
    "detections.head()\n",
    "\n",
    "detections = detections[0:1000]"
   ]
  },
  {
   "cell_type": "code",
   "execution_count": 3,
   "metadata": {},
   "outputs": [],
   "source": [
    "#georeference prediction bounding boxes and convert to centroid\n",
    "selected = detections\n",
    "\n",
    "lon_list, lat_list, radius_list, diameter_list = [], [], [], []\n",
    "for i in range(len(selected)):\n",
    "    #extract bottom right coordinate from image name\n",
    "    img = detections['img_file'].iloc[i]\n",
    "    br_lon = float(img.split('_')[4] + '.' + img.split('_')[5]) #lon = x                                       \n",
    "    br_lat = float(img.split('_')[2] + '.' + img.split('_')[3]) #lat = y\n",
    "    \n",
    "    #extract top left coordinate from image name\n",
    "    tl_lon = float(img.split('_')[8] + '.' + (img.split('_')[9]).split('.')[0]) #lon = x\n",
    "    tl_lat = float(img.split('_')[6] + '.' + img.split('_')[7]) #lat = y    \n",
    "    \n",
    "#     #extract bottom right coordinate from image name\n",
    "#     img = detections['img_file'].iloc[i]\n",
    "#     br_lon = float(img.split('_')[8] + '.' + img.split('_')[9]) #lon = x                                       \n",
    "#     br_lat = float(img.split('_')[6] + '.' + img.split('_')[7]) #lat = y\n",
    "    \n",
    "#     #extract top left coordinate from image name\n",
    "#     tl_lon = float(img.split('_')[12] + '.' + (img.split('_')[13]).split('.')[0]) #lon = x\n",
    "#     tl_lat = float(img.split('_')[10] + '.' + img.split('_')[11]) #lat = y\n",
    "    \n",
    "    #image dimensions\n",
    "    img_w = detections['img_width'].iloc[i]\n",
    "    img_h = detections['img_height'].iloc[i]\n",
    "    width = abs(br_lon - tl_lon) \n",
    "    height = abs(tl_lat - br_lat)\n",
    "    \n",
    "    #decimal degrees per pixel\n",
    "    res_x = width / img_w #image width\n",
    "    res_y = height / img_h #image height\n",
    "    \n",
    "    #res\n",
    "    lat = tl_lat * math.pi / 180\n",
    "    res = 156543.04 * math.cos(lat) / (2 ** 18)\n",
    "    \n",
    "    #convert bounding box to centroid\n",
    "    xmin = detections['xmin'].iloc[i]\n",
    "    ymin = detections['ymin'].iloc[i]\n",
    "    xmax = detections['xmax'].iloc[i]\n",
    "    ymax = detections['ymax'].iloc[i]\n",
    "    x = (xmin + xmax) / 2\n",
    "    y = (ymin + ymax) / 2\n",
    "    \n",
    "    #convert centroid point to lat/lon   \n",
    "    x_center = tl_lon + (x * res_x) \n",
    "    y_center = tl_lat - (y * res_y) \n",
    "    \n",
    "    #estimate radius of detection\n",
    "    w = xmax-xmin \n",
    "    h = ymax-ymin \n",
    "    radius = (((w+h)/2)/4 )*1.1\n",
    "    diameter = radius * 2\n",
    "    lon_list.append(x_center)\n",
    "    lat_list.append(y_center)\n",
    "    radius_list.append(radius)\n",
    "    diameter_list.append(diameter)"
   ]
  },
  {
   "cell_type": "code",
   "execution_count": 4,
   "metadata": {},
   "outputs": [
    {
     "name": "stdout",
     "output_type": "stream",
     "text": [
      "1000 total detections\n",
      "{'init': 'EPSG:5637'}\n"
     ]
    },
    {
     "data": {
      "text/html": [
       "<div>\n",
       "<style scoped>\n",
       "    .dataframe tbody tr th:only-of-type {\n",
       "        vertical-align: middle;\n",
       "    }\n",
       "\n",
       "    .dataframe tbody tr th {\n",
       "        vertical-align: top;\n",
       "    }\n",
       "\n",
       "    .dataframe thead th {\n",
       "        text-align: right;\n",
       "    }\n",
       "</style>\n",
       "<table border=\"1\" class=\"dataframe\">\n",
       "  <thead>\n",
       "    <tr style=\"text-align: right;\">\n",
       "      <th></th>\n",
       "      <th>img_file</th>\n",
       "      <th>img_width</th>\n",
       "      <th>img_height</th>\n",
       "      <th>xmin</th>\n",
       "      <th>ymin</th>\n",
       "      <th>xmax</th>\n",
       "      <th>ymax</th>\n",
       "      <th>x</th>\n",
       "      <th>y</th>\n",
       "      <th>radius</th>\n",
       "      <th>diameter</th>\n",
       "      <th>geometry</th>\n",
       "    </tr>\n",
       "  </thead>\n",
       "  <tbody>\n",
       "    <tr>\n",
       "      <td>0</td>\n",
       "      <td>image_18_38_46098_27_08505_38_47028_27_07399.jpeg</td>\n",
       "      <td>2061</td>\n",
       "      <td>2214</td>\n",
       "      <td>30</td>\n",
       "      <td>613</td>\n",
       "      <td>113</td>\n",
       "      <td>704</td>\n",
       "      <td>27.074374</td>\n",
       "      <td>38.467514</td>\n",
       "      <td>23.92</td>\n",
       "      <td>47.85</td>\n",
       "      <td>POINT (5457336.632317584 1507076.414288142)</td>\n",
       "    </tr>\n",
       "    <tr>\n",
       "      <td>1</td>\n",
       "      <td>image_18_36_80047_28_24948_36_80986_28_2388.jpeg</td>\n",
       "      <td>1991</td>\n",
       "      <td>2186</td>\n",
       "      <td>1005</td>\n",
       "      <td>718</td>\n",
       "      <td>1101</td>\n",
       "      <td>891</td>\n",
       "      <td>28.244448</td>\n",
       "      <td>36.806404</td>\n",
       "      <td>36.99</td>\n",
       "      <td>73.98</td>\n",
       "      <td>POINT (5599828.388183808 1353999.777046428)</td>\n",
       "    </tr>\n",
       "    <tr>\n",
       "      <td>2</td>\n",
       "      <td>image_18_38_57436_26_35616_38_5836_26_34498.jpeg</td>\n",
       "      <td>2084</td>\n",
       "      <td>2203</td>\n",
       "      <td>1005</td>\n",
       "      <td>1214</td>\n",
       "      <td>1100</td>\n",
       "      <td>1295</td>\n",
       "      <td>26.350626</td>\n",
       "      <td>38.578338</td>\n",
       "      <td>24.20</td>\n",
       "      <td>48.40</td>\n",
       "      <td>POINT (5393933.816647355 1504941.096989041)</td>\n",
       "    </tr>\n",
       "    <tr>\n",
       "      <td>3</td>\n",
       "      <td>image_18_38_57436_26_35616_38_5836_26_34498.jpeg</td>\n",
       "      <td>2084</td>\n",
       "      <td>2203</td>\n",
       "      <td>1175</td>\n",
       "      <td>1366</td>\n",
       "      <td>1262</td>\n",
       "      <td>1466</td>\n",
       "      <td>26.351517</td>\n",
       "      <td>38.577661</td>\n",
       "      <td>25.71</td>\n",
       "      <td>51.42</td>\n",
       "      <td>POINT (5394024.773244331 1504885.534582943)</td>\n",
       "    </tr>\n",
       "    <tr>\n",
       "      <td>4</td>\n",
       "      <td>image_18_38_57436_26_35616_38_5836_26_34498.jpeg</td>\n",
       "      <td>2084</td>\n",
       "      <td>2203</td>\n",
       "      <td>1181</td>\n",
       "      <td>1208</td>\n",
       "      <td>1261</td>\n",
       "      <td>1301</td>\n",
       "      <td>26.351530</td>\n",
       "      <td>38.578338</td>\n",
       "      <td>23.79</td>\n",
       "      <td>47.58</td>\n",
       "      <td>POINT (5394009.618732309 1504958.149597286)</td>\n",
       "    </tr>\n",
       "  </tbody>\n",
       "</table>\n",
       "</div>"
      ],
      "text/plain": [
       "                                            img_file  img_width  img_height  \\\n",
       "0  image_18_38_46098_27_08505_38_47028_27_07399.jpeg       2061        2214   \n",
       "1   image_18_36_80047_28_24948_36_80986_28_2388.jpeg       1991        2186   \n",
       "2   image_18_38_57436_26_35616_38_5836_26_34498.jpeg       2084        2203   \n",
       "3   image_18_38_57436_26_35616_38_5836_26_34498.jpeg       2084        2203   \n",
       "4   image_18_38_57436_26_35616_38_5836_26_34498.jpeg       2084        2203   \n",
       "\n",
       "   xmin  ymin  xmax  ymax          x          y  radius  diameter  \\\n",
       "0    30   613   113   704  27.074374  38.467514   23.92     47.85   \n",
       "1  1005   718  1101   891  28.244448  36.806404   36.99     73.98   \n",
       "2  1005  1214  1100  1295  26.350626  38.578338   24.20     48.40   \n",
       "3  1175  1366  1262  1466  26.351517  38.577661   25.71     51.42   \n",
       "4  1181  1208  1261  1301  26.351530  38.578338   23.79     47.58   \n",
       "\n",
       "                                      geometry  \n",
       "0  POINT (5457336.632317584 1507076.414288142)  \n",
       "1  POINT (5599828.388183808 1353999.777046428)  \n",
       "2  POINT (5393933.816647355 1504941.096989041)  \n",
       "3  POINT (5394024.773244331 1504885.534582943)  \n",
       "4  POINT (5394009.618732309 1504958.149597286)  "
      ]
     },
     "execution_count": 4,
     "metadata": {},
     "output_type": "execute_result"
    }
   ],
   "source": [
    "#add attributes to df\n",
    "d2 = selected.reset_index(drop=True) #super important\n",
    "d2 = d2.drop(columns=['label'])\n",
    "d2['x']=lon_list\n",
    "d2['y']=lat_list\n",
    "d2['radius']=np.round(radius_list,2)\n",
    "d2['diameter']=np.round(diameter_list,2)\n",
    "print(len(d2), 'total detections')\n",
    "\n",
    "#add geometry information to df \n",
    "geometry = [Point(i) for i in zip(lon_list, lat_list)]\n",
    "d2 = gpd.GeoDataFrame(d2, geometry=geometry, crs=wgs84)\n",
    "d2 = d2.to_crs({'init': crs})\n",
    "\n",
    "print(d2.crs)\n",
    "d2.head()"
   ]
  },
  {
   "cell_type": "code",
   "execution_count": 5,
   "metadata": {
    "scrolled": false
   },
   "outputs": [
    {
     "name": "stdout",
     "output_type": "stream",
     "text": [
      "824 detections within search area\n",
      "747 total detections less than or equal to 55 meters\n"
     ]
    },
    {
     "data": {
      "text/html": [
       "<div>\n",
       "<style scoped>\n",
       "    .dataframe tbody tr th:only-of-type {\n",
       "        vertical-align: middle;\n",
       "    }\n",
       "\n",
       "    .dataframe tbody tr th {\n",
       "        vertical-align: top;\n",
       "    }\n",
       "\n",
       "    .dataframe thead th {\n",
       "        text-align: right;\n",
       "    }\n",
       "</style>\n",
       "<table border=\"1\" class=\"dataframe\">\n",
       "  <thead>\n",
       "    <tr style=\"text-align: right;\">\n",
       "      <th></th>\n",
       "      <th>radius</th>\n",
       "      <th>geometry</th>\n",
       "    </tr>\n",
       "  </thead>\n",
       "  <tbody>\n",
       "    <tr>\n",
       "      <td>2</td>\n",
       "      <td>24.20</td>\n",
       "      <td>POINT (5393933.816647355 1504941.096989041)</td>\n",
       "    </tr>\n",
       "    <tr>\n",
       "      <td>3</td>\n",
       "      <td>25.71</td>\n",
       "      <td>POINT (5394024.773244331 1504885.534582943)</td>\n",
       "    </tr>\n",
       "    <tr>\n",
       "      <td>4</td>\n",
       "      <td>23.79</td>\n",
       "      <td>POINT (5394009.618732309 1504958.149597286)</td>\n",
       "    </tr>\n",
       "    <tr>\n",
       "      <td>5</td>\n",
       "      <td>24.34</td>\n",
       "      <td>POINT (5393993.114654925 1505030.460836815)</td>\n",
       "    </tr>\n",
       "    <tr>\n",
       "      <td>6</td>\n",
       "      <td>24.61</td>\n",
       "      <td>POINT (5393953.116187977 1504871.062021138)</td>\n",
       "    </tr>\n",
       "  </tbody>\n",
       "</table>\n",
       "</div>"
      ],
      "text/plain": [
       "   radius                                     geometry\n",
       "2   24.20  POINT (5393933.816647355 1504941.096989041)\n",
       "3   25.71  POINT (5394024.773244331 1504885.534582943)\n",
       "4   23.79  POINT (5394009.618732309 1504958.149597286)\n",
       "5   24.34  POINT (5393993.114654925 1505030.460836815)\n",
       "6   24.61  POINT (5393953.116187977 1504871.062021138)"
      ]
     },
     "execution_count": 5,
     "metadata": {},
     "output_type": "execute_result"
    }
   ],
   "source": [
    "#select predictions within search area\n",
    "search_area = gpd.read_file('../0_search_areas/4_search_area/search_area_100m_' + n + '.shp')\n",
    "search_area = search_area.to_crs({'init': crs})\n",
    "\n",
    "d2 = sjoin(d2, search_area, how='inner', op='within')\n",
    "print(len(d2), 'detections within search area')\n",
    "\n",
    "#select predictions by diameter\n",
    "d = 55\n",
    "d2 = d2[d2['diameter'] <= d]\n",
    "geometry = [Point(i) for i in zip(d2['x'], d2['y'])]\n",
    "\n",
    "d2 = d2[['radius', 'geometry']]\n",
    "print(len(d2), 'total detections less than or equal to', d, 'meters')\n",
    "d2.head()"
   ]
  },
  {
   "cell_type": "code",
   "execution_count": 6,
   "metadata": {
    "scrolled": true
   },
   "outputs": [
    {
     "name": "stdout",
     "output_type": "stream",
     "text": [
      "747 predictions aggregated to 578 predictions\n"
     ]
    }
   ],
   "source": [
    "#aggregate predictions \n",
    "buffer = gpd.GeoDataFrame(geometry = d2.buffer(10)) #buffer by 10 meters\n",
    "buffer['Dissolve'] = 0\n",
    "buffer_dis = buffer.dissolve(by='Dissolve')\n",
    "buffer_exploded = explode(buffer_dis)    \n",
    "print(len(d2), 'predictions aggregated to', len(buffer_exploded), 'predictions')"
   ]
  },
  {
   "cell_type": "code",
   "execution_count": 7,
   "metadata": {},
   "outputs": [
    {
     "name": "stdout",
     "output_type": "stream",
     "text": [
      "578 predictions\n"
     ]
    },
    {
     "name": "stderr",
     "output_type": "stream",
     "text": [
      "C:\\Users\\Zack\\Anaconda3\\envs\\thesis\\lib\\site-packages\\geopandas\\tools\\sjoin.py:44: UserWarning: CRS of frames being joined does not match!\n",
      "  warn('CRS of frames being joined does not match!')\n"
     ]
    },
    {
     "data": {
      "text/html": [
       "<div>\n",
       "<style scoped>\n",
       "    .dataframe tbody tr th:only-of-type {\n",
       "        vertical-align: middle;\n",
       "    }\n",
       "\n",
       "    .dataframe tbody tr th {\n",
       "        vertical-align: top;\n",
       "    }\n",
       "\n",
       "    .dataframe thead th {\n",
       "        text-align: right;\n",
       "    }\n",
       "</style>\n",
       "<table border=\"1\" class=\"dataframe\">\n",
       "  <thead>\n",
       "    <tr style=\"text-align: right;\">\n",
       "      <th></th>\n",
       "      <th>geometry</th>\n",
       "      <th>radius</th>\n",
       "    </tr>\n",
       "  </thead>\n",
       "  <tbody>\n",
       "    <tr>\n",
       "      <td>0</td>\n",
       "      <td>POINT (5632928.572183136 1360759.620057513)</td>\n",
       "      <td>9.76</td>\n",
       "    </tr>\n",
       "    <tr>\n",
       "      <td>1</td>\n",
       "      <td>POINT (5633285.732685138 1360929.556327778)</td>\n",
       "      <td>11.82</td>\n",
       "    </tr>\n",
       "    <tr>\n",
       "      <td>2</td>\n",
       "      <td>POINT (5632622.100615047 1360976.99497373)</td>\n",
       "      <td>14.71</td>\n",
       "    </tr>\n",
       "    <tr>\n",
       "      <td>3</td>\n",
       "      <td>POINT (5633515.357298902 1361000.195329845)</td>\n",
       "      <td>10.59</td>\n",
       "    </tr>\n",
       "    <tr>\n",
       "      <td>4</td>\n",
       "      <td>POINT (5633298.782504353 1361102.734917474)</td>\n",
       "      <td>11.28</td>\n",
       "    </tr>\n",
       "  </tbody>\n",
       "</table>\n",
       "</div>"
      ],
      "text/plain": [
       "                                      geometry  radius\n",
       "0  POINT (5632928.572183136 1360759.620057513)    9.76\n",
       "1  POINT (5633285.732685138 1360929.556327778)   11.82\n",
       "2   POINT (5632622.100615047 1360976.99497373)   14.71\n",
       "3  POINT (5633515.357298902 1361000.195329845)   10.59\n",
       "4  POINT (5633298.782504353 1361102.734917474)   11.28"
      ]
     },
     "execution_count": 7,
     "metadata": {},
     "output_type": "execute_result"
    }
   ],
   "source": [
    "#calculate mean radius of aggregated predictions\n",
    "d2_ag = gpd.sjoin(d2, buffer_exploded, how=\"inner\", op='intersects')\n",
    "centroids = gpd.GeoDataFrame(geometry = buffer_exploded.centroid, crs=wgs84)\n",
    "centroids['radius']=d2_ag.groupby('index_right')['radius'].mean()\n",
    "centroids.crs={'init' : crs}\n",
    "print(len(centroids), 'predictions')\n",
    "centroids.head()"
   ]
  },
  {
   "cell_type": "code",
   "execution_count": 8,
   "metadata": {},
   "outputs": [
    {
     "name": "stdout",
     "output_type": "stream",
     "text": [
      "71 total farmsite predictions\n"
     ]
    },
    {
     "data": {
      "text/html": [
       "<div>\n",
       "<style scoped>\n",
       "    .dataframe tbody tr th:only-of-type {\n",
       "        vertical-align: middle;\n",
       "    }\n",
       "\n",
       "    .dataframe tbody tr th {\n",
       "        vertical-align: top;\n",
       "    }\n",
       "\n",
       "    .dataframe thead th {\n",
       "        text-align: right;\n",
       "    }\n",
       "</style>\n",
       "<table border=\"1\" class=\"dataframe\">\n",
       "  <thead>\n",
       "    <tr style=\"text-align: right;\">\n",
       "      <th></th>\n",
       "      <th>geometry</th>\n",
       "    </tr>\n",
       "  </thead>\n",
       "  <tbody>\n",
       "    <tr>\n",
       "      <td>0</td>\n",
       "      <td>POLYGON ((5633028.572183136 1360759.620057513,...</td>\n",
       "    </tr>\n",
       "    <tr>\n",
       "      <td>1</td>\n",
       "      <td>POLYGON ((5633615.357298902 1361000.195329845,...</td>\n",
       "    </tr>\n",
       "    <tr>\n",
       "      <td>2</td>\n",
       "      <td>POLYGON ((5632608.289301731 1361582.950179907,...</td>\n",
       "    </tr>\n",
       "    <tr>\n",
       "      <td>3</td>\n",
       "      <td>POLYGON ((5632722.100615047 1360976.99497373, ...</td>\n",
       "    </tr>\n",
       "    <tr>\n",
       "      <td>4</td>\n",
       "      <td>POLYGON ((5633385.732685138 1360929.556327778,...</td>\n",
       "    </tr>\n",
       "  </tbody>\n",
       "</table>\n",
       "</div>"
      ],
      "text/plain": [
       "                                            geometry\n",
       "0  POLYGON ((5633028.572183136 1360759.620057513,...\n",
       "1  POLYGON ((5633615.357298902 1361000.195329845,...\n",
       "2  POLYGON ((5632608.289301731 1361582.950179907,...\n",
       "3  POLYGON ((5632722.100615047 1360976.99497373, ...\n",
       "4  POLYGON ((5633385.732685138 1360929.556327778,..."
      ]
     },
     "execution_count": 8,
     "metadata": {},
     "output_type": "execute_result"
    }
   ],
   "source": [
    "#generate farmsite polygons\n",
    "buffer = gpd.GeoDataFrame(geometry = centroids.buffer(100))\n",
    "buffer['Dissolve'] = 0\n",
    "buffer_dis = buffer.dissolve(by='Dissolve')\n",
    "buffer_exploded = explode(buffer_dis)    \n",
    "buffer_exploded.crs={'init' : crs}\n",
    "print(len(buffer_exploded), 'total farmsite predictions')\n",
    "buffer_exploded.head()"
   ]
  },
  {
   "cell_type": "code",
   "execution_count": 9,
   "metadata": {},
   "outputs": [
    {
     "data": {
      "text/html": [
       "<div>\n",
       "<style scoped>\n",
       "    .dataframe tbody tr th:only-of-type {\n",
       "        vertical-align: middle;\n",
       "    }\n",
       "\n",
       "    .dataframe tbody tr th {\n",
       "        vertical-align: top;\n",
       "    }\n",
       "\n",
       "    .dataframe thead th {\n",
       "        text-align: right;\n",
       "    }\n",
       "</style>\n",
       "<table border=\"1\" class=\"dataframe\">\n",
       "  <thead>\n",
       "    <tr style=\"text-align: right;\">\n",
       "      <th></th>\n",
       "      <th>geometry</th>\n",
       "      <th>count</th>\n",
       "      <th>farm_id</th>\n",
       "    </tr>\n",
       "  </thead>\n",
       "  <tbody>\n",
       "    <tr>\n",
       "      <td>0</td>\n",
       "      <td>POLYGON ((5633028.572183136 1360759.620057513,...</td>\n",
       "      <td>1</td>\n",
       "      <td>1</td>\n",
       "    </tr>\n",
       "    <tr>\n",
       "      <td>1</td>\n",
       "      <td>POLYGON ((5633615.357298902 1361000.195329845,...</td>\n",
       "      <td>1</td>\n",
       "      <td>2</td>\n",
       "    </tr>\n",
       "    <tr>\n",
       "      <td>2</td>\n",
       "      <td>POLYGON ((5632608.289301731 1361582.950179907,...</td>\n",
       "      <td>1</td>\n",
       "      <td>3</td>\n",
       "    </tr>\n",
       "    <tr>\n",
       "      <td>3</td>\n",
       "      <td>POLYGON ((5632722.100615047 1360976.99497373, ...</td>\n",
       "      <td>1</td>\n",
       "      <td>4</td>\n",
       "    </tr>\n",
       "    <tr>\n",
       "      <td>4</td>\n",
       "      <td>POLYGON ((5633385.732685138 1360929.556327778,...</td>\n",
       "      <td>2</td>\n",
       "      <td>5</td>\n",
       "    </tr>\n",
       "  </tbody>\n",
       "</table>\n",
       "</div>"
      ],
      "text/plain": [
       "                                            geometry  count  farm_id\n",
       "0  POLYGON ((5633028.572183136 1360759.620057513,...      1        1\n",
       "1  POLYGON ((5633615.357298902 1361000.195329845,...      1        2\n",
       "2  POLYGON ((5632608.289301731 1361582.950179907,...      1        3\n",
       "3  POLYGON ((5632722.100615047 1360976.99497373, ...      1        4\n",
       "4  POLYGON ((5633385.732685138 1360929.556327778,...      2        5"
      ]
     },
     "execution_count": 9,
     "metadata": {},
     "output_type": "execute_result"
    }
   ],
   "source": [
    "#add number of predictions per farmsite to farmsite polygons\n",
    "count=sjoin(centroids, buffer_exploded, how='inner', op='within')\n",
    "buffer_exploded['count']=count.groupby('index_right')['index_right'].count()\n",
    "buffer_exploded[\"farm_id\"] = buffer_exploded.index + 1 #add farm ID\n",
    "buffer_exploded.head()"
   ]
  },
  {
   "cell_type": "code",
   "execution_count": 10,
   "metadata": {},
   "outputs": [
    {
     "name": "stdout",
     "output_type": "stream",
     "text": [
      "28 farmsite predictions\n"
     ]
    },
    {
     "data": {
      "text/html": [
       "<div>\n",
       "<style scoped>\n",
       "    .dataframe tbody tr th:only-of-type {\n",
       "        vertical-align: middle;\n",
       "    }\n",
       "\n",
       "    .dataframe tbody tr th {\n",
       "        vertical-align: top;\n",
       "    }\n",
       "\n",
       "    .dataframe thead th {\n",
       "        text-align: right;\n",
       "    }\n",
       "</style>\n",
       "<table border=\"1\" class=\"dataframe\">\n",
       "  <thead>\n",
       "    <tr style=\"text-align: right;\">\n",
       "      <th></th>\n",
       "      <th>geometry</th>\n",
       "      <th>count</th>\n",
       "      <th>farm_id</th>\n",
       "    </tr>\n",
       "  </thead>\n",
       "  <tbody>\n",
       "    <tr>\n",
       "      <td>10</td>\n",
       "      <td>POLYGON ((5523283.180634848 1376042.377391067,...</td>\n",
       "      <td>14</td>\n",
       "      <td>11</td>\n",
       "    </tr>\n",
       "    <tr>\n",
       "      <td>12</td>\n",
       "      <td>POLYGON ((5525980.215437775 1376741.715344281,...</td>\n",
       "      <td>13</td>\n",
       "      <td>13</td>\n",
       "    </tr>\n",
       "    <tr>\n",
       "      <td>13</td>\n",
       "      <td>POLYGON ((5526682.004828032 1377099.797643933,...</td>\n",
       "      <td>54</td>\n",
       "      <td>14</td>\n",
       "    </tr>\n",
       "    <tr>\n",
       "      <td>14</td>\n",
       "      <td>POLYGON ((5524370.967301128 1377234.506132744,...</td>\n",
       "      <td>16</td>\n",
       "      <td>15</td>\n",
       "    </tr>\n",
       "    <tr>\n",
       "      <td>15</td>\n",
       "      <td>POLYGON ((5522122.704064455 1383085.309675127,...</td>\n",
       "      <td>16</td>\n",
       "      <td>16</td>\n",
       "    </tr>\n",
       "  </tbody>\n",
       "</table>\n",
       "</div>"
      ],
      "text/plain": [
       "                                             geometry  count  farm_id\n",
       "10  POLYGON ((5523283.180634848 1376042.377391067,...     14       11\n",
       "12  POLYGON ((5525980.215437775 1376741.715344281,...     13       13\n",
       "13  POLYGON ((5526682.004828032 1377099.797643933,...     54       14\n",
       "14  POLYGON ((5524370.967301128 1377234.506132744,...     16       15\n",
       "15  POLYGON ((5522122.704064455 1383085.309675127,...     16       16"
      ]
     },
     "execution_count": 10,
     "metadata": {},
     "output_type": "execute_result"
    }
   ],
   "source": [
    "#select farmsites by number of predictions\n",
    "p = 4 #number of predictions per farmsite\n",
    "farmsites = buffer_exploded[buffer_exploded['count'] >= p]\n",
    "print(len(farmsites), 'farmsite predictions')\n",
    "farmsites.head()"
   ]
  },
  {
   "cell_type": "code",
   "execution_count": 11,
   "metadata": {
    "scrolled": true
   },
   "outputs": [
    {
     "name": "stderr",
     "output_type": "stream",
     "text": [
      "C:\\Users\\Zack\\Anaconda3\\envs\\thesis\\lib\\site-packages\\ipykernel_launcher.py:3: SettingWithCopyWarning: \n",
      "A value is trying to be set on a copy of a slice from a DataFrame.\n",
      "Try using .loc[row_indexer,col_indexer] = value instead\n",
      "\n",
      "See the caveats in the documentation: http://pandas.pydata.org/pandas-docs/stable/user_guide/indexing.html#returning-a-view-versus-a-copy\n",
      "  This is separate from the ipykernel package so we can avoid doing imports until\n"
     ]
    },
    {
     "name": "stdout",
     "output_type": "stream",
     "text": [
      "detections within farmsites: 517\n",
      "{'init': 'EPSG:5637'}\n"
     ]
    },
    {
     "data": {
      "text/html": [
       "<div>\n",
       "<style scoped>\n",
       "    .dataframe tbody tr th:only-of-type {\n",
       "        vertical-align: middle;\n",
       "    }\n",
       "\n",
       "    .dataframe tbody tr th {\n",
       "        vertical-align: top;\n",
       "    }\n",
       "\n",
       "    .dataframe thead th {\n",
       "        text-align: right;\n",
       "    }\n",
       "</style>\n",
       "<table border=\"1\" class=\"dataframe\">\n",
       "  <thead>\n",
       "    <tr style=\"text-align: right;\">\n",
       "      <th></th>\n",
       "      <th>geometry</th>\n",
       "      <th>radius</th>\n",
       "    </tr>\n",
       "  </thead>\n",
       "  <tbody>\n",
       "    <tr>\n",
       "      <td>13</td>\n",
       "      <td>POINT (5523183.763353428 1376052.861281072)</td>\n",
       "      <td>15.26</td>\n",
       "    </tr>\n",
       "    <tr>\n",
       "      <td>14</td>\n",
       "      <td>POINT (5523243.178421595 1376133.945284874)</td>\n",
       "      <td>23.92</td>\n",
       "    </tr>\n",
       "    <tr>\n",
       "      <td>15</td>\n",
       "      <td>POINT (5523317.995010924 1376161.156789217)</td>\n",
       "      <td>24.61</td>\n",
       "    </tr>\n",
       "    <tr>\n",
       "      <td>16</td>\n",
       "      <td>POINT (5523383.45176361 1376167.727291977)</td>\n",
       "      <td>15.81</td>\n",
       "    </tr>\n",
       "    <tr>\n",
       "      <td>17</td>\n",
       "      <td>POINT (5523136.711474793 1376203.873923302)</td>\n",
       "      <td>14.30</td>\n",
       "    </tr>\n",
       "  </tbody>\n",
       "</table>\n",
       "</div>"
      ],
      "text/plain": [
       "                                       geometry  radius\n",
       "13  POINT (5523183.763353428 1376052.861281072)   15.26\n",
       "14  POINT (5523243.178421595 1376133.945284874)   23.92\n",
       "15  POINT (5523317.995010924 1376161.156789217)   24.61\n",
       "16   POINT (5523383.45176361 1376167.727291977)   15.81\n",
       "17  POINT (5523136.711474793 1376203.873923302)   14.30"
      ]
     },
     "execution_count": 11,
     "metadata": {},
     "output_type": "execute_result"
    }
   ],
   "source": [
    "#select predictions by farmsites\n",
    "select = farmsites\n",
    "select['predictions'] = 0\n",
    "select = select.dissolve(by='predictions')\n",
    "mask = centroids.within(select.loc[0, 'geometry'])\n",
    "farmsites=farmsites.drop(['predictions'], axis=1)\n",
    "d2_clip = centroids.loc[mask]\n",
    "\n",
    "print('detections within farmsites:', len(d2_clip))\n",
    "print(d2_clip.crs)\n",
    "d2_clip.head()"
   ]
  },
  {
   "cell_type": "code",
   "execution_count": 12,
   "metadata": {
    "scrolled": true
   },
   "outputs": [
    {
     "name": "stdout",
     "output_type": "stream",
     "text": [
      "detections: 517\n"
     ]
    },
    {
     "data": {
      "text/html": [
       "<div>\n",
       "<style scoped>\n",
       "    .dataframe tbody tr th:only-of-type {\n",
       "        vertical-align: middle;\n",
       "    }\n",
       "\n",
       "    .dataframe tbody tr th {\n",
       "        vertical-align: top;\n",
       "    }\n",
       "\n",
       "    .dataframe thead th {\n",
       "        text-align: right;\n",
       "    }\n",
       "</style>\n",
       "<table border=\"1\" class=\"dataframe\">\n",
       "  <thead>\n",
       "    <tr style=\"text-align: right;\">\n",
       "      <th></th>\n",
       "      <th>id</th>\n",
       "      <th>farm_id</th>\n",
       "      <th>radius</th>\n",
       "      <th>diameter</th>\n",
       "      <th>geometry</th>\n",
       "    </tr>\n",
       "  </thead>\n",
       "  <tbody>\n",
       "    <tr>\n",
       "      <td>0</td>\n",
       "      <td>1</td>\n",
       "      <td>11</td>\n",
       "      <td>15.26</td>\n",
       "      <td>30.52</td>\n",
       "      <td>POINT (5523183.763353428 1376052.861281072)</td>\n",
       "    </tr>\n",
       "    <tr>\n",
       "      <td>1</td>\n",
       "      <td>2</td>\n",
       "      <td>11</td>\n",
       "      <td>15.40</td>\n",
       "      <td>30.80</td>\n",
       "      <td>POINT (5523405.227580462 1376103.533826342)</td>\n",
       "    </tr>\n",
       "    <tr>\n",
       "      <td>2</td>\n",
       "      <td>3</td>\n",
       "      <td>11</td>\n",
       "      <td>23.79</td>\n",
       "      <td>47.58</td>\n",
       "      <td>POINT (5523166.902500412 1376115.819090015)</td>\n",
       "    </tr>\n",
       "    <tr>\n",
       "      <td>3</td>\n",
       "      <td>4</td>\n",
       "      <td>11</td>\n",
       "      <td>23.92</td>\n",
       "      <td>47.84</td>\n",
       "      <td>POINT (5523243.178421595 1376133.945284874)</td>\n",
       "    </tr>\n",
       "    <tr>\n",
       "      <td>4</td>\n",
       "      <td>5</td>\n",
       "      <td>11</td>\n",
       "      <td>24.61</td>\n",
       "      <td>49.22</td>\n",
       "      <td>POINT (5523317.995010924 1376161.156789217)</td>\n",
       "    </tr>\n",
       "  </tbody>\n",
       "</table>\n",
       "</div>"
      ],
      "text/plain": [
       "   id  farm_id  radius  diameter                                     geometry\n",
       "0   1       11   15.26     30.52  POINT (5523183.763353428 1376052.861281072)\n",
       "1   2       11   15.40     30.80  POINT (5523405.227580462 1376103.533826342)\n",
       "2   3       11   23.79     47.58  POINT (5523166.902500412 1376115.819090015)\n",
       "3   4       11   23.92     47.84  POINT (5523243.178421595 1376133.945284874)\n",
       "4   5       11   24.61     49.22  POINT (5523317.995010924 1376161.156789217)"
      ]
     },
     "execution_count": 12,
     "metadata": {},
     "output_type": "execute_result"
    }
   ],
   "source": [
    "#add id and farm_id to predictions\n",
    "d2_clip_id = sjoin(farmsites, d2_clip, how='right', op='intersects')\n",
    "d2_clip_id=d2_clip_id.reset_index(drop=True)\n",
    "d2_clip_id[\"id\"] = d2_clip_id.index + 1 \n",
    "d2_clip_id['diameter']=d2_clip_id['radius']*2\n",
    "d2_clip=d2_clip_id[['id', 'farm_id', 'radius', 'diameter', 'geometry']]\n",
    "print('detections:', len(d2_clip_id))\n",
    "d2_clip.head()"
   ]
  },
  {
   "cell_type": "code",
   "execution_count": 13,
   "metadata": {},
   "outputs": [
    {
     "data": {
      "text/html": [
       "<div>\n",
       "<style scoped>\n",
       "    .dataframe tbody tr th:only-of-type {\n",
       "        vertical-align: middle;\n",
       "    }\n",
       "\n",
       "    .dataframe tbody tr th {\n",
       "        vertical-align: top;\n",
       "    }\n",
       "\n",
       "    .dataframe thead th {\n",
       "        text-align: right;\n",
       "    }\n",
       "</style>\n",
       "<table border=\"1\" class=\"dataframe\">\n",
       "  <thead>\n",
       "    <tr style=\"text-align: right;\">\n",
       "      <th></th>\n",
       "      <th>geometry</th>\n",
       "      <th>count</th>\n",
       "      <th>farm_id</th>\n",
       "    </tr>\n",
       "  </thead>\n",
       "  <tbody>\n",
       "    <tr>\n",
       "      <td>10</td>\n",
       "      <td>POLYGON ((5523020.686152731 1375952.861281072,...</td>\n",
       "      <td>14</td>\n",
       "      <td>11</td>\n",
       "    </tr>\n",
       "    <tr>\n",
       "      <td>12</td>\n",
       "      <td>POLYGON ((5525562.968978476 1376641.715344281,...</td>\n",
       "      <td>13</td>\n",
       "      <td>13</td>\n",
       "    </tr>\n",
       "    <tr>\n",
       "      <td>13</td>\n",
       "      <td>POLYGON ((5526493.657163262 1377089.423558781,...</td>\n",
       "      <td>54</td>\n",
       "      <td>14</td>\n",
       "    </tr>\n",
       "    <tr>\n",
       "      <td>14</td>\n",
       "      <td>POLYGON ((5524118.489115395 1377141.087194863,...</td>\n",
       "      <td>16</td>\n",
       "      <td>15</td>\n",
       "    </tr>\n",
       "    <tr>\n",
       "      <td>15</td>\n",
       "      <td>POLYGON ((5521977.628545871 1383074.593261963,...</td>\n",
       "      <td>16</td>\n",
       "      <td>16</td>\n",
       "    </tr>\n",
       "  </tbody>\n",
       "</table>\n",
       "</div>"
      ],
      "text/plain": [
       "                                             geometry  count  farm_id\n",
       "10  POLYGON ((5523020.686152731 1375952.861281072,...     14       11\n",
       "12  POLYGON ((5525562.968978476 1376641.715344281,...     13       13\n",
       "13  POLYGON ((5526493.657163262 1377089.423558781,...     54       14\n",
       "14  POLYGON ((5524118.489115395 1377141.087194863,...     16       15\n",
       "15  POLYGON ((5521977.628545871 1383074.593261963,...     16       16"
      ]
     },
     "execution_count": 13,
     "metadata": {},
     "output_type": "execute_result"
    }
   ],
   "source": [
    "#generate farmsite extents\n",
    "envelope = gpd.GeoDataFrame(geometry = farmsites.envelope)\n",
    "farmsites2=farmsites.copy()\n",
    "farmsites2['geometry'] = envelope['geometry']\n",
    "farmsites2.head()"
   ]
  },
  {
   "cell_type": "code",
   "execution_count": 14,
   "metadata": {},
   "outputs": [
    {
     "data": {
      "text/plain": [
       "{'init': 'EPSG:5637'}"
      ]
     },
     "execution_count": 14,
     "metadata": {},
     "output_type": "execute_result"
    }
   ],
   "source": [
    "d2 = d2.to_crs({'init': crs})\n",
    "d2.crs"
   ]
  },
  {
   "cell_type": "code",
   "execution_count": 15,
   "metadata": {},
   "outputs": [
    {
     "data": {
      "text/plain": [
       "{'init': 'EPSG:5637'}"
      ]
     },
     "execution_count": 15,
     "metadata": {},
     "output_type": "execute_result"
    }
   ],
   "source": [
    "#generate net pen buffers\n",
    "def buffer(row):\n",
    "     return row.geometry.buffer(row.radius)   \n",
    "    \n",
    "d2_clip2 = d2_clip.copy()\n",
    "d2_clip2.crs"
   ]
  },
  {
   "cell_type": "code",
   "execution_count": 16,
   "metadata": {},
   "outputs": [],
   "source": [
    "buff = d2_clip2['geometry'] = d2_clip2.apply(buffer, axis=1)\n",
    "circles = gpd.GeoDataFrame(d2_clip2, geometry = buff, crs={'init': crs})\n",
    "\n",
    "\n",
    "\n",
    " \n",
    "# d2_centroids = d2_centroids.to_crs({'init': 'EPSG:2100'})\n",
    "# buffer = d2_centroids['geometry'] = d2_centroids.apply(buffer, axis=1)\n",
    "\n",
    "# d2_circles = gpd.GeoDataFrame(d2_centroids, geometry = buffer, crs={'init': 'EPSG:2100'})\n",
    "\n",
    "\n",
    "# #export polygons\n",
    "# d2_circles.to_file('../targets_2_simrdwn/detections_simrdwn.geojson', driver='GeoJSON')\n",
    "# d2_circles.to_file('../targets_2_simrdwn/detections_simrdwn.shp')\n",
    "\n",
    "#export buffered centroids\n",
    "circles.to_file(f + n + '_simrdwn_pens.shp')\n",
    "\n",
    "#export buffered centroids\n",
    "circles['geometry'] = circles['geometry'].to_crs(epsg=4326)\n",
    "circles.to_file(f + n + '_simrdwn_pens.geojson', driver='GeoJSON')"
   ]
  },
  {
   "cell_type": "code",
   "execution_count": 17,
   "metadata": {},
   "outputs": [
    {
     "name": "stderr",
     "output_type": "stream",
     "text": [
      "C:\\Users\\Zack\\Anaconda3\\envs\\thesis\\lib\\site-packages\\ipykernel_launcher.py:18: SettingWithCopyWarning: \n",
      "A value is trying to be set on a copy of a slice from a DataFrame.\n",
      "Try using .loc[row_indexer,col_indexer] = value instead\n",
      "\n",
      "See the caveats in the documentation: http://pandas.pydata.org/pandas-docs/stable/user_guide/indexing.html#returning-a-view-versus-a-copy\n"
     ]
    }
   ],
   "source": [
    "#export centroids\n",
    "d2.to_file(f + n + '_simrdwn.shp')\n",
    "\n",
    "#export centroids within farmsites\n",
    "d2_clip.to_file(f + n + '_simrdwn_pts.shp')\n",
    "\n",
    "#export farmsites\n",
    "farmsites.to_file(f + n + '_simrdwn_farmsites.shp')\n",
    "\n",
    "#export farmsites extents\n",
    "farmsites2.to_file(f + n + '_simrdwn_farmsites_ext.shp')\n",
    "\n",
    "#export centroids\n",
    "d2['geometry'] = d2['geometry'].to_crs(epsg=4326)\n",
    "d2.to_file(f + n + '_simrdwn.geojson', driver='GeoJSON')\n",
    "\n",
    "#export centroids\n",
    "d2_clip['geometry'] = d2_clip['geometry'].to_crs(epsg=4326)\n",
    "d2_clip.to_file(f + n + '_simrdwn_pts.geojson', driver='GeoJSON')\n",
    "\n",
    "#export farmsites\n",
    "farmsites['geometry'] = farmsites['geometry'].to_crs(epsg=4326)\n",
    "farmsites.to_file(f + n + '_simrdwn_farmsites.geojson', driver='GeoJSON')\n",
    "\n",
    "#export farmsites extents\n",
    "farmsites2['geometry'] = farmsites2['geometry'].to_crs(epsg=4326)\n",
    "farmsites2.to_file(f + n + '_simrdwn_farmsites_ext.geojson', driver='GeoJSON')"
   ]
  }
 ],
 "metadata": {
  "kernelspec": {
   "display_name": "Python 3",
   "language": "python",
   "name": "python3"
  },
  "language_info": {
   "codemirror_mode": {
    "name": "ipython",
    "version": 3
   },
   "file_extension": ".py",
   "mimetype": "text/x-python",
   "name": "python",
   "nbconvert_exporter": "python",
   "pygments_lexer": "ipython3",
   "version": "3.7.4"
  }
 },
 "nbformat": 4,
 "nbformat_minor": 2
}
