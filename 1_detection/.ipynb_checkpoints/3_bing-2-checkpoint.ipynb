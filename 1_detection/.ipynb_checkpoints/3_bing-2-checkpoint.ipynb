{
 "cells": [
  {
   "cell_type": "code",
   "execution_count": 2,
   "metadata": {},
   "outputs": [
    {
     "name": "stdout",
     "output_type": "stream",
     "text": [
      "35\n",
      "7\n",
      "7\n",
      "*Current level 19 results an image exceeding the maximum image size (8192 * 8192), will SKIP\n",
      "Retrieved image: 39.68748 20.0128 39.69649 20.00114\n",
      "*Current level 19 results an image exceeding the maximum image size (8192 * 8192), will SKIP\n",
      "Retrieved image: 39.6823 19.99553 39.69131 19.98386\n",
      "*Current level 19 results an image exceeding the maximum image size (8192 * 8192), will SKIP\n",
      "Retrieved image: 39.682 20.01592 39.69101 20.00426\n",
      "*Current level 19 results an image exceeding the maximum image size (8192 * 8192), will SKIP\n",
      "Retrieved image: 40.0552 19.79883 40.06419 19.78708\n",
      "*Current level 19 results an image exceeding the maximum image size (8192 * 8192), will SKIP\n",
      "Retrieved image: 39.78452 20.00564 39.79353 19.99396\n",
      "*Current level 19 results an image exceeding the maximum image size (8192 * 8192), will SKIP\n",
      "Retrieved image: 40.34633 19.41602 40.35528 19.40417\n",
      "*Current level 19 results an image exceeding the maximum image size (8192 * 8192), will SKIP\n",
      "Retrieved image: 40.34203 19.41465 40.35098 19.4028\n"
     ]
    }
   ],
   "source": [
    "#requests bing imagery for positively identified farm sites\n",
    "\n",
    "import pandas as pd\n",
    "import geopandas as gpd\n",
    "from shapely.geometry import mapping\n",
    "from aerialImageRetrieval_2 import AerialImageRetrieval\n",
    "\n",
    "#select country\n",
    "n = 'ALB'\n",
    "\n",
    "#load csv containing coordinates of polygon corners\n",
    "f = '../targets_2_simrdwn/'\n",
    "file = f + n + '/' + n + '.csv'\n",
    "targets = pd.read_csv(file, delimiter=',', header=0)\n",
    "print(len(targets))\n",
    "\n",
    "tl = targets.drop(targets.index[0])\n",
    "tl = tl.iloc[::5]\n",
    "print(len(tl))\n",
    "\n",
    "br = targets.drop(targets.index[0:3])\n",
    "br = br.iloc[::5] \n",
    "print(len(br))\n",
    "\n",
    "# create lists\n",
    "lat1_list=tl['y'].tolist()\n",
    "lon1_list=tl['x'].tolist()\n",
    "lat2_list=br['y'].tolist()\n",
    "lon2_list=br['x'].tolist()\n",
    "\n",
    "file = f + n + '/' + n + '_index.csv'\n",
    "index = pd.read_csv(file, delimiter=',', header=None)\n",
    "\n",
    "for i in range(0, len(tl)): #do 1000 at a time\n",
    "    lat1=round(lat1_list[i],5)\n",
    "    lon1=round(lon1_list[i],5)\n",
    "    lat2=round(lat2_list[i],5)\n",
    "    lon2=round(lon2_list[i],5)\n",
    "    ID=index[0][i]\n",
    "    \n",
    "    imgretrieval = AerialImageRetrieval(n, ID, lat1, lon1, lat2, lon2)\n",
    "    if imgretrieval.max_resolution_imagery_retrieval():\n",
    "        print(\"Retrieved image:\", lat1, lon1, lat2, lon2)\n",
    "    else:\n",
    "        print(\"Cannot retrieve image:\", lat1, lon1, lat2, lon2)"
   ]
  }
 ],
 "metadata": {
  "kernelspec": {
   "display_name": "Python 3",
   "language": "python",
   "name": "python3"
  },
  "language_info": {
   "codemirror_mode": {
    "name": "ipython",
    "version": 3
   },
   "file_extension": ".py",
   "mimetype": "text/x-python",
   "name": "python",
   "nbconvert_exporter": "python",
   "pygments_lexer": "ipython3",
   "version": "3.7.4"
  }
 },
 "nbformat": 4,
 "nbformat_minor": 2
}
