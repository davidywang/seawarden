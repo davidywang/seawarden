{
 "cells": [
  {
   "cell_type": "code",
   "execution_count": 1,
   "metadata": {},
   "outputs": [],
   "source": [
    "import os\n",
    "import pandas as pd\n",
    "import geopandas as gpd\n",
    "from shapely.geometry import Point\n",
    "from geopandas.tools import sjoin\n",
    "import matplotlib.pyplot as plt"
   ]
  },
  {
   "cell_type": "code",
   "execution_count": 2,
   "metadata": {},
   "outputs": [
    {
     "name": "stdout",
     "output_type": "stream",
     "text": [
      "3079 total SAR predictions\n"
     ]
    }
   ],
   "source": [
    "#SET COUNTRY <----------------------------------------------------------------------------------CHANGE\n",
    "#n = 'TUR' \n",
    "#n = 'GRC'\n",
    "# n = 'ESP'\n",
    "# nn = n + '_v2'\n",
    "#n = 'HRV' \n",
    "n = 'ITA' \n",
    "nn = n\n",
    "#n = 'CYP' \n",
    "#n = 'MLT' \n",
    "#n = 'FRA' \n",
    "#n = 'ALB' \n",
    "\n",
    "#SET CRS #<-------------------------------------------------------------------------------------CHANGE\n",
    "#crs = 'EPSG:5637' #turkey\n",
    "#crs = 'EPSG:2100' #greece\n",
    "crs = 'EPSG:2062' #spain\n",
    "#crs = 'EPSG:3765' #croatia\n",
    "#crs = 'EPSG:7794' #italy\n",
    "#crs = 'EPSG:6312' #cyprus\n",
    "#crs = 'EPSG:3034' #malta\n",
    "#crs = 'EPSG:2154' #france\n",
    "#crs = 'EPSG:6962' #albania\n",
    "wgs84= {'init' :'EPSG:4326'}\n",
    "\n",
    "#load SAR predictions\n",
    "#pts = gpd.read_file('../targets_0_sar/' + n + '/sar_' + nn + '.geojson')\n",
    "\n",
    "pts1 = gpd.read_file('../targets_0_sar/' + n + '/sar_' + nn + '_e_v2.geojson')\n",
    "pts2 = gpd.read_file('../targets_0_sar/' + n + '/sar_' + nn + '_w_v2.geojson')\n",
    "pts = pd.concat([pts1, pts2])\n",
    "\n",
    "pts = pts.to_crs({'init': crs})\n",
    "\n",
    "print(len(pts), 'total SAR predictions')"
   ]
  },
  {
   "cell_type": "code",
   "execution_count": 3,
   "metadata": {},
   "outputs": [
    {
     "name": "stdout",
     "output_type": "stream",
     "text": [
      "1289 acquisitions ( 0.42 percent )\n"
     ]
    }
   ],
   "source": [
    "#load folder of missing images\n",
    "#f = 'ESP_2020_05_31'\n",
    "#f = 'ITA_2020_06_01'\n",
    "f = 'ITA'\n",
    "folder = '/Users/Zack/0_thesis_bing/imagery_' + f + '/'\n",
    "\n",
    "files = os.listdir(folder)\n",
    "print(len(files), 'acquisitions (', round(len(files)/len(pts),2), 'percent )')\n",
    "\n",
    "#extract coordinates\n",
    "x_list, y_list = [], []\n",
    "for i in range(len(files)):\n",
    "    #extract bottom right coordinate from image name\n",
    "    img = files[i]\n",
    "    y1 = float(img.split(',')[1])\n",
    "    x1 = float(img.split(',')[2])\n",
    "    y2 = float(img.split(',')[3])\n",
    "    x2 = float((img.split(',')[4]).split(')')[0])\n",
    "    #calculate centroid\n",
    "    x = (x1+x2)/2\n",
    "    y = (y1+y2)/2\n",
    "    x_list.append(x)\n",
    "    y_list.append(y)"
   ]
  },
  {
   "cell_type": "code",
   "execution_count": 4,
   "metadata": {
    "scrolled": false
   },
   "outputs": [
    {
     "name": "stdout",
     "output_type": "stream",
     "text": [
      "{'init': 'EPSG:2062'}\n",
      "{'init': 'EPSG:2062'}\n",
      "1289\n"
     ]
    },
    {
     "data": {
      "text/html": [
       "<div>\n",
       "<style scoped>\n",
       "    .dataframe tbody tr th:only-of-type {\n",
       "        vertical-align: middle;\n",
       "    }\n",
       "\n",
       "    .dataframe tbody tr th {\n",
       "        vertical-align: top;\n",
       "    }\n",
       "\n",
       "    .dataframe thead th {\n",
       "        text-align: right;\n",
       "    }\n",
       "</style>\n",
       "<table border=\"1\" class=\"dataframe\">\n",
       "  <thead>\n",
       "    <tr style=\"text-align: right;\">\n",
       "      <th></th>\n",
       "      <th>geometry</th>\n",
       "    </tr>\n",
       "  </thead>\n",
       "  <tbody>\n",
       "    <tr>\n",
       "      <td>0</td>\n",
       "      <td>POLYGON ((2287234.201217892 372361.9370465766,...</td>\n",
       "    </tr>\n",
       "    <tr>\n",
       "      <td>1</td>\n",
       "      <td>POLYGON ((2247470.944054832 370409.0313974319,...</td>\n",
       "    </tr>\n",
       "    <tr>\n",
       "      <td>2</td>\n",
       "      <td>POLYGON ((2119222.847106503 345343.8111869323,...</td>\n",
       "    </tr>\n",
       "    <tr>\n",
       "      <td>3</td>\n",
       "      <td>POLYGON ((2312637.011690021 391503.8300753543,...</td>\n",
       "    </tr>\n",
       "    <tr>\n",
       "      <td>4</td>\n",
       "      <td>POLYGON ((2208109.659943209 371363.6180252855,...</td>\n",
       "    </tr>\n",
       "  </tbody>\n",
       "</table>\n",
       "</div>"
      ],
      "text/plain": [
       "                                            geometry\n",
       "0  POLYGON ((2287234.201217892 372361.9370465766,...\n",
       "1  POLYGON ((2247470.944054832 370409.0313974319,...\n",
       "2  POLYGON ((2119222.847106503 345343.8111869323,...\n",
       "3  POLYGON ((2312637.011690021 391503.8300753543,...\n",
       "4  POLYGON ((2208109.659943209 371363.6180252855,..."
      ]
     },
     "execution_count": 4,
     "metadata": {},
     "output_type": "execute_result"
    }
   ],
   "source": [
    "#centroids of missing locations \n",
    "geometry = [Point(i) for i in zip(x_list, y_list)]\n",
    "missing = gpd.GeoDataFrame(geometry=geometry, crs=wgs84)\n",
    "missing = missing.to_crs({'init': crs})\n",
    "print(missing.crs)\n",
    "#missing.head()\n",
    "\n",
    "mask = gpd.GeoDataFrame(geometry = missing.buffer(10))\n",
    "print(mask.crs)\n",
    "print(len(mask))\n",
    "mask.head()"
   ]
  },
  {
   "cell_type": "code",
   "execution_count": 5,
   "metadata": {},
   "outputs": [
    {
     "name": "stdout",
     "output_type": "stream",
     "text": [
      "1289\n"
     ]
    },
    {
     "data": {
      "text/html": [
       "<div>\n",
       "<style scoped>\n",
       "    .dataframe tbody tr th:only-of-type {\n",
       "        vertical-align: middle;\n",
       "    }\n",
       "\n",
       "    .dataframe tbody tr th {\n",
       "        vertical-align: top;\n",
       "    }\n",
       "\n",
       "    .dataframe thead th {\n",
       "        text-align: right;\n",
       "    }\n",
       "</style>\n",
       "<table border=\"1\" class=\"dataframe\">\n",
       "  <thead>\n",
       "    <tr style=\"text-align: right;\">\n",
       "      <th></th>\n",
       "      <th>geometry</th>\n",
       "    </tr>\n",
       "  </thead>\n",
       "  <tbody>\n",
       "    <tr>\n",
       "      <td>0</td>\n",
       "      <td>POINT (2287224.201217892 372361.9370465766)</td>\n",
       "    </tr>\n",
       "    <tr>\n",
       "      <td>1</td>\n",
       "      <td>POINT (2247460.944054832 370409.0313974319)</td>\n",
       "    </tr>\n",
       "    <tr>\n",
       "      <td>2</td>\n",
       "      <td>POINT (2119212.847106503 345343.8111869323)</td>\n",
       "    </tr>\n",
       "    <tr>\n",
       "      <td>3</td>\n",
       "      <td>POINT (2312627.011690021 391503.8300753543)</td>\n",
       "    </tr>\n",
       "    <tr>\n",
       "      <td>4</td>\n",
       "      <td>POINT (2208099.659943209 371363.6180252855)</td>\n",
       "    </tr>\n",
       "  </tbody>\n",
       "</table>\n",
       "</div>"
      ],
      "text/plain": [
       "                                      geometry\n",
       "0  POINT (2287224.201217892 372361.9370465766)\n",
       "1  POINT (2247460.944054832 370409.0313974319)\n",
       "2  POINT (2119212.847106503 345343.8111869323)\n",
       "3  POINT (2312627.011690021 391503.8300753543)\n",
       "4  POINT (2208099.659943209 371363.6180252855)"
      ]
     },
     "execution_count": 5,
     "metadata": {},
     "output_type": "execute_result"
    }
   ],
   "source": [
    "clip = sjoin(pts, mask, how='inner', op='within')\n",
    "clip=gpd.GeoDataFrame(geometry=geometry, crs=wgs84)\n",
    "clip=clip.to_crs({'init': crs})\n",
    "print(len(clip))\n",
    "clip.head()"
   ]
  },
  {
   "cell_type": "code",
   "execution_count": 6,
   "metadata": {
    "scrolled": false
   },
   "outputs": [
    {
     "name": "stdout",
     "output_type": "stream",
     "text": [
      "1289\n"
     ]
    },
    {
     "data": {
      "text/html": [
       "<div>\n",
       "<style scoped>\n",
       "    .dataframe tbody tr th:only-of-type {\n",
       "        vertical-align: middle;\n",
       "    }\n",
       "\n",
       "    .dataframe tbody tr th {\n",
       "        vertical-align: top;\n",
       "    }\n",
       "\n",
       "    .dataframe thead th {\n",
       "        text-align: right;\n",
       "    }\n",
       "</style>\n",
       "<table border=\"1\" class=\"dataframe\">\n",
       "  <thead>\n",
       "    <tr style=\"text-align: right;\">\n",
       "      <th></th>\n",
       "      <th>geometry</th>\n",
       "    </tr>\n",
       "  </thead>\n",
       "  <tbody>\n",
       "    <tr>\n",
       "      <td>0</td>\n",
       "      <td>POLYGON ((2286724.201217892 371861.9370465766,...</td>\n",
       "    </tr>\n",
       "    <tr>\n",
       "      <td>1</td>\n",
       "      <td>POLYGON ((2246960.944054832 369909.0313974319,...</td>\n",
       "    </tr>\n",
       "    <tr>\n",
       "      <td>2</td>\n",
       "      <td>POLYGON ((2118712.847106503 344843.8111869323,...</td>\n",
       "    </tr>\n",
       "    <tr>\n",
       "      <td>3</td>\n",
       "      <td>POLYGON ((2312127.011690021 391003.8300753543,...</td>\n",
       "    </tr>\n",
       "    <tr>\n",
       "      <td>4</td>\n",
       "      <td>POLYGON ((2207599.659943209 370863.6180252855,...</td>\n",
       "    </tr>\n",
       "  </tbody>\n",
       "</table>\n",
       "</div>"
      ],
      "text/plain": [
       "                                            geometry\n",
       "0  POLYGON ((2286724.201217892 371861.9370465766,...\n",
       "1  POLYGON ((2246960.944054832 369909.0313974319,...\n",
       "2  POLYGON ((2118712.847106503 344843.8111869323,...\n",
       "3  POLYGON ((2312127.011690021 391003.8300753543,...\n",
       "4  POLYGON ((2207599.659943209 370863.6180252855,..."
      ]
     },
     "execution_count": 6,
     "metadata": {},
     "output_type": "execute_result"
    }
   ],
   "source": [
    "buffer = gpd.GeoDataFrame(geometry = clip.buffer(500))\n",
    "envelope = gpd.GeoDataFrame(geometry = buffer.envelope)\n",
    "print(len(envelope))\n",
    "envelope.head()"
   ]
  },
  {
   "cell_type": "code",
   "execution_count": 7,
   "metadata": {},
   "outputs": [],
   "source": [
    "envelope2 = envelope.copy()\n",
    "envelope2['Dissolve'] = 0\n",
    "envelope2=envelope2.dissolve('Dissolve')\n",
    "\n",
    "envelope2.to_file('../missing_' + n + '_dis.shp')\n",
    "envelope2['geometry'] = envelope2['geometry'].to_crs(epsg=4326)\n",
    "envelope2.to_file('../missing_' + n + '_dis.geojson', driver='GeoJSON')\n",
    "\n",
    "# envelope.to_file('../missing_' + n + '.shp')\n",
    "# envelope['geometry'] = envelope['geometry'].to_crs(epsg=4326)\n",
    "# envelope.to_file('../missing_' + n + '.geojson', driver='GeoJSON')\n",
    "\n",
    "# clip.to_file('../missing_' + n + '_pts.shp')\n",
    "# clip['geometry'] = clip['geometry'].to_crs(epsg=4326)\n",
    "# clip.to_file('../missing_' + n + '_pts.geojson', driver='GeoJSON')"
   ]
  },
  {
   "cell_type": "code",
   "execution_count": 8,
   "metadata": {},
   "outputs": [],
   "source": [
    "#acquired imagery\n",
    "# envelope2 = envelope.copy()\n",
    "# envelope2['Dissolve'] = 0\n",
    "# envelope2=envelope2.dissolve('Dissolve')\n",
    "\n",
    "# envelope2.to_file('../acquired_' + n + '_dis.shp')\n",
    "# envelope2['geometry'] = envelope2['geometry'].to_crs(epsg=4326)\n",
    "# envelope2.to_file('../acquired_' + n + '_dis.geojson', driver='GeoJSON')\n",
    "\n",
    "# # clip.to_file('../acquired_' + n + '_pts.shp')\n",
    "# # clip['geometry'] = clip['geometry'].to_crs(epsg=4326)\n",
    "# # clip.to_file('../acquired_' + n + '_pts.geojson', driver='GeoJSON')"
   ]
  }
 ],
 "metadata": {
  "kernelspec": {
   "display_name": "Python 3",
   "language": "python",
   "name": "python3"
  },
  "language_info": {
   "codemirror_mode": {
    "name": "ipython",
    "version": 3
   },
   "file_extension": ".py",
   "mimetype": "text/x-python",
   "name": "python",
   "nbconvert_exporter": "python",
   "pygments_lexer": "ipython3",
   "version": "3.7.4"
  }
 },
 "nbformat": 4,
 "nbformat_minor": 2
}
