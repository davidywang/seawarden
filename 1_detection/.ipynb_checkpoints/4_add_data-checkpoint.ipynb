{
 "cells": [
  {
   "cell_type": "code",
   "execution_count": 34,
   "metadata": {},
   "outputs": [
    {
     "name": "stdout",
     "output_type": "stream",
     "text": [
      "425 annotated images\n",
      "114 TUR\n",
      "114\n",
      "5 ESP\n",
      "5\n",
      "32 HRV\n",
      "32\n",
      "7 ITA\n",
      "7\n",
      "7 CYP\n",
      "7\n",
      "1 MLT\n",
      "1\n",
      "2 FRA\n",
      "2\n",
      "7 ALB\n",
      "7\n",
      "250 GRC\n",
      "250\n"
     ]
    }
   ],
   "source": [
    "import os\n",
    "import pandas as pd\n",
    "import geopandas as gpd\n",
    "\n",
    "#SET COUNTRY/CRS <-------------------------------------------------------------------------------CHANGE\n",
    "countries = ['TUR', 'EPSG:5637'],['ESP', 'EPSG:2062'],['HRV', 'EPSG:3765'],['ITA', 'EPSG:7794'],['CYP', 'EPSG:6312'],['MLT', 'EPSG:3034'],['FRA', 'EPSG:2154'],['ALB', 'EPSG:6962'],['GRC', 'EPSG:2100']\n",
    "\n",
    "#load images to obtain filenames\n",
    "folder = '../targets_2_simrdwn/1_SIMRDWN_final/annotated/'\n",
    "files = os.listdir(folder)\n",
    "files = pd.DataFrame(files)\n",
    "print(len(files), 'annotated images')\n",
    "\n",
    "def add(n):\n",
    "    #load country geojson file\n",
    "    f = '../targets_2_simrdwn/' + n[0] + '/'\n",
    "    pts = gpd.read_file(f + n[0] + '_simrdwn_farm_pts.geojson')\n",
    "    print(len(pts), n[0])\n",
    "\n",
    "    #extract farm ID and country data from filenames\n",
    "    farm_list, country_list = [], []\n",
    "    for i in range(len(files)):\n",
    "        farm_id = int(files[0][i].split(',')[2])\n",
    "        farm_list.append(farm_id)\n",
    "        #country = (files[0][i].split(\"'\")[1])\n",
    "        country = (files[0][i].split(',')[1]).split('_')[1]\n",
    "        country_list.append(country)\n",
    "\n",
    "    #create dataframe of filenames data\n",
    "    data = pd.DataFrame(list(zip(farm_list, country_list, files[0])), columns =['farm', 'country', 'filename']) \n",
    "    data = data[data['country']==n[0]] #filter by country\n",
    "    data = data.sort_values(by=['farm']) #sort by increasing\n",
    "    print(len(data))\n",
    "\n",
    "    #add filename to geojson file\n",
    "    pts['filename']=data['filename'].to_list()\n",
    "    pts.to_file(f + n[0] + '_simrdwn_farm_pts_v2.geojson', driver='GeoJSON')\n",
    "    \n",
    "for i in countries:\n",
    "    add(i)"
   ]
  }
 ],
 "metadata": {
  "kernelspec": {
   "display_name": "Python 3",
   "language": "python",
   "name": "python3"
  },
  "language_info": {
   "codemirror_mode": {
    "name": "ipython",
    "version": 3
   },
   "file_extension": ".py",
   "mimetype": "text/x-python",
   "name": "python",
   "nbconvert_exporter": "python",
   "pygments_lexer": "ipython3",
   "version": "3.7.4"
  }
 },
 "nbformat": 4,
 "nbformat_minor": 2
}
