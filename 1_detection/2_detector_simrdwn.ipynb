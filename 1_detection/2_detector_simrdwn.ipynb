{
 "cells": [
  {
   "cell_type": "code",
   "execution_count": 5,
   "metadata": {},
   "outputs": [],
   "source": [
    "#import os\n",
    "import math\n",
    "import fiona \n",
    "import numpy as np\n",
    "import pandas as pd\n",
    "import geopandas as gpd\n",
    "from geopandas.tools import sjoin\n",
    "from shapely.geometry import Polygon, Point, mapping\n",
    "from explode import explode\n",
    "from coord import coord"
   ]
  },
  {
   "cell_type": "code",
   "execution_count": 6,
   "metadata": {
    "scrolled": true
   },
   "outputs": [
    {
     "name": "stdout",
     "output_type": "stream",
     "text": [
      "5260 total SIMRDWN predictions\n"
     ]
    }
   ],
   "source": [
    "#SET COUNTRY/CRS <-------------------------------------------------------------------------------CHANGE\n",
    "# n = ['TUR', 'EPSG:5637'] #turkey\n",
    "# n = ['GRC', 'EPSG:2100'] #greece\n",
    "n = ['ESP', 'EPSG:2062'] #spain\n",
    "# n = ['HRV', 'EPSG:3765'] #croatia\n",
    "# n = ['ITA', 'EPSG:7794'] #italy\n",
    "# n = ['CYP', 'EPSG:6312'] #cyprus\n",
    "# n = ['MLT', 'EPSG:3034'] #malta\n",
    "# n = ['FRA', 'EPSG:2154'] #france\n",
    "# n = ['ALB', 'EPSG:6962'] #albania\n",
    "wgs84= {'init' :'EPSG:4326'}\n",
    "\n",
    "#open file\n",
    "f = '../targets_2_simrdwn/3_new/' + n[0] + '/'\n",
    "file = f + 'predictions_' + n[0] + '.csv'\n",
    "detections = pd.read_csv(file, delimiter=',', header=0)\n",
    "print(len(detections), 'total SIMRDWN predictions')\n",
    "#detections.head()"
   ]
  },
  {
   "cell_type": "code",
   "execution_count": 7,
   "metadata": {},
   "outputs": [],
   "source": [
    "#georeference prediction bounding boxes and convert to centroid\n",
    "selected = detections\n",
    "\n",
    "lon_list, lat_list, radius_list, diameter_list = [], [], [], []\n",
    "for i in range(len(selected)):\n",
    "    img = detections['img_file'].iloc[i]\n",
    "\n",
    "    #extract bottom right coordinate from image name\n",
    "    br_lon = float(img.split('_')[4] + '.' + img.split('_')[5]) #lon = x                                       \n",
    "    br_lat = float(img.split('_')[2] + '.' + img.split('_')[3]) #lat = y\n",
    "    \n",
    "    #extract top left coordinate from image name\n",
    "    tl_lon = float(img.split('_')[8] + '.' + (img.split('_')[9]).split('.')[0]) #lon = x\n",
    "    tl_lat = float(img.split('_')[6] + '.' + img.split('_')[7]) #lat = y    \n",
    "    \n",
    "#     #FOR GREECE ONLY - extract bottom right coordinate from image name\n",
    "#     br_lon = float(img.split('_')[8] + '.' + img.split('_')[9]) #lon = x                                       \n",
    "#     br_lat = float(img.split('_')[6] + '.' + img.split('_')[7]) #lat = y\n",
    "    \n",
    "#     #extract top left coordinate from image name\n",
    "#     tl_lon = float(img.split('_')[12] + '.' + (img.split('_')[13]).split('.')[0]) #lon = x\n",
    "#     tl_lat = float(img.split('_')[10] + '.' + img.split('_')[11]) #lat = y\n",
    "    \n",
    "    #image dimensions\n",
    "    img_w = detections['img_width'].iloc[i]\n",
    "    img_h = detections['img_height'].iloc[i]\n",
    "    width = abs(br_lon - tl_lon) \n",
    "    height = abs(tl_lat - br_lat)\n",
    "    \n",
    "    #decimal degrees per pixel\n",
    "    res_x = width / img_w #image width\n",
    "    res_y = height / img_h #image height\n",
    "    \n",
    "    #res\n",
    "    lat = tl_lat * math.pi / 180\n",
    "    res = 156543.04 * math.cos(lat) / (2 ** 18)\n",
    "    \n",
    "    #convert bounding box to centroid\n",
    "    xmin = detections['xmin'].iloc[i]\n",
    "    ymin = detections['ymin'].iloc[i]\n",
    "    xmax = detections['xmax'].iloc[i]\n",
    "    ymax = detections['ymax'].iloc[i]\n",
    "    x = (xmin + xmax) / 2\n",
    "    y = (ymin + ymax) / 2\n",
    "    \n",
    "    #convert centroid point to lat/lon   \n",
    "    x_center = tl_lon + (x * res_x) \n",
    "    y_center = tl_lat - (y * res_y) \n",
    "    \n",
    "    #estimate radius of detection\n",
    "    w = xmax-xmin \n",
    "    h = ymax-ymin \n",
    "    radius = (((w+h)/2)/4)*1.1\n",
    "    diameter = radius * 2\n",
    "    lon_list.append(x_center)\n",
    "    lat_list.append(y_center)\n",
    "    radius_list.append(radius)\n",
    "    diameter_list.append(diameter)"
   ]
  },
  {
   "cell_type": "code",
   "execution_count": 8,
   "metadata": {},
   "outputs": [
    {
     "name": "stdout",
     "output_type": "stream",
     "text": [
      "5260 total SIMRDWN predictions\n",
      "{'init': 'EPSG:2062'}\n"
     ]
    }
   ],
   "source": [
    "#add attributes to df\n",
    "d2 = selected.reset_index(drop=True) #super important\n",
    "d2 = d2.drop(columns=['label'])\n",
    "d2['x']=lon_list\n",
    "d2['y']=lat_list\n",
    "d2['radius']=np.round(radius_list,2)\n",
    "d2['diameter']=np.round(diameter_list,2)\n",
    "print(len(d2), 'total SIMRDWN predictions')\n",
    "\n",
    "#add geometry information to df \n",
    "geometry = [Point(i) for i in zip(lon_list, lat_list)]\n",
    "d2 = gpd.GeoDataFrame(d2, geometry=geometry, crs=wgs84)\n",
    "d2 = d2.to_crs({'init': n[1]})\n",
    "print(d2.crs)\n",
    "#d2.head()"
   ]
  },
  {
   "cell_type": "code",
   "execution_count": 9,
   "metadata": {
    "scrolled": false
   },
   "outputs": [
    {
     "name": "stdout",
     "output_type": "stream",
     "text": [
      "1222 total SIMRDWN predictions less than or equal to 55 meters\n"
     ]
    }
   ],
   "source": [
    "#select predictions within search area\n",
    "# search_area = gpd.read_file('../0_search_areas/4_search_area/search_area_100m_' + n + '.shp')\n",
    "# search_area = search_area.to_crs({'init': n[1]})\n",
    "\n",
    "# d2 = sjoin(d2, search_area, how='inner', op='within')\n",
    "# print(len(d2), 'predictions within search area')\n",
    "\n",
    "#select predictions by diameter\n",
    "d = 55\n",
    "d2 = d2[d2['diameter'] <= d]\n",
    "geometry = [Point(i) for i in zip(d2['x'], d2['y'])]\n",
    "\n",
    "d2 = d2[['radius', 'geometry']]\n",
    "print(len(d2), 'total SIMRDWN predictions less than or equal to', d, 'meters')\n",
    "#d2.head()"
   ]
  },
  {
   "cell_type": "code",
   "execution_count": 10,
   "metadata": {
    "scrolled": true
   },
   "outputs": [
    {
     "name": "stdout",
     "output_type": "stream",
     "text": [
      "1222 predictions aggregated to 850 predictions\n"
     ]
    }
   ],
   "source": [
    "#aggregate predictions \n",
    "buffer = gpd.GeoDataFrame(geometry = d2.buffer(10)) #buffer by 10 meters\n",
    "buffer['Dissolve'] = 0\n",
    "buffer_dis = buffer.dissolve(by='Dissolve')\n",
    "buffer_exploded = explode(buffer_dis)    \n",
    "print(len(d2), 'predictions aggregated to', len(buffer_exploded), 'predictions')"
   ]
  },
  {
   "cell_type": "code",
   "execution_count": 11,
   "metadata": {},
   "outputs": [
    {
     "name": "stderr",
     "output_type": "stream",
     "text": [
      "C:\\Users\\Zack\\Anaconda3\\envs\\thesis\\lib\\site-packages\\geopandas\\tools\\sjoin.py:44: UserWarning: CRS of frames being joined does not match!\n",
      "  warn('CRS of frames being joined does not match!')\n"
     ]
    },
    {
     "name": "stdout",
     "output_type": "stream",
     "text": [
      "850 predictions\n"
     ]
    }
   ],
   "source": [
    "#calculate mean radius of aggregated predictions\n",
    "d2_ag = gpd.sjoin(d2, buffer_exploded, how=\"inner\", op='intersects')\n",
    "centroids = gpd.GeoDataFrame(geometry = buffer_exploded.centroid, crs=wgs84)\n",
    "centroids['radius']=d2_ag.groupby('index_right')['radius'].mean()\n",
    "centroids.crs={'init' : n[1]}\n",
    "print(len(centroids), 'predictions')\n",
    "#centroids.head()"
   ]
  },
  {
   "cell_type": "code",
   "execution_count": 12,
   "metadata": {},
   "outputs": [
    {
     "data": {
      "text/plain": [
       "(527, 1)"
      ]
     },
     "execution_count": 12,
     "metadata": {},
     "output_type": "execute_result"
    }
   ],
   "source": [
    "#generate farmsite polygons\n",
    "b = 100\n",
    "buffer = gpd.GeoDataFrame(geometry = centroids.buffer(b)) #buffer by 100m\n",
    "buffer['Dissolve'] = 0\n",
    "buffer_dis = buffer.dissolve(by='Dissolve')\n",
    "buffer_exploded = explode(buffer_dis)    \n",
    "buffer_exploded.crs={'init' : n[1]}\n",
    "buffer_exploded.shape"
   ]
  },
  {
   "cell_type": "code",
   "execution_count": 13,
   "metadata": {
    "scrolled": true
   },
   "outputs": [
    {
     "name": "stdout",
     "output_type": "stream",
     "text": [
      "527 total farmsite predictions based on farmsites\n"
     ]
    }
   ],
   "source": [
    "#add number of predictions per farmsite to farmsite polygons\n",
    "count=sjoin(centroids, buffer_exploded, how='inner', op='within')\n",
    "buffer_exploded['cage count']=count.groupby('index_right')['index_right'].count()\n",
    "buffer_exploded['cage count']=count.groupby('index_right')['index_right'].count()\n",
    "buffer_exploded[\"farm ID\"] = buffer_exploded.index + 1 #add farm ID\n",
    "\n",
    "print(len(buffer_exploded), 'total farmsite predictions based on farmsites')\n",
    "#buffer_exploded.head()"
   ]
  },
  {
   "cell_type": "code",
   "execution_count": 14,
   "metadata": {},
   "outputs": [
    {
     "name": "stdout",
     "output_type": "stream",
     "text": [
      "31 farm site predictions containing 4 or more net pen predictions\n"
     ]
    }
   ],
   "source": [
    "#select farmsites by number of predictions\n",
    "p = 4 #number of predictions per farmsite\n",
    "farmsites = buffer_exploded[buffer_exploded['cage count'] >= p]\n",
    "print(len(farmsites), 'farm site predictions containing', p, 'or more net pen predictions')\n",
    "#farmsites.head()"
   ]
  },
  {
   "cell_type": "code",
   "execution_count": 15,
   "metadata": {
    "scrolled": false
   },
   "outputs": [
    {
     "name": "stderr",
     "output_type": "stream",
     "text": [
      "C:\\Users\\Zack\\Anaconda3\\envs\\thesis\\lib\\site-packages\\ipykernel_launcher.py:3: SettingWithCopyWarning: \n",
      "A value is trying to be set on a copy of a slice from a DataFrame.\n",
      "Try using .loc[row_indexer,col_indexer] = value instead\n",
      "\n",
      "See the caveats in the documentation: http://pandas.pydata.org/pandas-docs/stable/user_guide/indexing.html#returning-a-view-versus-a-copy\n",
      "  This is separate from the ipykernel package so we can avoid doing imports until\n"
     ]
    },
    {
     "name": "stdout",
     "output_type": "stream",
     "text": [
      "227 net pen predictions within farm sites\n",
      "{'init': 'EPSG:2062'}\n"
     ]
    }
   ],
   "source": [
    "#select predictions by farmsites\n",
    "select = farmsites\n",
    "select['predictions'] = 0\n",
    "select = select.dissolve(by='predictions')\n",
    "mask = centroids.within(select.loc[0, 'geometry'])\n",
    "farmsites=farmsites.drop(['predictions'], axis=1)\n",
    "d2_clip = centroids.loc[mask]\n",
    "\n",
    "print(len(d2_clip), 'net pen predictions within farm sites')\n",
    "print(d2_clip.crs)\n",
    "#d2_clip.head()"
   ]
  },
  {
   "cell_type": "code",
   "execution_count": 16,
   "metadata": {
    "scrolled": false
   },
   "outputs": [
    {
     "name": "stdout",
     "output_type": "stream",
     "text": [
      "227 net pen predictions\n"
     ]
    },
    {
     "data": {
      "text/html": [
       "<div>\n",
       "<style scoped>\n",
       "    .dataframe tbody tr th:only-of-type {\n",
       "        vertical-align: middle;\n",
       "    }\n",
       "\n",
       "    .dataframe tbody tr th {\n",
       "        vertical-align: top;\n",
       "    }\n",
       "\n",
       "    .dataframe thead th {\n",
       "        text-align: right;\n",
       "    }\n",
       "</style>\n",
       "<table border=\"1\" class=\"dataframe\">\n",
       "  <thead>\n",
       "    <tr style=\"text-align: right;\">\n",
       "      <th></th>\n",
       "      <th>farm ID</th>\n",
       "      <th>cage ID</th>\n",
       "      <th>radius</th>\n",
       "      <th>diameter</th>\n",
       "      <th>geometry</th>\n",
       "    </tr>\n",
       "  </thead>\n",
       "  <tbody>\n",
       "    <tr>\n",
       "      <td>0</td>\n",
       "      <td>19</td>\n",
       "      <td>1</td>\n",
       "      <td>16.23</td>\n",
       "      <td>32.46</td>\n",
       "      <td>POINT (689919.8004147761 234025.2045451488)</td>\n",
       "    </tr>\n",
       "    <tr>\n",
       "      <td>1</td>\n",
       "      <td>19</td>\n",
       "      <td>2</td>\n",
       "      <td>15.40</td>\n",
       "      <td>30.80</td>\n",
       "      <td>POINT (689893.930380497 234128.2964443578)</td>\n",
       "    </tr>\n",
       "    <tr>\n",
       "      <td>2</td>\n",
       "      <td>19</td>\n",
       "      <td>3</td>\n",
       "      <td>14.44</td>\n",
       "      <td>28.88</td>\n",
       "      <td>POINT (689975.6102594684 234130.8334081308)</td>\n",
       "    </tr>\n",
       "    <tr>\n",
       "      <td>3</td>\n",
       "      <td>19</td>\n",
       "      <td>4</td>\n",
       "      <td>13.89</td>\n",
       "      <td>27.78</td>\n",
       "      <td>POINT (689764.0753690819 234177.018769359)</td>\n",
       "    </tr>\n",
       "    <tr>\n",
       "      <td>4</td>\n",
       "      <td>30</td>\n",
       "      <td>5</td>\n",
       "      <td>14.68</td>\n",
       "      <td>29.36</td>\n",
       "      <td>POINT (540441.464335561 236010.5871938617)</td>\n",
       "    </tr>\n",
       "  </tbody>\n",
       "</table>\n",
       "</div>"
      ],
      "text/plain": [
       "   farm ID  cage ID  radius  diameter  \\\n",
       "0       19        1   16.23     32.46   \n",
       "1       19        2   15.40     30.80   \n",
       "2       19        3   14.44     28.88   \n",
       "3       19        4   13.89     27.78   \n",
       "4       30        5   14.68     29.36   \n",
       "\n",
       "                                      geometry  \n",
       "0  POINT (689919.8004147761 234025.2045451488)  \n",
       "1   POINT (689893.930380497 234128.2964443578)  \n",
       "2  POINT (689975.6102594684 234130.8334081308)  \n",
       "3   POINT (689764.0753690819 234177.018769359)  \n",
       "4   POINT (540441.464335561 236010.5871938617)  "
      ]
     },
     "execution_count": 16,
     "metadata": {},
     "output_type": "execute_result"
    }
   ],
   "source": [
    "#add id and farm_id to predictions\n",
    "d2_clip_id=sjoin(farmsites, d2_clip, how='right', op='intersects')\n",
    "d2_clip_id=d2_clip_id.reset_index(drop=True)\n",
    "d2_clip_id[\"cage ID\"] = d2_clip_id.index + 1 \n",
    "d2_clip_id['diameter']=d2_clip_id['radius'] * 2\n",
    "\n",
    "d2_clip_id['radius']=round(d2_clip_id['radius'],2)\n",
    "d2_clip_id['diameter']=round(d2_clip_id['diameter'],2)\n",
    "\n",
    "d2_clip=d2_clip_id[['farm ID', 'cage ID', 'radius', 'diameter', 'geometry']]\n",
    "print(len(d2_clip), 'net pen predictions')\n",
    "d2_clip.head()"
   ]
  },
  {
   "cell_type": "code",
   "execution_count": 17,
   "metadata": {
    "scrolled": true
   },
   "outputs": [
    {
     "name": "stdout",
     "output_type": "stream",
     "text": [
      "31 farm site predictions\n"
     ]
    },
    {
     "data": {
      "text/html": [
       "<div>\n",
       "<style scoped>\n",
       "    .dataframe tbody tr th:only-of-type {\n",
       "        vertical-align: middle;\n",
       "    }\n",
       "\n",
       "    .dataframe tbody tr th {\n",
       "        vertical-align: top;\n",
       "    }\n",
       "\n",
       "    .dataframe thead th {\n",
       "        text-align: right;\n",
       "    }\n",
       "</style>\n",
       "<table border=\"1\" class=\"dataframe\">\n",
       "  <thead>\n",
       "    <tr style=\"text-align: right;\">\n",
       "      <th></th>\n",
       "      <th>farm ID</th>\n",
       "      <th>cage count</th>\n",
       "      <th>geometry</th>\n",
       "    </tr>\n",
       "  </thead>\n",
       "  <tbody>\n",
       "    <tr>\n",
       "      <td>18</td>\n",
       "      <td>19</td>\n",
       "      <td>4</td>\n",
       "      <td>POLYGON ((689664.0753690819 233925.2045451488,...</td>\n",
       "    </tr>\n",
       "    <tr>\n",
       "      <td>29</td>\n",
       "      <td>30</td>\n",
       "      <td>7</td>\n",
       "      <td>POLYGON ((540002.9713616917 235910.5871938617,...</td>\n",
       "    </tr>\n",
       "    <tr>\n",
       "      <td>33</td>\n",
       "      <td>34</td>\n",
       "      <td>5</td>\n",
       "      <td>POLYGON ((692026.3589401236 235610.9962224594,...</td>\n",
       "    </tr>\n",
       "    <tr>\n",
       "      <td>85</td>\n",
       "      <td>86</td>\n",
       "      <td>4</td>\n",
       "      <td>POLYGON ((693289.863692842 236355.5148529743, ...</td>\n",
       "    </tr>\n",
       "    <tr>\n",
       "      <td>99</td>\n",
       "      <td>100</td>\n",
       "      <td>5</td>\n",
       "      <td>POLYGON ((923736.3560987308 453142.8355842861,...</td>\n",
       "    </tr>\n",
       "  </tbody>\n",
       "</table>\n",
       "</div>"
      ],
      "text/plain": [
       "    farm ID  cage count                                           geometry\n",
       "18       19           4  POLYGON ((689664.0753690819 233925.2045451488,...\n",
       "29       30           7  POLYGON ((540002.9713616917 235910.5871938617,...\n",
       "33       34           5  POLYGON ((692026.3589401236 235610.9962224594,...\n",
       "85       86           4  POLYGON ((693289.863692842 236355.5148529743, ...\n",
       "99      100           5  POLYGON ((923736.3560987308 453142.8355842861,..."
      ]
     },
     "execution_count": 17,
     "metadata": {},
     "output_type": "execute_result"
    }
   ],
   "source": [
    "#generate farmsite extents\n",
    "envelope = gpd.GeoDataFrame(geometry = farmsites.envelope)\n",
    "farmsites2=farmsites.copy()\n",
    "farmsites2['geometry']=envelope['geometry']\n",
    "farmsites2=farmsites2[['farm ID', 'cage count', 'geometry']]\n",
    "print(len(farmsites2), 'farm site predictions')\n",
    "farmsites2.head()"
   ]
  },
  {
   "cell_type": "code",
   "execution_count": 18,
   "metadata": {},
   "outputs": [
    {
     "name": "stdout",
     "output_type": "stream",
     "text": [
      "final number of predicted net pens: 29\n",
      "final number of predicted farm sites: 3\n"
     ]
    }
   ],
   "source": [
    "#exclusion of false positives\n",
    "path= f + n[0] + '_exclude.kml'\n",
    "gpd.io.file.fiona.drvsupport.supported_drivers['KML'] = 'rw'\n",
    "exclude = gpd.read_file(path, driver='KML')\n",
    "exclude = exclude.to_crs({'init': n[1]})\n",
    "\n",
    "#create exclusion mask\n",
    "exclude['Dissolve'] = 0\n",
    "exclude_dis = exclude.dissolve(by='Dissolve')\n",
    "\n",
    "#eliminate net pen false positives\n",
    "mask = ~d2_clip.within(exclude_dis.loc[0, 'geometry'])\n",
    "d2_clip = d2_clip.loc[mask]\n",
    "print('final number of predicted net pens:', len(d2_clip))\n",
    "\n",
    "#eliminate farmsite false positives\n",
    "mask2 = ~farmsites2.within(exclude_dis.loc[0, 'geometry'])\n",
    "farmsites2 = farmsites2.loc[mask2]\n",
    "print('final number of predicted farm sites:', len(farmsites2))"
   ]
  },
  {
   "cell_type": "code",
   "execution_count": 19,
   "metadata": {},
   "outputs": [
    {
     "data": {
      "text/html": [
       "<div>\n",
       "<style scoped>\n",
       "    .dataframe tbody tr th:only-of-type {\n",
       "        vertical-align: middle;\n",
       "    }\n",
       "\n",
       "    .dataframe tbody tr th {\n",
       "        vertical-align: top;\n",
       "    }\n",
       "\n",
       "    .dataframe thead th {\n",
       "        text-align: right;\n",
       "    }\n",
       "</style>\n",
       "<table border=\"1\" class=\"dataframe\">\n",
       "  <thead>\n",
       "    <tr style=\"text-align: right;\">\n",
       "      <th></th>\n",
       "      <th>farm ID</th>\n",
       "      <th>cage count</th>\n",
       "      <th>geometry</th>\n",
       "    </tr>\n",
       "  </thead>\n",
       "  <tbody>\n",
       "    <tr>\n",
       "      <td>99</td>\n",
       "      <td>100</td>\n",
       "      <td>5</td>\n",
       "      <td>POINT (923909.2637902545 453295.3234419652)</td>\n",
       "    </tr>\n",
       "    <tr>\n",
       "      <td>118</td>\n",
       "      <td>119</td>\n",
       "      <td>18</td>\n",
       "      <td>POINT (918090.1659160672 448093.5808382252)</td>\n",
       "    </tr>\n",
       "    <tr>\n",
       "      <td>512</td>\n",
       "      <td>513</td>\n",
       "      <td>6</td>\n",
       "      <td>POINT (1165123.082400917 872053.4200517861)</td>\n",
       "    </tr>\n",
       "  </tbody>\n",
       "</table>\n",
       "</div>"
      ],
      "text/plain": [
       "     farm ID  cage count                                     geometry\n",
       "99       100           5  POINT (923909.2637902545 453295.3234419652)\n",
       "118      119          18  POINT (918090.1659160672 448093.5808382252)\n",
       "512      513           6  POINT (1165123.082400917 872053.4200517861)"
      ]
     },
     "execution_count": 19,
     "metadata": {},
     "output_type": "execute_result"
    }
   ],
   "source": [
    "#generate farmsite centroids\n",
    "farmsites3 = farmsites2.copy()\n",
    "farm_pts = gpd.GeoDataFrame(farmsites3, geometry = farmsites3.centroid)\n",
    "farm_pts.head()"
   ]
  },
  {
   "cell_type": "code",
   "execution_count": 20,
   "metadata": {},
   "outputs": [
    {
     "data": {
      "text/html": [
       "<div>\n",
       "<style scoped>\n",
       "    .dataframe tbody tr th:only-of-type {\n",
       "        vertical-align: middle;\n",
       "    }\n",
       "\n",
       "    .dataframe tbody tr th {\n",
       "        vertical-align: top;\n",
       "    }\n",
       "\n",
       "    .dataframe thead th {\n",
       "        text-align: right;\n",
       "    }\n",
       "</style>\n",
       "<table border=\"1\" class=\"dataframe\">\n",
       "  <thead>\n",
       "    <tr style=\"text-align: right;\">\n",
       "      <th></th>\n",
       "      <th>farm ID</th>\n",
       "      <th>cage ID</th>\n",
       "      <th>radius</th>\n",
       "      <th>diameter</th>\n",
       "      <th>geometry</th>\n",
       "    </tr>\n",
       "  </thead>\n",
       "  <tbody>\n",
       "    <tr>\n",
       "      <td>20</td>\n",
       "      <td>100</td>\n",
       "      <td>21</td>\n",
       "      <td>9.08</td>\n",
       "      <td>18.16</td>\n",
       "      <td>POINT (923836.3560987308 453242.8355842861)</td>\n",
       "    </tr>\n",
       "    <tr>\n",
       "      <td>21</td>\n",
       "      <td>100</td>\n",
       "      <td>22</td>\n",
       "      <td>8.94</td>\n",
       "      <td>17.88</td>\n",
       "      <td>POINT (923867.7209484867 453258.1059747139)</td>\n",
       "    </tr>\n",
       "    <tr>\n",
       "      <td>22</td>\n",
       "      <td>100</td>\n",
       "      <td>23</td>\n",
       "      <td>8.39</td>\n",
       "      <td>16.78</td>\n",
       "      <td>POINT (923891.7316953522 453304.0131081137)</td>\n",
       "    </tr>\n",
       "    <tr>\n",
       "      <td>23</td>\n",
       "      <td>100</td>\n",
       "      <td>24</td>\n",
       "      <td>8.66</td>\n",
       "      <td>17.32</td>\n",
       "      <td>POINT (923952.8767858517 453333.3249462657)</td>\n",
       "    </tr>\n",
       "    <tr>\n",
       "      <td>24</td>\n",
       "      <td>100</td>\n",
       "      <td>25</td>\n",
       "      <td>9.35</td>\n",
       "      <td>18.70</td>\n",
       "      <td>POINT (923982.171481778 453347.8112996442)</td>\n",
       "    </tr>\n",
       "  </tbody>\n",
       "</table>\n",
       "</div>"
      ],
      "text/plain": [
       "    farm ID  cage ID  radius  diameter  \\\n",
       "20      100       21    9.08     18.16   \n",
       "21      100       22    8.94     17.88   \n",
       "22      100       23    8.39     16.78   \n",
       "23      100       24    8.66     17.32   \n",
       "24      100       25    9.35     18.70   \n",
       "\n",
       "                                       geometry  \n",
       "20  POINT (923836.3560987308 453242.8355842861)  \n",
       "21  POINT (923867.7209484867 453258.1059747139)  \n",
       "22  POINT (923891.7316953522 453304.0131081137)  \n",
       "23  POINT (923952.8767858517 453333.3249462657)  \n",
       "24   POINT (923982.171481778 453347.8112996442)  "
      ]
     },
     "execution_count": 20,
     "metadata": {},
     "output_type": "execute_result"
    }
   ],
   "source": [
    "d2_clip.head()"
   ]
  },
  {
   "cell_type": "code",
   "execution_count": 21,
   "metadata": {},
   "outputs": [
    {
     "data": {
      "text/plain": [
       "{'init': 'EPSG:2062'}"
      ]
     },
     "execution_count": 21,
     "metadata": {},
     "output_type": "execute_result"
    }
   ],
   "source": [
    "# #generate net pen buffers\n",
    "def buffer(row):\n",
    "     return row.geometry.buffer(row.radius)       \n",
    "d2_clip2 = d2_clip.copy()\n",
    "d2_clip2.crs"
   ]
  },
  {
   "cell_type": "code",
   "execution_count": null,
   "metadata": {},
   "outputs": [],
   "source": []
  },
  {
   "cell_type": "code",
   "execution_count": 22,
   "metadata": {},
   "outputs": [
    {
     "name": "stdout",
     "output_type": "stream",
     "text": [
      "total coordinates (5 per detection): 15\n"
     ]
    }
   ],
   "source": [
    "#generate buffer and envelope for bing aquistion\n",
    "farm_pts_2 = farm_pts.copy()\n",
    "centroid_buffer = gpd.GeoDataFrame(geometry = farm_pts_2.buffer(500))\n",
    "envelope = gpd.GeoDataFrame(farmsites3, geometry = centroid_buffer.envelope)\n",
    "envelope = envelope['geometry'].to_crs(epsg=4326)\n",
    "#extract lat/long for each square polygon (envelope)\n",
    "coord_list = []\n",
    "for i in envelope.index:\n",
    "    coords = (mapping(envelope.geometry[i])['coordinates'])\n",
    "    coord_list.append(coords)\n",
    "    \n",
    "#generate CSVs of bing targets and index\n",
    "#combine x/y point groups\n",
    "coord_all = []\n",
    "for i in range(len(coord_list)):\n",
    "    coord_group = coord(coord_list[i]) #function to extract and format x/y points\n",
    "    coord_all.append(coord_group) \n",
    "targets = pd.concat(coord_all)\n",
    "print('total coordinates (5 per detection):', len(targets))\n",
    "\n",
    "targets.to_csv(f + n[0] + '.csv', index = None, header=True)\n",
    "\n",
    "index = pd.DataFrame(envelope.index)\n",
    "index = index[0] + 1\n",
    "index.to_csv(f + n[0] + '_index.csv', index = None, header=False)"
   ]
  },
  {
   "cell_type": "code",
   "execution_count": 23,
   "metadata": {},
   "outputs": [],
   "source": [
    "# #generate net pen buffers\n",
    "def buffer(row):\n",
    "     return row.geometry.buffer(row.radius)       \n",
    "d2_clip2 = d2_clip.copy()\n",
    "d2_clip2.crs\n",
    "buff = d2_clip2['geometry'] = d2_clip2.apply(buffer, axis=1)\n",
    "circles = gpd.GeoDataFrame(d2_clip2, geometry = buff, crs={'init': n[1]})\n",
    "#d2_clip.head()"
   ]
  },
  {
   "cell_type": "code",
   "execution_count": 24,
   "metadata": {
    "scrolled": true
   },
   "outputs": [
    {
     "name": "stdout",
     "output_type": "stream",
     "text": [
      "29 {'init': 'EPSG:2062'}\n",
      "1222 {'init': 'EPSG:2062'}\n",
      "29 {'init': 'EPSG:2062'}\n",
      "3 {'init': 'EPSG:2062'}\n",
      "3 {'init': 'EPSG:2062'}\n"
     ]
    }
   ],
   "source": [
    "print(len(circles), circles.crs)\n",
    "print(len(d2), d2.crs)\n",
    "print(len(d2_clip), d2_clip.crs)\n",
    "print(len(farmsites2), farmsites2.crs)\n",
    "print(len(farm_pts), farm_pts.crs)"
   ]
  },
  {
   "cell_type": "code",
   "execution_count": 25,
   "metadata": {},
   "outputs": [],
   "source": [
    "#export all centroids\n",
    "d2 = d2.to_crs({'init': n[1]})\n",
    "d2.to_file(f + n[0] + '_simrdwn.shp')\n",
    "d2['geometry'] = d2['geometry'].to_crs(epsg=4326)\n",
    "d2.to_file(f + n[0] + '_simrdwn.geojson', driver='GeoJSON')\n",
    "\n",
    "#export buffered centroids\n",
    "circles.to_file(f + n[0] + '_simrdwn_pens.shp')\n",
    "circles['geometry'] = circles['geometry'].to_crs(epsg=4326)\n",
    "circles.to_file(f + n[0] + '_simrdwn_pens.geojson', driver='GeoJSON')\n",
    "\n",
    "#export centroids within farmsites\n",
    "d2_clip.to_file(f + n[0] + '_simrdwn_pts.shp')\n",
    "d2_clip['geometry'] = d2_clip['geometry'].to_crs(epsg=4326)\n",
    "d2_clip.to_file(f + n[0] + '_simrdwn_pts.geojson', driver='GeoJSON')\n",
    "\n",
    "#export farmsites extents\n",
    "farmsites2.to_file(f + n[0] + '_simrdwn_farmsites_ext.shp')\n",
    "farmsites2['geometry'] = farmsites2['geometry'].to_crs(epsg=4326)\n",
    "farmsites2.to_file(f + n[0] + '_simrdwn_farmsites_ext.geojson', driver='GeoJSON')\n",
    "\n",
    "#export farmsites points\n",
    "farm_pts = farm_pts_2\n",
    "farm_pts.to_file(f + n[0] + '_simrdwn_farm_pts.shp')\n",
    "farm_pts['geometry'] = farm_pts['geometry'].to_crs(epsg=4326)\n",
    "farm_pts.to_file(f + n[0] + '_simrdwn_farm_pts.geojson', driver='GeoJSON')"
   ]
  }
 ],
 "metadata": {
  "kernelspec": {
   "display_name": "Python 3",
   "language": "python",
   "name": "python3"
  },
  "language_info": {
   "codemirror_mode": {
    "name": "ipython",
    "version": 3
   },
   "file_extension": ".py",
   "mimetype": "text/x-python",
   "name": "python",
   "nbconvert_exporter": "python",
   "pygments_lexer": "ipython3",
   "version": "3.7.4"
  }
 },
 "nbformat": 4,
 "nbformat_minor": 2
}
