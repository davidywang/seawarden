{
 "cells": [
  {
   "cell_type": "code",
   "execution_count": 13,
   "metadata": {},
   "outputs": [
    {
     "name": "stdout",
     "output_type": "stream",
     "text": [
      "2648\n"
     ]
    }
   ],
   "source": [
    "import os\n",
    "import pandas as pd\n",
    "import geopandas as gpd\n",
    "from shapely.geometry import Point\n",
    "from geopandas.tools import sjoin\n",
    "\n",
    "# pts1 = gpd.read_file('../targets_0_sar/ITA/sar_ITA_e_v2.geojson')\n",
    "# pts2 = gpd.read_file('../targets_0_sar/ITA/sar_ITA_w_v2.geojson')\n",
    "pts = gpd.read_file('../targets_0_sar/ESP/sar_ESP_v2.geojson')\n",
    "#pts = pd.concat([pts1, pts2])\n",
    "#print(len(pts1))\n",
    "#print(len(pts2))\n",
    "print(len(pts))"
   ]
  },
  {
   "cell_type": "code",
   "execution_count": 14,
   "metadata": {},
   "outputs": [
    {
     "name": "stdout",
     "output_type": "stream",
     "text": [
      "1182\n"
     ]
    }
   ],
   "source": [
    "#load images\n",
    "#n = 'italy'\n",
    "n = 'spain'\n",
    "folder = '/Users/Zack/0_thesis_bing/imagery_' + n + '/'\n",
    "files = os.listdir(folder)\n",
    "print(len(files))\n",
    "\n",
    "#extract coordinates\n",
    "x_list, y_list = [], []\n",
    "for i in range(len(files)):\n",
    "    #extract bottom right coordinate from image name\n",
    "    img = files[i]\n",
    "    x1 = float(img.split(',')[1])\n",
    "    y1 = float(img.split(',')[2])\n",
    "    x2 = float(img.split(',')[3])\n",
    "    y2 = float((img.split(',')[4]).split(')')[0])\n",
    "    x = (x1+x2)/2\n",
    "    y = (y1+y2)/2\n",
    "    x_list.append(x)\n",
    "    y_list.append(y)"
   ]
  },
  {
   "cell_type": "code",
   "execution_count": 15,
   "metadata": {},
   "outputs": [
    {
     "data": {
      "text/plain": [
       "1182"
      ]
     },
     "execution_count": 15,
     "metadata": {},
     "output_type": "execute_result"
    }
   ],
   "source": [
    "geometry = [Point(i) for i in zip(y_list, x_list)]\n",
    "missing = gpd.GeoDataFrame(geometry=geometry, crs={'init' :'EPSG:4326'})\n",
    "len(missing)"
   ]
  },
  {
   "cell_type": "code",
   "execution_count": 16,
   "metadata": {},
   "outputs": [],
   "source": [
    "#missing = missing.to_crs({'init': 'EPSG:7794'}) #ITA\n",
    "missing = missing.to_crs({'init': 'EPSG:2062'}) #ESP\n",
    "mask = gpd.GeoDataFrame(geometry = missing.buffer(10))\n",
    "mask['Dissolve'] = 0\n",
    "mask = mask.dissolve('Dissolve')\n",
    "mask = mask.to_crs({'init': 'EPSG:4326'})"
   ]
  },
  {
   "cell_type": "code",
   "execution_count": 17,
   "metadata": {},
   "outputs": [
    {
     "name": "stdout",
     "output_type": "stream",
     "text": [
      "1182\n"
     ]
    },
    {
     "data": {
      "text/html": [
       "<div>\n",
       "<style scoped>\n",
       "    .dataframe tbody tr th:only-of-type {\n",
       "        vertical-align: middle;\n",
       "    }\n",
       "\n",
       "    .dataframe tbody tr th {\n",
       "        vertical-align: top;\n",
       "    }\n",
       "\n",
       "    .dataframe thead th {\n",
       "        text-align: right;\n",
       "    }\n",
       "</style>\n",
       "<table border=\"1\" class=\"dataframe\">\n",
       "  <thead>\n",
       "    <tr style=\"text-align: right;\">\n",
       "      <th></th>\n",
       "      <th>geometry</th>\n",
       "      <th>index_right</th>\n",
       "    </tr>\n",
       "  </thead>\n",
       "  <tbody>\n",
       "    <tr>\n",
       "      <td>0</td>\n",
       "      <td>POINT (-1.391646398701104 36.44488163528315)</td>\n",
       "      <td>0</td>\n",
       "    </tr>\n",
       "    <tr>\n",
       "      <td>1</td>\n",
       "      <td>POINT (-1.766479749304226 36.36067806002004)</td>\n",
       "      <td>0</td>\n",
       "    </tr>\n",
       "    <tr>\n",
       "      <td>2</td>\n",
       "      <td>POINT (-2.24967854680042 36.34506837156938)</td>\n",
       "      <td>0</td>\n",
       "    </tr>\n",
       "    <tr>\n",
       "      <td>3</td>\n",
       "      <td>POINT (-2.749406409434271 36.33775408387967)</td>\n",
       "      <td>0</td>\n",
       "    </tr>\n",
       "    <tr>\n",
       "      <td>4</td>\n",
       "      <td>POINT (-0.32758660941558 36.91924779218665)</td>\n",
       "      <td>0</td>\n",
       "    </tr>\n",
       "  </tbody>\n",
       "</table>\n",
       "</div>"
      ],
      "text/plain": [
       "                                       geometry  index_right\n",
       "0  POINT (-1.391646398701104 36.44488163528315)            0\n",
       "1  POINT (-1.766479749304226 36.36067806002004)            0\n",
       "2   POINT (-2.24967854680042 36.34506837156938)            0\n",
       "3  POINT (-2.749406409434271 36.33775408387967)            0\n",
       "4   POINT (-0.32758660941558 36.91924779218665)            0"
      ]
     },
     "execution_count": 17,
     "metadata": {},
     "output_type": "execute_result"
    }
   ],
   "source": [
    "clip = sjoin(pts, mask, how='inner', op='within')\n",
    "print(len(clip))\n",
    "clip.head()"
   ]
  },
  {
   "cell_type": "code",
   "execution_count": 18,
   "metadata": {},
   "outputs": [],
   "source": [
    "clip.to_file('../missing_' + n + '.geojson', driver='GeoJSON')\n",
    "clip.to_file('../missing_' + n + '.shp')\n",
    "#mask.to_file('../missing_' + n + '_buff.geojson', driver='GeoJSON')"
   ]
  }
 ],
 "metadata": {
  "kernelspec": {
   "display_name": "Python 3",
   "language": "python",
   "name": "python3"
  },
  "language_info": {
   "codemirror_mode": {
    "name": "ipython",
    "version": 3
   },
   "file_extension": ".py",
   "mimetype": "text/x-python",
   "name": "python",
   "nbconvert_exporter": "python",
   "pygments_lexer": "ipython3",
   "version": "3.7.4"
  }
 },
 "nbformat": 4,
 "nbformat_minor": 2
}
