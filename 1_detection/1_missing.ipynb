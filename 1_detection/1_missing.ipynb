{
 "cells": [
  {
   "cell_type": "code",
   "execution_count": 121,
   "metadata": {},
   "outputs": [
    {
     "name": "stdout",
     "output_type": "stream",
     "text": [
      "1435\n",
      "1644\n",
      "3079\n"
     ]
    }
   ],
   "source": [
    "import os\n",
    "import pandas as pd\n",
    "import geopandas as gpd\n",
    "from shapely.geometry import Point\n",
    "from geopandas.tools import sjoin\n",
    "\n",
    "pts1 = gpd.read_file('../targets_0_sar/ITA/sar_ITA_e_v2.geojson')\n",
    "pts2 = gpd.read_file('../targets_0_sar/ITA/sar_ITA_w_v2.geojson')\n",
    "pts = pd.concat([pts1, pts2])\n",
    "print(len(pts1))\n",
    "print(len(pts2))\n",
    "print(len(pts))"
   ]
  },
  {
   "cell_type": "code",
   "execution_count": 122,
   "metadata": {},
   "outputs": [
    {
     "name": "stdout",
     "output_type": "stream",
     "text": [
      "1289\n"
     ]
    }
   ],
   "source": [
    "#load images\n",
    "n = 'italy'\n",
    "folder = '/Users/Zack/0_thesis_bing/imagery_' + n + '/'\n",
    "files = os.listdir(folder)\n",
    "print(len(files))\n",
    "\n",
    "#extract coordinates\n",
    "x_list, y_list = [], []\n",
    "for i in range(len(files)):\n",
    "    #extract bottom right coordinate from image name\n",
    "    img = files[i]\n",
    "    x1 = float(img.split(',')[1])\n",
    "    y1 = float(img.split(',')[2])\n",
    "    x2 = float(img.split(',')[3])\n",
    "    y2 = float((img.split(',')[4]).split(')')[0])\n",
    "    x = (x1+x2)/2\n",
    "    y = (y1+y2)/2\n",
    "    x_list.append(x)\n",
    "    y_list.append(y)"
   ]
  },
  {
   "cell_type": "code",
   "execution_count": 123,
   "metadata": {},
   "outputs": [
    {
     "data": {
      "text/plain": [
       "1289"
      ]
     },
     "execution_count": 123,
     "metadata": {},
     "output_type": "execute_result"
    }
   ],
   "source": [
    "geometry = [Point(i) for i in zip(y_list, x_list)]\n",
    "missing = gpd.GeoDataFrame(geometry=geometry, crs={'init' :'EPSG:4326'})\n",
    "len(missing)"
   ]
  },
  {
   "cell_type": "code",
   "execution_count": 124,
   "metadata": {},
   "outputs": [],
   "source": [
    "missing = missing.to_crs({'init': 'EPSG:7794'})\n",
    "mask = gpd.GeoDataFrame(geometry = missing.buffer(10))\n",
    "mask['Dissolve'] = 0\n",
    "mask = mask.dissolve('Dissolve')\n",
    "mask = mask.to_crs({'init': 'EPSG:4326'})"
   ]
  },
  {
   "cell_type": "code",
   "execution_count": 125,
   "metadata": {},
   "outputs": [
    {
     "name": "stdout",
     "output_type": "stream",
     "text": [
      "1289\n"
     ]
    },
    {
     "data": {
      "text/html": [
       "<div>\n",
       "<style scoped>\n",
       "    .dataframe tbody tr th:only-of-type {\n",
       "        vertical-align: middle;\n",
       "    }\n",
       "\n",
       "    .dataframe tbody tr th {\n",
       "        vertical-align: top;\n",
       "    }\n",
       "\n",
       "    .dataframe thead th {\n",
       "        text-align: right;\n",
       "    }\n",
       "</style>\n",
       "<table border=\"1\" class=\"dataframe\">\n",
       "  <thead>\n",
       "    <tr style=\"text-align: right;\">\n",
       "      <th></th>\n",
       "      <th>geometry</th>\n",
       "      <th>index_right</th>\n",
       "    </tr>\n",
       "  </thead>\n",
       "  <tbody>\n",
       "    <tr>\n",
       "      <td>0</td>\n",
       "      <td>POINT (15.22870738442634 36.32827059812602)</td>\n",
       "      <td>0</td>\n",
       "    </tr>\n",
       "    <tr>\n",
       "      <td>1</td>\n",
       "      <td>POINT (14.79123570577692 36.38562740834784)</td>\n",
       "      <td>0</td>\n",
       "    </tr>\n",
       "    <tr>\n",
       "      <td>2</td>\n",
       "      <td>POINT (15.55044433927199 36.4481269376619)</td>\n",
       "      <td>0</td>\n",
       "    </tr>\n",
       "    <tr>\n",
       "      <td>3</td>\n",
       "      <td>POINT (14.36397979581136 36.46617121034787)</td>\n",
       "      <td>0</td>\n",
       "    </tr>\n",
       "    <tr>\n",
       "      <td>4</td>\n",
       "      <td>POINT (13.33590466288859 36.39285732614894)</td>\n",
       "      <td>0</td>\n",
       "    </tr>\n",
       "  </tbody>\n",
       "</table>\n",
       "</div>"
      ],
      "text/plain": [
       "                                      geometry  index_right\n",
       "0  POINT (15.22870738442634 36.32827059812602)            0\n",
       "1  POINT (14.79123570577692 36.38562740834784)            0\n",
       "2   POINT (15.55044433927199 36.4481269376619)            0\n",
       "3  POINT (14.36397979581136 36.46617121034787)            0\n",
       "4  POINT (13.33590466288859 36.39285732614894)            0"
      ]
     },
     "execution_count": 125,
     "metadata": {},
     "output_type": "execute_result"
    }
   ],
   "source": [
    "clip = sjoin(pts, mask, how='inner', op='within')\n",
    "print(len(clip))\n",
    "clip.head()"
   ]
  },
  {
   "cell_type": "code",
   "execution_count": 126,
   "metadata": {},
   "outputs": [],
   "source": [
    "clip.to_file('../missing_' + n + '.geojson', driver='GeoJSON')\n",
    "#mask.to_file('../missing_' + n + '_buff.geojson', driver='GeoJSON')"
   ]
  }
 ],
 "metadata": {
  "kernelspec": {
   "display_name": "Python 3",
   "language": "python",
   "name": "python3"
  },
  "language_info": {
   "codemirror_mode": {
    "name": "ipython",
    "version": 3
   },
   "file_extension": ".py",
   "mimetype": "text/x-python",
   "name": "python",
   "nbconvert_exporter": "python",
   "pygments_lexer": "ipython3",
   "version": "3.7.4"
  }
 },
 "nbformat": 4,
 "nbformat_minor": 2
}
