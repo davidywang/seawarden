{
 "cells": [
  {
   "cell_type": "code",
   "execution_count": 1,
   "metadata": {},
   "outputs": [],
   "source": [
    "#extract all files and move them to one folder\n",
    "import os\n",
    "import shutil\n",
    "\n",
    "source = '/Users/Zack/0_ghrsst/2019'\n",
    "target = '/Users/Zack/0_ghrsst/ghrsst_2019'\n",
    "\n",
    "for root, dirs, files in os.walk(source):  # replace the . with your starting directory\n",
    "   for file in files:\n",
    "      path_file = os.path.join(root,file)\n",
    "      shutil.copy2(path_file, target) # change you destination dir"
   ]
  }
 ],
 "metadata": {
  "kernelspec": {
   "display_name": "Python 3",
   "language": "python",
   "name": "python3"
  },
  "language_info": {
   "codemirror_mode": {
    "name": "ipython",
    "version": 3
   },
   "file_extension": ".py",
   "mimetype": "text/x-python",
   "name": "python",
   "nbconvert_exporter": "python",
   "pygments_lexer": "ipython3",
   "version": "3.7.4"
  }
 },
 "nbformat": 4,
 "nbformat_minor": 2
}
